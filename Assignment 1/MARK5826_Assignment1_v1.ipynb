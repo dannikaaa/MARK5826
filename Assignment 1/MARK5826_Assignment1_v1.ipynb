{
  "nbformat": 4,
  "nbformat_minor": 0,
  "metadata": {
    "colab": {
      "name": "MARK5826 - Assignment1 v1.ipynb",
      "version": "0.3.2",
      "provenance": [],
      "collapsed_sections": []
    },
    "kernelspec": {
      "name": "python3",
      "display_name": "Python 3"
    }
  },
  "cells": [
    {
      "cell_type": "markdown",
      "metadata": {
        "id": "8NtxDrBVFZww",
        "colab_type": "text"
      },
      "source": [
        "![alt text](https://www.business.unsw.edu.au/style%20library/asb/assets/images/logo-unsw.png)\n"
      ]
    },
    {
      "cell_type": "markdown",
      "metadata": {
        "id": "NHPGybMwANu2",
        "colab_type": "text"
      },
      "source": [
        "# MARK5826: Assignment 1"
      ]
    },
    {
      "cell_type": "markdown",
      "metadata": {
        "id": "JlkCn0ahw7dQ",
        "colab_type": "text"
      },
      "source": [
        "***Please submit to https://moodle.telt.unsw.edu.au/mod/assign/view.php?id=2364296  with this format Zid_Assignment1.ipynb eg:\n",
        "z5011973_Assignment1.ipynb. Deadline: Wed 03 Jul @ 10 pm. Penalty -1 a day for a late submission. No cutoff-date. ***"
      ]
    },
    {
      "cell_type": "markdown",
      "metadata": {
        "id": "z9Vtet7kAqyj",
        "colab_type": "text"
      },
      "source": [
        "## Question 1 (3 marks):\n",
        "\n",
        "In user/item -based collaborative filtering, we only print out the movie ids. Now, change the recommended ids to movie names. You will need to process the ml-100k.item file and you can use the following code to read the file."
      ]
    },
    {
      "cell_type": "markdown",
      "metadata": {
        "id": "efjqAGUYOqDo",
        "colab_type": "text"
      },
      "source": [
        "### Overview of the Movie MetaData"
      ]
    },
    {
      "cell_type": "code",
      "metadata": {
        "id": "gF1Ehr9DZ_cH",
        "colab_type": "code",
        "outputId": "e5efa603-937e-4fbf-c882-fdb294993e92",
        "colab": {
          "resources": {
            "http://localhost:8080/nbextensions/google.colab/files.js": {
              "data": "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",
              "ok": true,
              "headers": [
                [
                  "content-type",
                  "application/javascript"
                ]
              ],
              "status": 200,
              "status_text": ""
            }
          },
          "base_uri": "https://localhost:8080/",
          "height": 58
        }
      },
      "source": [
        "from google.colab import files\n",
        "\n",
        "# Upload ml-100k.item\n",
        "files.upload()"
      ],
      "execution_count": 4,
      "outputs": [
        {
          "output_type": "display_data",
          "data": {
            "text/html": [
              "\n",
              "     <input type=\"file\" id=\"files-9d3c7af9-8ef1-4995-9e28-d4ac70a45d23\" name=\"files[]\" multiple disabled />\n",
              "     <output id=\"result-9d3c7af9-8ef1-4995-9e28-d4ac70a45d23\">\n",
              "      Upload widget is only available when the cell has been executed in the\n",
              "      current browser session. Please rerun this cell to enable.\n",
              "      </output>\n",
              "      <script src=\"/nbextensions/google.colab/files.js\"></script> "
            ],
            "text/plain": [
              "<IPython.core.display.HTML object>"
            ]
          },
          "metadata": {
            "tags": []
          }
        },
        {
          "output_type": "execute_result",
          "data": {
            "text/plain": [
              "{}"
            ]
          },
          "metadata": {
            "tags": []
          },
          "execution_count": 4
        }
      ]
    },
    {
      "cell_type": "code",
      "metadata": {
        "id": "Vz3JYWfyaIiP",
        "colab_type": "code",
        "outputId": "2657d194-30c6-4ec5-e8a0-17d1d9b41cce",
        "colab": {
          "base_uri": "https://localhost:8080/",
          "height": 202
        }
      },
      "source": [
        "import pandas as pd\n",
        "\n",
        "m_cols = ['movie_id', 'title', 'release_date', 'video_release_date', 'imdb_url']\n",
        "movie_metadata_df = pd.read_csv('ml-100k.item', sep='|', names=m_cols, usecols=range(5), encoding='latin-1')\n",
        "movie_metadata_df.head(5)\n"
      ],
      "execution_count": 5,
      "outputs": [
        {
          "output_type": "execute_result",
          "data": {
            "text/html": [
              "<div>\n",
              "<style scoped>\n",
              "    .dataframe tbody tr th:only-of-type {\n",
              "        vertical-align: middle;\n",
              "    }\n",
              "\n",
              "    .dataframe tbody tr th {\n",
              "        vertical-align: top;\n",
              "    }\n",
              "\n",
              "    .dataframe thead th {\n",
              "        text-align: right;\n",
              "    }\n",
              "</style>\n",
              "<table border=\"1\" class=\"dataframe\">\n",
              "  <thead>\n",
              "    <tr style=\"text-align: right;\">\n",
              "      <th></th>\n",
              "      <th>movie_id</th>\n",
              "      <th>title</th>\n",
              "      <th>release_date</th>\n",
              "      <th>video_release_date</th>\n",
              "      <th>imdb_url</th>\n",
              "    </tr>\n",
              "  </thead>\n",
              "  <tbody>\n",
              "    <tr>\n",
              "      <th>0</th>\n",
              "      <td>1</td>\n",
              "      <td>Toy Story (1995)</td>\n",
              "      <td>01-Jan-1995</td>\n",
              "      <td>NaN</td>\n",
              "      <td>http://us.imdb.com/M/title-exact?Toy%20Story%2...</td>\n",
              "    </tr>\n",
              "    <tr>\n",
              "      <th>1</th>\n",
              "      <td>2</td>\n",
              "      <td>GoldenEye (1995)</td>\n",
              "      <td>01-Jan-1995</td>\n",
              "      <td>NaN</td>\n",
              "      <td>http://us.imdb.com/M/title-exact?GoldenEye%20(...</td>\n",
              "    </tr>\n",
              "    <tr>\n",
              "      <th>2</th>\n",
              "      <td>3</td>\n",
              "      <td>Four Rooms (1995)</td>\n",
              "      <td>01-Jan-1995</td>\n",
              "      <td>NaN</td>\n",
              "      <td>http://us.imdb.com/M/title-exact?Four%20Rooms%...</td>\n",
              "    </tr>\n",
              "    <tr>\n",
              "      <th>3</th>\n",
              "      <td>4</td>\n",
              "      <td>Get Shorty (1995)</td>\n",
              "      <td>01-Jan-1995</td>\n",
              "      <td>NaN</td>\n",
              "      <td>http://us.imdb.com/M/title-exact?Get%20Shorty%...</td>\n",
              "    </tr>\n",
              "    <tr>\n",
              "      <th>4</th>\n",
              "      <td>5</td>\n",
              "      <td>Copycat (1995)</td>\n",
              "      <td>01-Jan-1995</td>\n",
              "      <td>NaN</td>\n",
              "      <td>http://us.imdb.com/M/title-exact?Copycat%20(1995)</td>\n",
              "    </tr>\n",
              "  </tbody>\n",
              "</table>\n",
              "</div>"
            ],
            "text/plain": [
              "   movie_id  ...                                           imdb_url\n",
              "0         1  ...  http://us.imdb.com/M/title-exact?Toy%20Story%2...\n",
              "1         2  ...  http://us.imdb.com/M/title-exact?GoldenEye%20(...\n",
              "2         3  ...  http://us.imdb.com/M/title-exact?Four%20Rooms%...\n",
              "3         4  ...  http://us.imdb.com/M/title-exact?Get%20Shorty%...\n",
              "4         5  ...  http://us.imdb.com/M/title-exact?Copycat%20(1995)\n",
              "\n",
              "[5 rows x 5 columns]"
            ]
          },
          "metadata": {
            "tags": []
          },
          "execution_count": 5
        }
      ]
    },
    {
      "cell_type": "markdown",
      "metadata": {
        "id": "CTe4jTvZH-5b",
        "colab_type": "text"
      },
      "source": [
        "Select 'movie_id' and 'title' from the meta_data dataframe"
      ]
    },
    {
      "cell_type": "code",
      "metadata": {
        "id": "ro7lXo1AIG1P",
        "colab_type": "code",
        "colab": {}
      },
      "source": [
        "movie_metadata_df = movie_metadata_df[['movie_id', 'title']]"
      ],
      "execution_count": 0,
      "outputs": []
    },
    {
      "cell_type": "code",
      "metadata": {
        "id": "t5ja0lEoc2QC",
        "colab_type": "code",
        "outputId": "f10a8053-8533-4a98-9a39-0e3b403f44df",
        "colab": {
          "base_uri": "https://localhost:8080/",
          "height": 355
        }
      },
      "source": [
        "movie_metadata_df.head(10)"
      ],
      "execution_count": 8,
      "outputs": [
        {
          "output_type": "execute_result",
          "data": {
            "text/html": [
              "<div>\n",
              "<style scoped>\n",
              "    .dataframe tbody tr th:only-of-type {\n",
              "        vertical-align: middle;\n",
              "    }\n",
              "\n",
              "    .dataframe tbody tr th {\n",
              "        vertical-align: top;\n",
              "    }\n",
              "\n",
              "    .dataframe thead th {\n",
              "        text-align: right;\n",
              "    }\n",
              "</style>\n",
              "<table border=\"1\" class=\"dataframe\">\n",
              "  <thead>\n",
              "    <tr style=\"text-align: right;\">\n",
              "      <th></th>\n",
              "      <th>movie_id</th>\n",
              "      <th>title</th>\n",
              "    </tr>\n",
              "  </thead>\n",
              "  <tbody>\n",
              "    <tr>\n",
              "      <th>0</th>\n",
              "      <td>1</td>\n",
              "      <td>Toy Story (1995)</td>\n",
              "    </tr>\n",
              "    <tr>\n",
              "      <th>1</th>\n",
              "      <td>2</td>\n",
              "      <td>GoldenEye (1995)</td>\n",
              "    </tr>\n",
              "    <tr>\n",
              "      <th>2</th>\n",
              "      <td>3</td>\n",
              "      <td>Four Rooms (1995)</td>\n",
              "    </tr>\n",
              "    <tr>\n",
              "      <th>3</th>\n",
              "      <td>4</td>\n",
              "      <td>Get Shorty (1995)</td>\n",
              "    </tr>\n",
              "    <tr>\n",
              "      <th>4</th>\n",
              "      <td>5</td>\n",
              "      <td>Copycat (1995)</td>\n",
              "    </tr>\n",
              "    <tr>\n",
              "      <th>5</th>\n",
              "      <td>6</td>\n",
              "      <td>Shanghai Triad (Yao a yao yao dao waipo qiao) ...</td>\n",
              "    </tr>\n",
              "    <tr>\n",
              "      <th>6</th>\n",
              "      <td>7</td>\n",
              "      <td>Twelve Monkeys (1995)</td>\n",
              "    </tr>\n",
              "    <tr>\n",
              "      <th>7</th>\n",
              "      <td>8</td>\n",
              "      <td>Babe (1995)</td>\n",
              "    </tr>\n",
              "    <tr>\n",
              "      <th>8</th>\n",
              "      <td>9</td>\n",
              "      <td>Dead Man Walking (1995)</td>\n",
              "    </tr>\n",
              "    <tr>\n",
              "      <th>9</th>\n",
              "      <td>10</td>\n",
              "      <td>Richard III (1995)</td>\n",
              "    </tr>\n",
              "  </tbody>\n",
              "</table>\n",
              "</div>"
            ],
            "text/plain": [
              "   movie_id                                              title\n",
              "0         1                                   Toy Story (1995)\n",
              "1         2                                   GoldenEye (1995)\n",
              "2         3                                  Four Rooms (1995)\n",
              "3         4                                  Get Shorty (1995)\n",
              "4         5                                     Copycat (1995)\n",
              "5         6  Shanghai Triad (Yao a yao yao dao waipo qiao) ...\n",
              "6         7                              Twelve Monkeys (1995)\n",
              "7         8                                        Babe (1995)\n",
              "8         9                            Dead Man Walking (1995)\n",
              "9        10                                 Richard III (1995)"
            ]
          },
          "metadata": {
            "tags": []
          },
          "execution_count": 8
        }
      ]
    },
    {
      "cell_type": "markdown",
      "metadata": {
        "id": "Cg9m_CwzIfRQ",
        "colab_type": "text"
      },
      "source": [
        "### Your Task Starts Here\n",
        "\n",
        "Now, define a function that takes the recommended item ids and the movie metadata dataframe as arguements, and return a list of titles.\n",
        "\n",
        "Refer to the Pandas package on how to process the Pandas DataFrame [here](http://pandas.pydata.org/pandas-docs/stable/)."
      ]
    },
    {
      "cell_type": "code",
      "metadata": {
        "id": "PGmLgFJ3IwKJ",
        "colab_type": "code",
        "colab": {}
      },
      "source": [
        "def id2names(recommended_ids, movie_metadata_df):\n",
        "    # Write your code here\n",
        "    l = []\n",
        "    for id in recommended_ids:\n",
        "      l.append(str(movie_metadata_df[movie_metadata_df.movie_id == id].title.values[0]))\n",
        "    return l"
      ],
      "execution_count": 0,
      "outputs": []
    },
    {
      "cell_type": "code",
      "metadata": {
        "id": "oNMEktWOGNL2",
        "colab_type": "code",
        "outputId": "f4a81406-ec29-4877-8d2a-faaabf565d29",
        "colab": {
          "base_uri": "https://localhost:8080/",
          "height": 35
        }
      },
      "source": [
        "tmp = movie_metadata_df[movie_metadata_df.movie_id == 10]\n",
        "tmp.title.values[0]"
      ],
      "execution_count": 10,
      "outputs": [
        {
          "output_type": "execute_result",
          "data": {
            "text/plain": [
              "'Richard III (1995)'"
            ]
          },
          "metadata": {
            "tags": []
          },
          "execution_count": 10
        }
      ]
    },
    {
      "cell_type": "code",
      "metadata": {
        "id": "WN9g8F_68EhY",
        "colab_type": "code",
        "outputId": "0470494f-9cf8-4d36-ec84-62f151ca5208",
        "colab": {
          "base_uri": "https://localhost:8080/",
          "height": 35
        }
      },
      "source": [
        "id2names([1,2,10], movie_metadata_df)"
      ],
      "execution_count": 11,
      "outputs": [
        {
          "output_type": "execute_result",
          "data": {
            "text/plain": [
              "['Toy Story (1995)', 'GoldenEye (1995)', 'Richard III (1995)']"
            ]
          },
          "metadata": {
            "tags": []
          },
          "execution_count": 11
        }
      ]
    },
    {
      "cell_type": "code",
      "metadata": {
        "id": "rzaatav1GChb",
        "colab_type": "code",
        "outputId": "f8738218-10e9-4d66-e315-a34f9f1954be",
        "colab": {
          "base_uri": "https://localhost:8080/",
          "height": 35
        }
      },
      "source": [
        "id2names([1], movie_metadata_df)"
      ],
      "execution_count": 12,
      "outputs": [
        {
          "output_type": "execute_result",
          "data": {
            "text/plain": [
              "['Toy Story (1995)']"
            ]
          },
          "metadata": {
            "tags": []
          },
          "execution_count": 12
        }
      ]
    },
    {
      "cell_type": "markdown",
      "metadata": {
        "id": "O0ZCVcC0Jy48",
        "colab_type": "text"
      },
      "source": [
        "### Try It For Recommendation\n",
        "\n",
        "Try your code in the one of the recommendation methods you have learned.\n",
        "\n",
        "For example, user-based collaborative filtering."
      ]
    },
    {
      "cell_type": "markdown",
      "metadata": {
        "id": "40UhgjSSPSo9",
        "colab_type": "text"
      },
      "source": [
        "#### You do not need to change anything for the following code. But, you need to run it!"
      ]
    },
    {
      "cell_type": "code",
      "metadata": {
        "id": "RqdKxEfwKPus",
        "colab_type": "code",
        "outputId": "2befb8f1-5919-4811-99f4-dd47ca1acbae",
        "colab": {
          "resources": {
            "http://localhost:8080/nbextensions/google.colab/files.js": {
              "data": "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",
              "ok": true,
              "headers": [
                [
                  "content-type",
                  "application/javascript"
                ]
              ],
              "status": 200,
              "status_text": ""
            }
          },
          "base_uri": "https://localhost:8080/",
          "height": 58
        }
      },
      "source": [
        "from google.colab import files\n",
        "\n",
        "# Upload MovieLens 100k Dataset\n",
        "files.upload()"
      ],
      "execution_count": 13,
      "outputs": [
        {
          "output_type": "display_data",
          "data": {
            "text/html": [
              "\n",
              "     <input type=\"file\" id=\"files-a95fcf6d-41b0-4420-aca8-82cd8ae955ab\" name=\"files[]\" multiple disabled />\n",
              "     <output id=\"result-a95fcf6d-41b0-4420-aca8-82cd8ae955ab\">\n",
              "      Upload widget is only available when the cell has been executed in the\n",
              "      current browser session. Please rerun this cell to enable.\n",
              "      </output>\n",
              "      <script src=\"/nbextensions/google.colab/files.js\"></script> "
            ],
            "text/plain": [
              "<IPython.core.display.HTML object>"
            ]
          },
          "metadata": {
            "tags": []
          }
        },
        {
          "output_type": "execute_result",
          "data": {
            "text/plain": [
              "{}"
            ]
          },
          "metadata": {
            "tags": []
          },
          "execution_count": 13
        }
      ]
    },
    {
      "cell_type": "code",
      "metadata": {
        "id": "n3yi-_gQKQkK",
        "colab_type": "code",
        "outputId": "7a4a4bee-3497-40b1-d69b-9d830c60425e",
        "colab": {
          "resources": {
            "http://localhost:8080/nbextensions/google.colab/files.js": {
              "data": "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",
              "ok": true,
              "headers": [
                [
                  "content-type",
                  "application/javascript"
                ]
              ],
              "status": 200,
              "status_text": ""
            }
          },
          "base_uri": "https://localhost:8080/",
          "height": 58
        }
      },
      "source": [
        "from google.colab import files\n",
        "\n",
        "# Upload utils.py\n",
        "files.upload()"
      ],
      "execution_count": 0,
      "outputs": [
        {
          "output_type": "display_data",
          "data": {
            "text/html": [
              "\n",
              "     <input type=\"file\" id=\"files-695d881e-8dc8-4156-be16-1f83edaed558\" name=\"files[]\" multiple disabled />\n",
              "     <output id=\"result-695d881e-8dc8-4156-be16-1f83edaed558\">\n",
              "      Upload widget is only available when the cell has been executed in the\n",
              "      current browser session. Please rerun this cell to enable.\n",
              "      </output>\n",
              "      <script src=\"/nbextensions/google.colab/files.js\"></script> "
            ],
            "text/plain": [
              "<IPython.core.display.HTML object>"
            ]
          },
          "metadata": {
            "tags": []
          }
        },
        {
          "output_type": "execute_result",
          "data": {
            "text/plain": [
              "{}"
            ]
          },
          "metadata": {
            "tags": []
          },
          "execution_count": 10
        }
      ]
    },
    {
      "cell_type": "code",
      "metadata": {
        "id": "qXpb6YraKTo9",
        "colab_type": "code",
        "outputId": "a2571871-c479-446b-9441-79a2cef5c7bc",
        "colab": {
          "base_uri": "https://localhost:8080/",
          "height": 263
        }
      },
      "source": [
        "# Install the scikit-surprise library\n",
        "!pip install scikit-surprise"
      ],
      "execution_count": 14,
      "outputs": [
        {
          "output_type": "stream",
          "text": [
            "Collecting scikit-surprise\n",
            "\u001b[?25l  Downloading https://files.pythonhosted.org/packages/4d/fc/cd4210b247d1dca421c25994740cbbf03c5e980e31881f10eaddf45fdab0/scikit-surprise-1.0.6.tar.gz (3.3MB)\n",
            "\r\u001b[K     |                                | 10kB 10.0MB/s eta 0:00:01\r\u001b[K     |▏                               | 20kB 1.8MB/s eta 0:00:02\r\u001b[K     |▎                               | 30kB 2.6MB/s eta 0:00:02\r\u001b[K     |▍                               | 40kB 1.7MB/s eta 0:00:02\r\u001b[K     |▌                               | 51kB 2.1MB/s eta 0:00:02\r\u001b[K     |▋                               | 61kB 2.5MB/s eta 0:00:02\r\u001b[K     |▊                               | 71kB 2.9MB/s eta 0:00:02\r\u001b[K     |▉                               | 81kB 3.3MB/s eta 0:00:01\r\u001b[K     |█                               | 92kB 3.7MB/s eta 0:00:01\r\u001b[K     |█                               | 102kB 2.8MB/s eta 0:00:02\r\u001b[K     |█                               | 112kB 2.8MB/s eta 0:00:02\r\u001b[K     |█▏                              | 122kB 2.8MB/s eta 0:00:02\r\u001b[K     |█▎                              | 133kB 2.8MB/s eta 0:00:02\r\u001b[K     |█▍                              | 143kB 2.8MB/s eta 0:00:02\r\u001b[K     |█▌                              | 153kB 2.8MB/s eta 0:00:02\r\u001b[K     |█▋                              | 163kB 2.8MB/s eta 0:00:02\r\u001b[K     |█▊                              | 174kB 2.8MB/s eta 0:00:02\r\u001b[K     |█▉                              | 184kB 2.8MB/s eta 0:00:02\r\u001b[K     |█▉                              | 194kB 2.8MB/s eta 0:00:02\r\u001b[K     |██                              | 204kB 2.8MB/s eta 0:00:02\r\u001b[K     |██                              | 215kB 2.8MB/s eta 0:00:02\r\u001b[K     |██▏                             | 225kB 2.8MB/s eta 0:00:02\r\u001b[K     |██▎                             | 235kB 2.8MB/s eta 0:00:02\r\u001b[K     |██▍                             | 245kB 2.8MB/s eta 0:00:02\r\u001b[K     |██▌                             | 256kB 2.8MB/s eta 0:00:02\r\u001b[K     |██▋                             | 266kB 2.8MB/s eta 0:00:02\r\u001b[K     |██▊                             | 276kB 2.8MB/s eta 0:00:02\r\u001b[K     |██▊                             | 286kB 2.8MB/s eta 0:00:02\r\u001b[K     |██▉                             | 296kB 2.8MB/s eta 0:00:02\r\u001b[K     |███                             | 307kB 2.8MB/s eta 0:00:02\r\u001b[K     |███                             | 317kB 2.8MB/s eta 0:00:02\r\u001b[K     |███▏                            | 327kB 2.8MB/s eta 0:00:02\r\u001b[K     |███▎                            | 337kB 2.8MB/s eta 0:00:02\r\u001b[K     |███▍                            | 348kB 2.8MB/s eta 0:00:02\r\u001b[K     |███▌                            | 358kB 2.8MB/s eta 0:00:02\r\u001b[K     |███▋                            | 368kB 2.8MB/s eta 0:00:02\r\u001b[K     |███▊                            | 378kB 2.8MB/s eta 0:00:02\r\u001b[K     |███▊                            | 389kB 2.8MB/s eta 0:00:02\r\u001b[K     |███▉                            | 399kB 2.8MB/s eta 0:00:02\r\u001b[K     |████                            | 409kB 2.8MB/s eta 0:00:02\r\u001b[K     |████                            | 419kB 2.8MB/s eta 0:00:02\r\u001b[K     |████▏                           | 430kB 2.8MB/s eta 0:00:02\r\u001b[K     |████▎                           | 440kB 2.8MB/s eta 0:00:02\r\u001b[K     |████▍                           | 450kB 2.8MB/s eta 0:00:02\r\u001b[K     |████▌                           | 460kB 2.8MB/s eta 0:00:02\r\u001b[K     |████▋                           | 471kB 2.8MB/s eta 0:00:02\r\u001b[K     |████▋                           | 481kB 2.8MB/s eta 0:00:02\r\u001b[K     |████▊                           | 491kB 2.8MB/s eta 0:00:02\r\u001b[K     |████▉                           | 501kB 2.8MB/s eta 0:00:01\r\u001b[K     |█████                           | 512kB 2.8MB/s eta 0:00:01\r\u001b[K     |█████                           | 522kB 2.8MB/s eta 0:00:01\r\u001b[K     |█████▏                          | 532kB 2.8MB/s eta 0:00:01\r\u001b[K     |█████▎                          | 542kB 2.8MB/s eta 0:00:01\r\u001b[K     |█████▍                          | 552kB 2.8MB/s eta 0:00:01\r\u001b[K     |█████▌                          | 563kB 2.8MB/s eta 0:00:01\r\u001b[K     |█████▌                          | 573kB 2.8MB/s eta 0:00:01\r\u001b[K     |█████▋                          | 583kB 2.8MB/s eta 0:00:01\r\u001b[K     |█████▊                          | 593kB 2.8MB/s eta 0:00:01\r\u001b[K     |█████▉                          | 604kB 2.8MB/s eta 0:00:01\r\u001b[K     |██████                          | 614kB 2.8MB/s eta 0:00:01\r\u001b[K     |██████                          | 624kB 2.8MB/s eta 0:00:01\r\u001b[K     |██████▏                         | 634kB 2.8MB/s eta 0:00:01\r\u001b[K     |██████▎                         | 645kB 2.8MB/s eta 0:00:01\r\u001b[K     |██████▍                         | 655kB 2.8MB/s eta 0:00:01\r\u001b[K     |██████▍                         | 665kB 2.8MB/s eta 0:00:01\r\u001b[K     |██████▌                         | 675kB 2.8MB/s eta 0:00:01\r\u001b[K     |██████▋                         | 686kB 2.8MB/s eta 0:00:01\r\u001b[K     |██████▊                         | 696kB 2.8MB/s eta 0:00:01\r\u001b[K     |██████▉                         | 706kB 2.8MB/s eta 0:00:01\r\u001b[K     |███████                         | 716kB 2.8MB/s eta 0:00:01\r\u001b[K     |███████                         | 727kB 2.8MB/s eta 0:00:01\r\u001b[K     |███████▏                        | 737kB 2.8MB/s eta 0:00:01\r\u001b[K     |███████▎                        | 747kB 2.8MB/s eta 0:00:01\r\u001b[K     |███████▍                        | 757kB 2.8MB/s eta 0:00:01\r\u001b[K     |███████▍                        | 768kB 2.8MB/s eta 0:00:01\r\u001b[K     |███████▌                        | 778kB 2.8MB/s eta 0:00:01\r\u001b[K     |███████▋                        | 788kB 2.8MB/s eta 0:00:01\r\u001b[K     |███████▊                        | 798kB 2.8MB/s eta 0:00:01\r\u001b[K     |███████▉                        | 808kB 2.8MB/s eta 0:00:01\r\u001b[K     |████████                        | 819kB 2.8MB/s eta 0:00:01\r\u001b[K     |████████                        | 829kB 2.8MB/s eta 0:00:01\r\u001b[K     |████████▏                       | 839kB 2.8MB/s eta 0:00:01\r\u001b[K     |████████▎                       | 849kB 2.8MB/s eta 0:00:01\r\u001b[K     |████████▎                       | 860kB 2.8MB/s eta 0:00:01\r\u001b[K     |████████▍                       | 870kB 2.8MB/s eta 0:00:01\r\u001b[K     |████████▌                       | 880kB 2.8MB/s eta 0:00:01\r\u001b[K     |████████▋                       | 890kB 2.8MB/s eta 0:00:01\r\u001b[K     |████████▊                       | 901kB 2.8MB/s eta 0:00:01\r\u001b[K     |████████▉                       | 911kB 2.8MB/s eta 0:00:01\r\u001b[K     |█████████                       | 921kB 2.8MB/s eta 0:00:01\r\u001b[K     |█████████                       | 931kB 2.8MB/s eta 0:00:01\r\u001b[K     |█████████▏                      | 942kB 2.8MB/s eta 0:00:01\r\u001b[K     |█████████▏                      | 952kB 2.8MB/s eta 0:00:01\r\u001b[K     |█████████▎                      | 962kB 2.8MB/s eta 0:00:01\r\u001b[K     |█████████▍                      | 972kB 2.8MB/s eta 0:00:01\r\u001b[K     |█████████▌                      | 983kB 2.8MB/s eta 0:00:01\r\u001b[K     |█████████▋                      | 993kB 2.8MB/s eta 0:00:01\r\u001b[K     |█████████▊                      | 1.0MB 2.8MB/s eta 0:00:01\r\u001b[K     |█████████▉                      | 1.0MB 2.8MB/s eta 0:00:01\r\u001b[K     |██████████                      | 1.0MB 2.8MB/s eta 0:00:01\r\u001b[K     |██████████                      | 1.0MB 2.8MB/s eta 0:00:01\r\u001b[K     |██████████                      | 1.0MB 2.8MB/s eta 0:00:01\r\u001b[K     |██████████▏                     | 1.1MB 2.8MB/s eta 0:00:01\r\u001b[K     |██████████▎                     | 1.1MB 2.8MB/s eta 0:00:01\r\u001b[K     |██████████▍                     | 1.1MB 2.8MB/s eta 0:00:01\r\u001b[K     |██████████▌                     | 1.1MB 2.8MB/s eta 0:00:01\r\u001b[K     |██████████▋                     | 1.1MB 2.8MB/s eta 0:00:01\r\u001b[K     |██████████▊                     | 1.1MB 2.8MB/s eta 0:00:01\r\u001b[K     |██████████▉                     | 1.1MB 2.8MB/s eta 0:00:01\r\u001b[K     |███████████                     | 1.1MB 2.8MB/s eta 0:00:01\r\u001b[K     |███████████                     | 1.1MB 2.8MB/s eta 0:00:01\r\u001b[K     |███████████                     | 1.1MB 2.8MB/s eta 0:00:01\r\u001b[K     |███████████▏                    | 1.2MB 2.8MB/s eta 0:00:01\r\u001b[K     |███████████▎                    | 1.2MB 2.8MB/s eta 0:00:01\r\u001b[K     |███████████▍                    | 1.2MB 2.8MB/s eta 0:00:01\r\u001b[K     |███████████▌                    | 1.2MB 2.8MB/s eta 0:00:01\r\u001b[K     |███████████▋                    | 1.2MB 2.8MB/s eta 0:00:01\r\u001b[K     |███████████▊                    | 1.2MB 2.8MB/s eta 0:00:01\r\u001b[K     |███████████▉                    | 1.2MB 2.8MB/s eta 0:00:01\r\u001b[K     |████████████                    | 1.2MB 2.8MB/s eta 0:00:01\r\u001b[K     |████████████                    | 1.2MB 2.8MB/s eta 0:00:01\r\u001b[K     |████████████                    | 1.2MB 2.8MB/s eta 0:00:01\r\u001b[K     |████████████▏                   | 1.3MB 2.8MB/s eta 0:00:01\r\u001b[K     |████████████▎                   | 1.3MB 2.8MB/s eta 0:00:01\r\u001b[K     |████████████▍                   | 1.3MB 2.8MB/s eta 0:00:01\r\u001b[K     |████████████▌                   | 1.3MB 2.8MB/s eta 0:00:01\r\u001b[K     |████████████▋                   | 1.3MB 2.8MB/s eta 0:00:01\r\u001b[K     |████████████▊                   | 1.3MB 2.8MB/s eta 0:00:01\r\u001b[K     |████████████▉                   | 1.3MB 2.8MB/s eta 0:00:01\r\u001b[K     |████████████▉                   | 1.3MB 2.8MB/s eta 0:00:01\r\u001b[K     |█████████████                   | 1.3MB 2.8MB/s eta 0:00:01\r\u001b[K     |█████████████                   | 1.4MB 2.8MB/s eta 0:00:01\r\u001b[K     |█████████████▏                  | 1.4MB 2.8MB/s eta 0:00:01\r\u001b[K     |█████████████▎                  | 1.4MB 2.8MB/s eta 0:00:01\r\u001b[K     |█████████████▍                  | 1.4MB 2.8MB/s eta 0:00:01\r\u001b[K     |█████████████▌                  | 1.4MB 2.8MB/s eta 0:00:01\r\u001b[K     |█████████████▋                  | 1.4MB 2.8MB/s eta 0:00:01\r\u001b[K     |█████████████▊                  | 1.4MB 2.8MB/s eta 0:00:01\r\u001b[K     |█████████████▉                  | 1.4MB 2.8MB/s eta 0:00:01\r\u001b[K     |█████████████▉                  | 1.4MB 2.8MB/s eta 0:00:01\r\u001b[K     |██████████████                  | 1.4MB 2.8MB/s eta 0:00:01\r\u001b[K     |██████████████                  | 1.5MB 2.8MB/s eta 0:00:01\r\u001b[K     |██████████████▏                 | 1.5MB 2.8MB/s eta 0:00:01\r\u001b[K     |██████████████▎                 | 1.5MB 2.8MB/s eta 0:00:01\r\u001b[K     |██████████████▍                 | 1.5MB 2.8MB/s eta 0:00:01\r\u001b[K     |██████████████▌                 | 1.5MB 2.8MB/s eta 0:00:01\r\u001b[K     |██████████████▋                 | 1.5MB 2.8MB/s eta 0:00:01\r\u001b[K     |██████████████▊                 | 1.5MB 2.8MB/s eta 0:00:01\r\u001b[K     |██████████████▊                 | 1.5MB 2.8MB/s eta 0:00:01\r\u001b[K     |██████████████▉                 | 1.5MB 2.8MB/s eta 0:00:01\r\u001b[K     |███████████████                 | 1.5MB 2.8MB/s eta 0:00:01\r\u001b[K     |███████████████                 | 1.6MB 2.8MB/s eta 0:00:01\r\u001b[K     |███████████████▏                | 1.6MB 2.8MB/s eta 0:00:01\r\u001b[K     |███████████████▎                | 1.6MB 2.8MB/s eta 0:00:01\r\u001b[K     |███████████████▍                | 1.6MB 2.8MB/s eta 0:00:01\r\u001b[K     |███████████████▌                | 1.6MB 2.8MB/s eta 0:00:01\r\u001b[K     |███████████████▋                | 1.6MB 2.8MB/s eta 0:00:01\r\u001b[K     |███████████████▋                | 1.6MB 2.8MB/s eta 0:00:01\r\u001b[K     |███████████████▊                | 1.6MB 2.8MB/s eta 0:00:01\r\u001b[K     |███████████████▉                | 1.6MB 2.8MB/s eta 0:00:01\r\u001b[K     |████████████████                | 1.6MB 2.8MB/s eta 0:00:01\r\u001b[K     |████████████████                | 1.7MB 2.8MB/s eta 0:00:01\r\u001b[K     |████████████████▏               | 1.7MB 2.8MB/s eta 0:00:01\r\u001b[K     |████████████████▎               | 1.7MB 2.8MB/s eta 0:00:01\r\u001b[K     |████████████████▍               | 1.7MB 2.8MB/s eta 0:00:01\r\u001b[K     |████████████████▌               | 1.7MB 2.8MB/s eta 0:00:01\r\u001b[K     |████████████████▌               | 1.7MB 2.8MB/s eta 0:00:01\r\u001b[K     |████████████████▋               | 1.7MB 2.8MB/s eta 0:00:01\r\u001b[K     |████████████████▊               | 1.7MB 2.8MB/s eta 0:00:01\r\u001b[K     |████████████████▉               | 1.7MB 2.8MB/s eta 0:00:01\r\u001b[K     |█████████████████               | 1.8MB 2.8MB/s eta 0:00:01\r\u001b[K     |█████████████████               | 1.8MB 2.8MB/s eta 0:00:01\r\u001b[K     |█████████████████▏              | 1.8MB 2.8MB/s eta 0:00:01\r\u001b[K     |█████████████████▎              | 1.8MB 2.8MB/s eta 0:00:01\r\u001b[K     |█████████████████▍              | 1.8MB 2.8MB/s eta 0:00:01\r\u001b[K     |█████████████████▌              | 1.8MB 2.8MB/s eta 0:00:01\r\u001b[K     |█████████████████▌              | 1.8MB 2.8MB/s eta 0:00:01\r\u001b[K     |█████████████████▋              | 1.8MB 2.8MB/s eta 0:00:01\r\u001b[K     |█████████████████▊              | 1.8MB 2.8MB/s eta 0:00:01\r\u001b[K     |█████████████████▉              | 1.8MB 2.8MB/s eta 0:00:01\r\u001b[K     |██████████████████              | 1.9MB 2.8MB/s eta 0:00:01\r\u001b[K     |██████████████████              | 1.9MB 2.8MB/s eta 0:00:01\r\u001b[K     |██████████████████▏             | 1.9MB 2.8MB/s eta 0:00:01\r\u001b[K     |██████████████████▎             | 1.9MB 2.8MB/s eta 0:00:01\r\u001b[K     |██████████████████▍             | 1.9MB 2.8MB/s eta 0:00:01\r\u001b[K     |██████████████████▍             | 1.9MB 2.8MB/s eta 0:00:01\r\u001b[K     |██████████████████▌             | 1.9MB 2.8MB/s eta 0:00:01\r\u001b[K     |██████████████████▋             | 1.9MB 2.8MB/s eta 0:00:01\r\u001b[K     |██████████████████▊             | 1.9MB 2.8MB/s eta 0:00:01\r\u001b[K     |██████████████████▉             | 1.9MB 2.8MB/s eta 0:00:01\r\u001b[K     |███████████████████             | 2.0MB 2.8MB/s eta 0:00:01\r\u001b[K     |███████████████████             | 2.0MB 2.8MB/s eta 0:00:01\r\u001b[K     |███████████████████▏            | 2.0MB 2.8MB/s eta 0:00:01\r\u001b[K     |███████████████████▎            | 2.0MB 2.8MB/s eta 0:00:01\r\u001b[K     |███████████████████▎            | 2.0MB 2.8MB/s eta 0:00:01\r\u001b[K     |███████████████████▍            | 2.0MB 2.8MB/s eta 0:00:01\r\u001b[K     |███████████████████▌            | 2.0MB 2.8MB/s eta 0:00:01\r\u001b[K     |███████████████████▋            | 2.0MB 2.8MB/s eta 0:00:01\r\u001b[K     |███████████████████▊            | 2.0MB 2.8MB/s eta 0:00:01\r\u001b[K     |███████████████████▉            | 2.0MB 2.8MB/s eta 0:00:01\r\u001b[K     |████████████████████            | 2.1MB 2.8MB/s eta 0:00:01\r\u001b[K     |████████████████████            | 2.1MB 2.8MB/s eta 0:00:01\r\u001b[K     |████████████████████▏           | 2.1MB 2.8MB/s eta 0:00:01\r\u001b[K     |████████████████████▏           | 2.1MB 2.8MB/s eta 0:00:01\r\u001b[K     |████████████████████▎           | 2.1MB 2.8MB/s eta 0:00:01\r\u001b[K     |████████████████████▍           | 2.1MB 2.8MB/s eta 0:00:01\r\u001b[K     |████████████████████▌           | 2.1MB 2.8MB/s eta 0:00:01\r\u001b[K     |████████████████████▋           | 2.1MB 2.8MB/s eta 0:00:01\r\u001b[K     |████████████████████▊           | 2.1MB 2.8MB/s eta 0:00:01\r\u001b[K     |████████████████████▉           | 2.2MB 2.8MB/s eta 0:00:01\r\u001b[K     |█████████████████████           | 2.2MB 2.8MB/s eta 0:00:01\r\u001b[K     |█████████████████████           | 2.2MB 2.8MB/s eta 0:00:01\r\u001b[K     |█████████████████████▏          | 2.2MB 2.8MB/s eta 0:00:01\r\u001b[K     |█████████████████████▏          | 2.2MB 2.8MB/s eta 0:00:01\r\u001b[K     |█████████████████████▎          | 2.2MB 2.8MB/s eta 0:00:01\r\u001b[K     |█████████████████████▍          | 2.2MB 2.8MB/s eta 0:00:01\r\u001b[K     |█████████████████████▌          | 2.2MB 2.8MB/s eta 0:00:01\r\u001b[K     |█████████████████████▋          | 2.2MB 2.8MB/s eta 0:00:01\r\u001b[K     |█████████████████████▊          | 2.2MB 2.8MB/s eta 0:00:01\r\u001b[K     |█████████████████████▉          | 2.3MB 2.8MB/s eta 0:00:01\r\u001b[K     |██████████████████████          | 2.3MB 2.8MB/s eta 0:00:01\r\u001b[K     |██████████████████████          | 2.3MB 2.8MB/s eta 0:00:01\r\u001b[K     |██████████████████████          | 2.3MB 2.8MB/s eta 0:00:01\r\u001b[K     |██████████████████████▏         | 2.3MB 2.8MB/s eta 0:00:01\r\u001b[K     |██████████████████████▎         | 2.3MB 2.8MB/s eta 0:00:01\r\u001b[K     |██████████████████████▍         | 2.3MB 2.8MB/s eta 0:00:01\r\u001b[K     |██████████████████████▌         | 2.3MB 2.8MB/s eta 0:00:01\r\u001b[K     |██████████████████████▋         | 2.3MB 2.8MB/s eta 0:00:01\r\u001b[K     |██████████████████████▊         | 2.3MB 2.8MB/s eta 0:00:01\r\u001b[K     |██████████████████████▉         | 2.4MB 2.8MB/s eta 0:00:01\r\u001b[K     |███████████████████████         | 2.4MB 2.8MB/s eta 0:00:01\r\u001b[K     |███████████████████████         | 2.4MB 2.8MB/s eta 0:00:01\r\u001b[K     |███████████████████████         | 2.4MB 2.8MB/s eta 0:00:01\r\u001b[K     |███████████████████████▏        | 2.4MB 2.8MB/s eta 0:00:01\r\u001b[K     |███████████████████████▎        | 2.4MB 2.8MB/s eta 0:00:01\r\u001b[K     |███████████████████████▍        | 2.4MB 2.8MB/s eta 0:00:01\r\u001b[K     |███████████████████████▌        | 2.4MB 2.8MB/s eta 0:00:01\r\u001b[K     |███████████████████████▋        | 2.4MB 2.8MB/s eta 0:00:01\r\u001b[K     |███████████████████████▊        | 2.4MB 2.8MB/s eta 0:00:01\r\u001b[K     |███████████████████████▉        | 2.5MB 2.8MB/s eta 0:00:01\r\u001b[K     |███████████████████████▉        | 2.5MB 2.8MB/s eta 0:00:01\r\u001b[K     |████████████████████████        | 2.5MB 2.8MB/s eta 0:00:01\r\u001b[K     |████████████████████████        | 2.5MB 2.8MB/s eta 0:00:01\r\u001b[K     |████████████████████████▏       | 2.5MB 2.8MB/s eta 0:00:01\r\u001b[K     |████████████████████████▎       | 2.5MB 2.8MB/s eta 0:00:01\r\u001b[K     |████████████████████████▍       | 2.5MB 2.8MB/s eta 0:00:01\r\u001b[K     |████████████████████████▌       | 2.5MB 2.8MB/s eta 0:00:01\r\u001b[K     |████████████████████████▋       | 2.5MB 2.8MB/s eta 0:00:01\r\u001b[K     |████████████████████████▊       | 2.5MB 2.8MB/s eta 0:00:01\r\u001b[K     |████████████████████████▉       | 2.6MB 2.8MB/s eta 0:00:01\r\u001b[K     |████████████████████████▉       | 2.6MB 2.8MB/s eta 0:00:01\r\u001b[K     |█████████████████████████       | 2.6MB 2.8MB/s eta 0:00:01\r\u001b[K     |█████████████████████████       | 2.6MB 2.8MB/s eta 0:00:01\r\u001b[K     |█████████████████████████▏      | 2.6MB 2.8MB/s eta 0:00:01\r\u001b[K     |█████████████████████████▎      | 2.6MB 2.8MB/s eta 0:00:01\r\u001b[K     |█████████████████████████▍      | 2.6MB 2.8MB/s eta 0:00:01\r\u001b[K     |█████████████████████████▌      | 2.6MB 2.8MB/s eta 0:00:01\r\u001b[K     |█████████████████████████▋      | 2.6MB 2.8MB/s eta 0:00:01\r\u001b[K     |█████████████████████████▊      | 2.7MB 2.8MB/s eta 0:00:01\r\u001b[K     |█████████████████████████▊      | 2.7MB 2.8MB/s eta 0:00:01\r\u001b[K     |█████████████████████████▉      | 2.7MB 2.8MB/s eta 0:00:01\r\u001b[K     |██████████████████████████      | 2.7MB 2.8MB/s eta 0:00:01\r\u001b[K     |██████████████████████████      | 2.7MB 2.8MB/s eta 0:00:01\r\u001b[K     |██████████████████████████▏     | 2.7MB 2.8MB/s eta 0:00:01\r\u001b[K     |██████████████████████████▎     | 2.7MB 2.8MB/s eta 0:00:01\r\u001b[K     |██████████████████████████▍     | 2.7MB 2.8MB/s eta 0:00:01\r\u001b[K     |██████████████████████████▌     | 2.7MB 2.8MB/s eta 0:00:01\r\u001b[K     |██████████████████████████▋     | 2.7MB 2.8MB/s eta 0:00:01\r\u001b[K     |██████████████████████████▋     | 2.8MB 2.8MB/s eta 0:00:01\r\u001b[K     |██████████████████████████▊     | 2.8MB 2.8MB/s eta 0:00:01\r\u001b[K     |██████████████████████████▉     | 2.8MB 2.8MB/s eta 0:00:01\r\u001b[K     |███████████████████████████     | 2.8MB 2.8MB/s eta 0:00:01\r\u001b[K     |███████████████████████████     | 2.8MB 2.8MB/s eta 0:00:01\r\u001b[K     |███████████████████████████▏    | 2.8MB 2.8MB/s eta 0:00:01\r\u001b[K     |███████████████████████████▎    | 2.8MB 2.8MB/s eta 0:00:01\r\u001b[K     |███████████████████████████▍    | 2.8MB 2.8MB/s eta 0:00:01\r\u001b[K     |███████████████████████████▌    | 2.8MB 2.8MB/s eta 0:00:01\r\u001b[K     |███████████████████████████▋    | 2.8MB 2.8MB/s eta 0:00:01\r\u001b[K     |███████████████████████████▋    | 2.9MB 2.8MB/s eta 0:00:01\r\u001b[K     |███████████████████████████▊    | 2.9MB 2.8MB/s eta 0:00:01\r\u001b[K     |███████████████████████████▉    | 2.9MB 2.8MB/s eta 0:00:01\r\u001b[K     |████████████████████████████    | 2.9MB 2.8MB/s eta 0:00:01\r\u001b[K     |████████████████████████████    | 2.9MB 2.8MB/s eta 0:00:01\r\u001b[K     |████████████████████████████▏   | 2.9MB 2.8MB/s eta 0:00:01\r\u001b[K     |████████████████████████████▎   | 2.9MB 2.8MB/s eta 0:00:01\r\u001b[K     |████████████████████████████▍   | 2.9MB 2.8MB/s eta 0:00:01\r\u001b[K     |████████████████████████████▌   | 2.9MB 2.8MB/s eta 0:00:01\r\u001b[K     |████████████████████████████▌   | 2.9MB 2.8MB/s eta 0:00:01\r\u001b[K     |████████████████████████████▋   | 3.0MB 2.8MB/s eta 0:00:01\r\u001b[K     |████████████████████████████▊   | 3.0MB 2.8MB/s eta 0:00:01\r\u001b[K     |████████████████████████████▉   | 3.0MB 2.8MB/s eta 0:00:01\r\u001b[K     |█████████████████████████████   | 3.0MB 2.8MB/s eta 0:00:01\r\u001b[K     |█████████████████████████████   | 3.0MB 2.8MB/s eta 0:00:01\r\u001b[K     |█████████████████████████████▏  | 3.0MB 2.8MB/s eta 0:00:01\r\u001b[K     |█████████████████████████████▎  | 3.0MB 2.8MB/s eta 0:00:01\r\u001b[K     |█████████████████████████████▍  | 3.0MB 2.8MB/s eta 0:00:01\r\u001b[K     |█████████████████████████████▍  | 3.0MB 2.8MB/s eta 0:00:01\r\u001b[K     |█████████████████████████████▌  | 3.1MB 2.8MB/s eta 0:00:01\r\u001b[K     |█████████████████████████████▋  | 3.1MB 2.8MB/s eta 0:00:01\r\u001b[K     |█████████████████████████████▊  | 3.1MB 2.8MB/s eta 0:00:01\r\u001b[K     |█████████████████████████████▉  | 3.1MB 2.8MB/s eta 0:00:01\r\u001b[K     |██████████████████████████████  | 3.1MB 2.8MB/s eta 0:00:01\r\u001b[K     |██████████████████████████████  | 3.1MB 2.8MB/s eta 0:00:01\r\u001b[K     |██████████████████████████████▏ | 3.1MB 2.8MB/s eta 0:00:01\r\u001b[K     |██████████████████████████████▎ | 3.1MB 2.8MB/s eta 0:00:01\r\u001b[K     |██████████████████████████████▎ | 3.1MB 2.8MB/s eta 0:00:01\r\u001b[K     |██████████████████████████████▍ | 3.1MB 2.8MB/s eta 0:00:01\r\u001b[K     |██████████████████████████████▌ | 3.2MB 2.8MB/s eta 0:00:01\r\u001b[K     |██████████████████████████████▋ | 3.2MB 2.8MB/s eta 0:00:01\r\u001b[K     |██████████████████████████████▊ | 3.2MB 2.8MB/s eta 0:00:01\r\u001b[K     |██████████████████████████████▉ | 3.2MB 2.8MB/s eta 0:00:01\r\u001b[K     |███████████████████████████████ | 3.2MB 2.8MB/s eta 0:00:01\r\u001b[K     |███████████████████████████████ | 3.2MB 2.8MB/s eta 0:00:01\r\u001b[K     |███████████████████████████████▏| 3.2MB 2.8MB/s eta 0:00:01\r\u001b[K     |███████████████████████████████▎| 3.2MB 2.8MB/s eta 0:00:01\r\u001b[K     |███████████████████████████████▎| 3.2MB 2.8MB/s eta 0:00:01\r\u001b[K     |███████████████████████████████▍| 3.2MB 2.8MB/s eta 0:00:01\r\u001b[K     |███████████████████████████████▌| 3.3MB 2.8MB/s eta 0:00:01\r\u001b[K     |███████████████████████████████▋| 3.3MB 2.8MB/s eta 0:00:01\r\u001b[K     |███████████████████████████████▊| 3.3MB 2.8MB/s eta 0:00:01\r\u001b[K     |███████████████████████████████▉| 3.3MB 2.8MB/s eta 0:00:01\r\u001b[K     |████████████████████████████████| 3.3MB 2.8MB/s eta 0:00:01\r\u001b[K     |████████████████████████████████| 3.3MB 2.8MB/s \n",
            "\u001b[?25hRequirement already satisfied: joblib>=0.11 in /usr/local/lib/python3.6/dist-packages (from scikit-surprise) (0.13.2)\n",
            "Requirement already satisfied: numpy>=1.11.2 in /usr/local/lib/python3.6/dist-packages (from scikit-surprise) (1.16.4)\n",
            "Requirement already satisfied: scipy>=1.0.0 in /usr/local/lib/python3.6/dist-packages (from scikit-surprise) (1.3.0)\n",
            "Requirement already satisfied: six>=1.10.0 in /usr/local/lib/python3.6/dist-packages (from scikit-surprise) (1.12.0)\n",
            "Building wheels for collected packages: scikit-surprise\n",
            "  Building wheel for scikit-surprise (setup.py) ... \u001b[?25l\u001b[?25hdone\n",
            "  Stored in directory: /root/.cache/pip/wheels/ec/c0/55/3a28eab06b53c220015063ebbdb81213cd3dcbb72c088251ec\n",
            "Successfully built scikit-surprise\n",
            "Installing collected packages: scikit-surprise\n",
            "Successfully installed scikit-surprise-1.0.6\n"
          ],
          "name": "stdout"
        }
      ]
    },
    {
      "cell_type": "code",
      "metadata": {
        "id": "_Meni21QKWH6",
        "colab_type": "code",
        "colab": {}
      },
      "source": [
        "#import libraries and helper functions\n",
        "from utils import *\n",
        "from sklearn.metrics.pairwise import cosine_similarity\n",
        "import heapq\n",
        "import pandas as pd\n",
        "import warnings; warnings.simplefilter('ignore')"
      ],
      "execution_count": 0,
      "outputs": []
    },
    {
      "cell_type": "code",
      "metadata": {
        "id": "sUt8c5WIKaBN",
        "colab_type": "code",
        "colab": {}
      },
      "source": [
        "def cosSimilarityUser(data):\n",
        "    # Calculate the Cosine Similarity Matrix\n",
        "    user_similarity = cosine_similarity(data)\n",
        "    \n",
        "    # Preview the Similarity Matrix\n",
        "    print(\"Similarity Matrix Sample\")\n",
        "    print(user_similarity[:5, :5])\n",
        "    print(\"Similarity Matrix Dimension\")\n",
        "    print(np.shape(user_similarity))\n",
        "    print(\"=\" * 120)\n",
        "    \n",
        "    return user_similarity"
      ],
      "execution_count": 0,
      "outputs": []
    },
    {
      "cell_type": "code",
      "metadata": {
        "id": "JAAs4QStKg-F",
        "colab_type": "code",
        "colab": {}
      },
      "source": [
        "def predictUser(ratings, similarity, num_items):\n",
        "    # The Average Rating Values for Each User\n",
        "    mean_user_rating = np.repeat(np.array([ratings.mean(axis=1)]), num_items, axis=0).T\n",
        "\n",
        "    # The Difference Between Each Rating Value and The Average Value\n",
        "    ratings_diff = ratings - mean_user_rating\n",
        "\n",
        "    # Calculate the Predicted Score\n",
        "    pred = mean_user_rating + \\\n",
        "           np.dot(similarity, ratings_diff) / np.array([np.abs(similarity).sum(axis=1)]).T\n",
        "    \n",
        "    return pred"
      ],
      "execution_count": 0,
      "outputs": []
    },
    {
      "cell_type": "code",
      "metadata": {
        "id": "ycpWrXkWKkzL",
        "colab_type": "code",
        "colab": {}
      },
      "source": [
        "def recItemsForOneUser(pred_array, train_array, user, num_rec):\n",
        "    # Change Training Arrary Into Sparse Matrix\n",
        "    train_matrix = sp.csr_matrix(train_array)\n",
        "\n",
        "    # Get the Item IDs in the Training Data For the Specified User\n",
        "    train_items_for_user = train_matrix.getrow(user).nonzero()[1]\n",
        "\n",
        "    # Create A Dictionary with Key-Value Pairs as ItemID-PredictedValue Pair\n",
        "    pred_dict_for_user = dict(zip(np.arange(train_matrix.shape[1]), pred_array[user]))\n",
        "\n",
        "    # Remove the Key-Value Pairs used in Training\n",
        "    for iid in train_items_for_user:\n",
        "        pred_dict_for_user.pop(iid)\n",
        "\n",
        "    # Select the Top-N Items in The Sorted List\n",
        "    rec_list_for_user = heapq.nlargest(num_rec, pred_dict_for_user.items(), key=lambda tup: tup[1])\n",
        "\n",
        "    # Get the Item ID List From the Top-N Tuples\n",
        "    rec_item_list = [tup[0] for tup in rec_list_for_user]\n",
        "    return rec_item_list"
      ],
      "execution_count": 0,
      "outputs": []
    },
    {
      "cell_type": "markdown",
      "metadata": {
        "id": "hrKxi3dWK2_i",
        "colab_type": "text"
      },
      "source": [
        "#### The Main Program (Use your function id2names here)"
      ]
    },
    {
      "cell_type": "code",
      "metadata": {
        "id": "jNmgkXm7Kz1S",
        "colab_type": "code",
        "outputId": "3370fdf0-5c1a-4ce9-8d69-c573072fdbf9",
        "colab": {
          "base_uri": "https://localhost:8080/",
          "height": 453
        }
      },
      "source": [
        "if __name__ == '__main__':\n",
        "    # Load Rating Data\n",
        "    train, test, num_users, num_items, uid_min, iid_min = loadData(test_size=0.2)\n",
        "    train_array, test_array = train.toarray(), test.toarray()\n",
        "    \n",
        "    # Load Movie MetaData\n",
        "    m_cols = ['movie_id', 'title', 'release_date', 'video_release_date', 'imdb_url']\n",
        "    movie_metadata_df = pd.read_csv('ml-100k.item', sep='|', names=m_cols, usecols=range(5), encoding='latin-1')\n",
        "    movie_metadata_df = movie_metadata_df[['movie_id', 'title']]\n",
        "    \n",
        "    \n",
        "    # Similarity And Prediction Matrices (User)\n",
        "    similarity_user_array = cosSimilarityUser(train_array)\n",
        "    pred_user_array = predictUser(train_array, similarity_user_array, num_items)\n",
        "\n",
        "    # Recommendation\n",
        "    rec_id_list = recItemsForOneUser(pred_user_array, train_array, 257, 10)\n",
        "    \n",
        "    # Change the recommended id list into movie title list\n",
        "    rec_title_list = id2names(rec_id_list, movie_metadata_df)\n",
        "    \n",
        "    # Print out the results\n",
        "    #print(\"The Recommendation List for User Is: \" + rec_title_list)\n",
        "    print(\"The Recommendation List for User Is: \" + ', '.join(rec_title_list))\n",
        "    print(\"=\" * 120)"
      ],
      "execution_count": 21,
      "outputs": [
        {
          "output_type": "stream",
          "text": [
            "Data Preview:\n",
            "   uid  iid  ratings       time\n",
            "0  196  242        3  881250949\n",
            "1  186  302        3  891717742\n",
            "2   22  377        1  878887116\n",
            "3  244   51        2  880606923\n",
            "4  166  346        1  886397596\n",
            "========================================================================================================================\n",
            "Number of Users: 943\n",
            "Number of Items: 1682\n",
            "========================================================================================================================\n",
            "Sample Data: [[5 3 4 ... 0 0 0]]\n",
            "========================================================================================================================\n",
            "Similarity Matrix Sample\n",
            "[[1.         0.16359537 0.03365039 0.07323055 0.30757548]\n",
            " [0.16359537 1.         0.08520491 0.16757297 0.07164769]\n",
            " [0.03365039 0.08520491 1.         0.19338712 0.02781491]\n",
            " [0.07323055 0.16757297 0.19338712 1.         0.03761586]\n",
            " [0.30757548 0.07164769 0.02781491 0.03761586 1.        ]]\n",
            "Similarity Matrix Dimension\n",
            "(943, 943)\n",
            "========================================================================================================================\n",
            "The Recommendation List for User Is: Midnight in the Garden of Good and Evil (1997), Marvin's Room (1996), Secrets & Lies (1996), In & Out (1997), I.Q. (1994), Chasing Amy (1997), Benny & Joon (1993), Kiss the Girls (1997), Apocalypse Now (1979), Smilla's Sense of Snow (1997)\n",
            "========================================================================================================================\n"
          ],
          "name": "stdout"
        }
      ]
    },
    {
      "cell_type": "markdown",
      "metadata": {
        "id": "jZdh8bCOAGbZ",
        "colab_type": "text"
      },
      "source": [
        "## Question 2 (3 marks): \n",
        "\n",
        "Instead of TF-IDF, use other text feature extraction methods to calculate the similarity between two movies. (e.g., token counts)\n",
        "\n",
        "You can refer to [sklearn's text feature extraction methods](https://scikit-learn.org/stable/modules/classes.html#module-sklearn.feature_extraction.text)"
      ]
    },
    {
      "cell_type": "markdown",
      "metadata": {
        "id": "MNDk2GUPL6Pv",
        "colab_type": "text"
      },
      "source": [
        "### Including files and folders"
      ]
    },
    {
      "cell_type": "code",
      "metadata": {
        "id": "W9kMCZwHM5Gn",
        "colab_type": "code",
        "colab": {}
      },
      "source": [
        "from google.colab import files\n",
        "\n",
        "# Upload the dataset movies_metadata.csv\n",
        "files.upload()"
      ],
      "execution_count": 0,
      "outputs": []
    },
    {
      "cell_type": "code",
      "metadata": {
        "id": "dwmUR9ginubl",
        "colab_type": "code",
        "colab": {}
      },
      "source": [
        "from google.colab import files\n",
        "\n",
        "# Upload the dataset links_small.csv\n",
        "files.upload()\n"
      ],
      "execution_count": 0,
      "outputs": []
    },
    {
      "cell_type": "code",
      "metadata": {
        "id": "C7iiUnHEG3tc",
        "colab_type": "code",
        "colab": {}
      },
      "source": [
        "from google.colab import files\n",
        "\n",
        "# Upload the dataset utils.py\n",
        "files.upload()"
      ],
      "execution_count": 0,
      "outputs": []
    },
    {
      "cell_type": "markdown",
      "metadata": {
        "id": "imMqbo2CJvVF",
        "colab_type": "text"
      },
      "source": [
        "### Cosine Similarity Matrix"
      ]
    },
    {
      "cell_type": "code",
      "metadata": {
        "id": "ySPD-w6eJ0tK",
        "colab_type": "code",
        "colab": {}
      },
      "source": [
        "def cosSimilarity(matrix):\n",
        "    similarity_matrix = cosine_similarity(matrix)\n",
        "    print(\"Cosine Similarity Matrix Sample:\")\n",
        "    print(similarity_matrix[:5, :5])\n",
        "    print(\"=\" * 120)\n",
        "    return similarity_matrix"
      ],
      "execution_count": 0,
      "outputs": []
    },
    {
      "cell_type": "markdown",
      "metadata": {
        "id": "uyqi8JoKOAl7",
        "colab_type": "text"
      },
      "source": [
        "### Your Task Starts Here (Implement the Word Count Converter)\n",
        "\n",
        "Refer to [Scikit-Learn](https://scikit-learn.org/stable/modules/generated/sklearn.feature_extraction.text.CountVectorizer.html#sklearn.feature_extraction.text.CountVectorizer)."
      ]
    },
    {
      "cell_type": "code",
      "metadata": {
        "id": "3caCAGM5AvoG",
        "colab_type": "code",
        "colab": {}
      },
      "source": [
        "from sklearn.feature_extraction.text import CountVectorizer\n",
        "\n",
        "def wordcount_converter(df):\n",
        "    # Change the NaN Values into Empty Strings\n",
        "    df['tagline'] = df['tagline'].fillna('')\n",
        "    # We only Use the \"Overview\" and \"TagLine\" features to Represent Each Movie\n",
        "    df['description'] = df['overview'] + df['tagline']\n",
        "    df['description'] = df['description'].fillna('')\n",
        "\n",
        "    # Word Count Matrix\n",
        "    # Implement Your Code Here\n",
        "    vectorizer = CountVectorizer()\n",
        "    #vectorizer.fit(df['description'])\n",
        "    count_matrix = vectorizer.fit_transform(df['description'])\n",
        "    \n",
        "    print(\"Count Matrix Shape: \" + str(count_matrix.shape))\n",
        "    print(\"=\" * 120)\n",
        "    return count_matrix"
      ],
      "execution_count": 0,
      "outputs": []
    },
    {
      "cell_type": "markdown",
      "metadata": {
        "id": "gZEJKZ_bJ32H",
        "colab_type": "text"
      },
      "source": [
        "### Recommendation For One Item"
      ]
    },
    {
      "cell_type": "code",
      "metadata": {
        "id": "DSUA3rNeOQC2",
        "colab_type": "code",
        "colab": {}
      },
      "source": [
        "def recForOneItem(movie_list_df, similarity_matrix, title, num_rec):\n",
        "    # Get the Indices for Each Title\n",
        "    idx = movie_list_df[title]\n",
        "\n",
        "    # Get a List of Tuples, Where Each Tuple Contains A Movie Index and The Similarity Score\n",
        "    similarity_score = list(enumerate(similarity_matrix[idx]))\n",
        "\n",
        "    # Sort the Above List of Tuples by The Similarity Score in Descendant Order\n",
        "    similarity_score = heapq.nlargest(num_rec+1, similarity_score, key=lambda tup: tup[1])\n",
        "\n",
        "    # Get the Titles of the Recommended Movies\n",
        "    movie_indices = [item[0] for item in similarity_score[1:]]\n",
        "\n",
        "    return movie_list_df.iloc[movie_indices]"
      ],
      "execution_count": 0,
      "outputs": []
    },
    {
      "cell_type": "markdown",
      "metadata": {
        "id": "AtjDMML_OS7d",
        "colab_type": "text"
      },
      "source": [
        "### The Main Program"
      ]
    },
    {
      "cell_type": "code",
      "metadata": {
        "id": "mcHpd5OsAxYu",
        "colab_type": "code",
        "colab": {
          "base_uri": "https://localhost:8080/",
          "height": 1000
        },
        "outputId": "461e8121-0486-42d3-a042-240afb18603f"
      },
      "source": [
        "if __name__ == '__main__':\n",
        "    # Load The Movie MetaData\n",
        "    data, movie_list = cb_loadData()\n",
        "    # Calculate the Word Count Vector of the Each Movie's 'Description' Feature\n",
        "    matrix = wordcount_converter(data)\n",
        "    \n",
        "    # Calculate Cosine Similarity Between Each Movie Pair\n",
        "    similarity = cosSimilarity(matrix)\n",
        "    # Generate Recommended Movies\n",
        "    recommendation = recForOneItem(movie_list, similarity, 'The Godfather', 10)\n",
        "    \n",
        "    print(\"Recommendation List:\")\n",
        "    print(recommendation)"
      ],
      "execution_count": 27,
      "outputs": [
        {
          "output_type": "stream",
          "text": [
            "Full Movie MetaData Sample:\n",
            "   adult                              belongs_to_collection    budget  \\\n",
            "0  False  {'id': 10194, 'name': 'Toy Story Collection', ...  30000000   \n",
            "1  False                                                NaN  65000000   \n",
            "2  False  {'id': 119050, 'name': 'Grumpy Old Men Collect...         0   \n",
            "3  False                                                NaN  16000000   \n",
            "4  False  {'id': 96871, 'name': 'Father of the Bride Col...         0   \n",
            "\n",
            "                         genres                              homepage     id  \\\n",
            "0   [Animation, Comedy, Family]  http://toystory.disney.com/toy-story    862   \n",
            "1  [Adventure, Fantasy, Family]                                   NaN   8844   \n",
            "2             [Romance, Comedy]                                   NaN  15602   \n",
            "3      [Comedy, Drama, Romance]                                   NaN  31357   \n",
            "4                      [Comedy]                                   NaN  11862   \n",
            "\n",
            "     imdb_id original_language               original_title  \\\n",
            "0  tt0114709                en                    Toy Story   \n",
            "1  tt0113497                en                      Jumanji   \n",
            "2  tt0113228                en             Grumpier Old Men   \n",
            "3  tt0114885                en            Waiting to Exhale   \n",
            "4  tt0113041                en  Father of the Bride Part II   \n",
            "\n",
            "                                            overview popularity  \\\n",
            "0  Led by Woody, Andy's toys live happily in his ...    21.9469   \n",
            "1  When siblings Judy and Peter discover an encha...    17.0155   \n",
            "2  A family wedding reignites the ancient feud be...    11.7129   \n",
            "3  Cheated on, mistreated and stepped on, the wom...    3.85949   \n",
            "4  Just when George Banks has recovered from his ...    8.38752   \n",
            "\n",
            "                        poster_path  \\\n",
            "0  /rhIRbceoE9lR4veEXuwCC2wARtG.jpg   \n",
            "1  /vzmL6fP7aPKNKPRTFnZmiUfciyV.jpg   \n",
            "2  /6ksm1sjKMFLbO7UY2i6G1ju9SML.jpg   \n",
            "3  /16XOMpEaLWkrcPqSQqhTmeJuqQl.jpg   \n",
            "4  /e64sOI48hQXyru7naBFyssKFxVd.jpg   \n",
            "\n",
            "                                production_companies  \\\n",
            "0     [{'name': 'Pixar Animation Studios', 'id': 3}]   \n",
            "1  [{'name': 'TriStar Pictures', 'id': 559}, {'na...   \n",
            "2  [{'name': 'Warner Bros.', 'id': 6194}, {'name'...   \n",
            "3  [{'name': 'Twentieth Century Fox Film Corporat...   \n",
            "4  [{'name': 'Sandollar Productions', 'id': 5842}...   \n",
            "\n",
            "                                production_countries release_date  \\\n",
            "0  [{'iso_3166_1': 'US', 'name': 'United States o...   1995-10-30   \n",
            "1  [{'iso_3166_1': 'US', 'name': 'United States o...   1995-12-15   \n",
            "2  [{'iso_3166_1': 'US', 'name': 'United States o...   1995-12-22   \n",
            "3  [{'iso_3166_1': 'US', 'name': 'United States o...   1995-12-22   \n",
            "4  [{'iso_3166_1': 'US', 'name': 'United States o...   1995-02-10   \n",
            "\n",
            "       revenue  runtime                                   spoken_languages  \\\n",
            "0  373554033.0     81.0           [{'iso_639_1': 'en', 'name': 'English'}]   \n",
            "1  262797249.0    104.0  [{'iso_639_1': 'en', 'name': 'English'}, {'iso...   \n",
            "2          0.0    101.0           [{'iso_639_1': 'en', 'name': 'English'}]   \n",
            "3   81452156.0    127.0           [{'iso_639_1': 'en', 'name': 'English'}]   \n",
            "4   76578911.0    106.0           [{'iso_639_1': 'en', 'name': 'English'}]   \n",
            "\n",
            "     status                                            tagline  \\\n",
            "0  Released                                                NaN   \n",
            "1  Released          Roll the dice and unleash the excitement!   \n",
            "2  Released  Still Yelling. Still Fighting. Still Ready for...   \n",
            "3  Released  Friends are the people who let you be yourself...   \n",
            "4  Released  Just When His World Is Back To Normal... He's ...   \n",
            "\n",
            "                         title  video  vote_average  vote_count  \n",
            "0                    Toy Story  False           7.7      5415.0  \n",
            "1                      Jumanji  False           6.9      2413.0  \n",
            "2             Grumpier Old Men  False           6.5        92.0  \n",
            "3            Waiting to Exhale  False           6.1        34.0  \n",
            "4  Father of the Bride Part II  False           5.7       173.0  \n",
            "========================================================================================================================\n",
            "Small Movie Dataset MetaData Sample:\n",
            "   adult                              belongs_to_collection    budget  \\\n",
            "0  False  {'id': 10194, 'name': 'Toy Story Collection', ...  30000000   \n",
            "1  False                                                NaN  65000000   \n",
            "2  False  {'id': 119050, 'name': 'Grumpy Old Men Collect...         0   \n",
            "3  False                                                NaN  16000000   \n",
            "4  False  {'id': 96871, 'name': 'Father of the Bride Col...         0   \n",
            "\n",
            "                         genres                              homepage     id  \\\n",
            "0   [Animation, Comedy, Family]  http://toystory.disney.com/toy-story    862   \n",
            "1  [Adventure, Fantasy, Family]                                   NaN   8844   \n",
            "2             [Romance, Comedy]                                   NaN  15602   \n",
            "3      [Comedy, Drama, Romance]                                   NaN  31357   \n",
            "4                      [Comedy]                                   NaN  11862   \n",
            "\n",
            "     imdb_id original_language               original_title  \\\n",
            "0  tt0114709                en                    Toy Story   \n",
            "1  tt0113497                en                      Jumanji   \n",
            "2  tt0113228                en             Grumpier Old Men   \n",
            "3  tt0114885                en            Waiting to Exhale   \n",
            "4  tt0113041                en  Father of the Bride Part II   \n",
            "\n",
            "                                            overview popularity  \\\n",
            "0  Led by Woody, Andy's toys live happily in his ...    21.9469   \n",
            "1  When siblings Judy and Peter discover an encha...    17.0155   \n",
            "2  A family wedding reignites the ancient feud be...    11.7129   \n",
            "3  Cheated on, mistreated and stepped on, the wom...    3.85949   \n",
            "4  Just when George Banks has recovered from his ...    8.38752   \n",
            "\n",
            "                        poster_path  \\\n",
            "0  /rhIRbceoE9lR4veEXuwCC2wARtG.jpg   \n",
            "1  /vzmL6fP7aPKNKPRTFnZmiUfciyV.jpg   \n",
            "2  /6ksm1sjKMFLbO7UY2i6G1ju9SML.jpg   \n",
            "3  /16XOMpEaLWkrcPqSQqhTmeJuqQl.jpg   \n",
            "4  /e64sOI48hQXyru7naBFyssKFxVd.jpg   \n",
            "\n",
            "                                production_companies  \\\n",
            "0     [{'name': 'Pixar Animation Studios', 'id': 3}]   \n",
            "1  [{'name': 'TriStar Pictures', 'id': 559}, {'na...   \n",
            "2  [{'name': 'Warner Bros.', 'id': 6194}, {'name'...   \n",
            "3  [{'name': 'Twentieth Century Fox Film Corporat...   \n",
            "4  [{'name': 'Sandollar Productions', 'id': 5842}...   \n",
            "\n",
            "                                production_countries release_date  \\\n",
            "0  [{'iso_3166_1': 'US', 'name': 'United States o...   1995-10-30   \n",
            "1  [{'iso_3166_1': 'US', 'name': 'United States o...   1995-12-15   \n",
            "2  [{'iso_3166_1': 'US', 'name': 'United States o...   1995-12-22   \n",
            "3  [{'iso_3166_1': 'US', 'name': 'United States o...   1995-12-22   \n",
            "4  [{'iso_3166_1': 'US', 'name': 'United States o...   1995-02-10   \n",
            "\n",
            "       revenue  runtime                                   spoken_languages  \\\n",
            "0  373554033.0     81.0           [{'iso_639_1': 'en', 'name': 'English'}]   \n",
            "1  262797249.0    104.0  [{'iso_639_1': 'en', 'name': 'English'}, {'iso...   \n",
            "2          0.0    101.0           [{'iso_639_1': 'en', 'name': 'English'}]   \n",
            "3   81452156.0    127.0           [{'iso_639_1': 'en', 'name': 'English'}]   \n",
            "4   76578911.0    106.0           [{'iso_639_1': 'en', 'name': 'English'}]   \n",
            "\n",
            "     status                                            tagline  \\\n",
            "0  Released                                                NaN   \n",
            "1  Released          Roll the dice and unleash the excitement!   \n",
            "2  Released  Still Yelling. Still Fighting. Still Ready for...   \n",
            "3  Released  Friends are the people who let you be yourself...   \n",
            "4  Released  Just When His World Is Back To Normal... He's ...   \n",
            "\n",
            "                         title  video  vote_average  vote_count  \n",
            "0                    Toy Story  False           7.7      5415.0  \n",
            "1                      Jumanji  False           6.9      2413.0  \n",
            "2             Grumpier Old Men  False           6.5        92.0  \n",
            "3            Waiting to Exhale  False           6.1        34.0  \n",
            "4  Father of the Bride Part II  False           5.7       173.0  \n",
            "========================================================================================================================\n",
            "Number of Movies: 9099\n",
            "Number of Features for Each Movie: 24\n",
            "========================================================================================================================\n",
            "Movie Title List Sample: \n",
            "title\n",
            "Toy Story                      0\n",
            "Jumanji                        1\n",
            "Grumpier Old Men               2\n",
            "Waiting to Exhale              3\n",
            "Father of the Bride Part II    4\n",
            "dtype: int64\n",
            "========================================================================================================================\n",
            "Count Matrix Shape: (9099, 31002)\n",
            "========================================================================================================================\n",
            "Cosine Similarity Matrix Sample:\n",
            "[[1.         0.21775178 0.17938683 0.18731716 0.29518164]\n",
            " [0.21775178 1.         0.316661   0.37780483 0.32005178]\n",
            " [0.17938683 0.316661   1.         0.25537696 0.24978594]\n",
            " [0.18731716 0.37780483 0.25537696 1.         0.27169633]\n",
            " [0.29518164 0.32005178 0.24978594 0.27169633 1.        ]]\n",
            "========================================================================================================================\n",
            "Recommendation List:\n",
            "title\n",
            "The Tree of Life           7789\n",
            "Air Force One              1276\n",
            "The Replacement Killers    1384\n",
            "The Last Samurai           5013\n",
            "The Big Boss               3498\n",
            "Prospero's Books           5843\n",
            "The Eagle                  7734\n",
            "Spider Baby                5728\n",
            "The Men                    5044\n",
            "The Leopard                5508\n",
            "dtype: int64\n"
          ],
          "name": "stdout"
        }
      ]
    },
    {
      "cell_type": "markdown",
      "metadata": {
        "id": "pacj1NwgARy2",
        "colab_type": "text"
      },
      "source": [
        "## Question 3 (3 marks):\n",
        "\n",
        "Use the FilmTrust Dataset to replace the MovieLens Dataset in the Tutorial.\n",
        "\n",
        "Choose your own methods (user or item-based collaborative filtering). You can copy the code from the tutorials.\n",
        "\n",
        "### How to get the dataset ?\n",
        "\n",
        "Method1:\n",
        "\n",
        "DataSet DownLoad Link: [here](https://www.librec.net/datasets/filmtrust.zip)\n",
        "\n",
        "Only use the 'ratings.csv' file\n",
        "\n",
        "Method2:\n",
        "\n",
        "Use the dataset from the tutorial folder."
      ]
    },
    {
      "cell_type": "code",
      "metadata": {
        "id": "9IZjNapbmJFp",
        "colab_type": "code",
        "colab": {}
      },
      "source": [
        "# Your code is here\n",
        "from google.colab import files\n",
        "files.upload()"
      ],
      "execution_count": 0,
      "outputs": []
    },
    {
      "cell_type": "code",
      "metadata": {
        "id": "e5_Fmf0UeWKQ",
        "colab_type": "code",
        "colab": {
          "base_uri": "https://localhost:8080/",
          "height": 104
        },
        "outputId": "d4115139-3b8f-499e-ac56-18844670762c"
      },
      "source": [
        "!pip install scikit-surprise"
      ],
      "execution_count": 25,
      "outputs": [
        {
          "output_type": "stream",
          "text": [
            "Requirement already satisfied: scikit-surprise in /usr/local/lib/python3.6/dist-packages (1.0.6)\n",
            "Requirement already satisfied: six>=1.10.0 in /usr/local/lib/python3.6/dist-packages (from scikit-surprise) (1.12.0)\n",
            "Requirement already satisfied: numpy>=1.11.2 in /usr/local/lib/python3.6/dist-packages (from scikit-surprise) (1.16.4)\n",
            "Requirement already satisfied: joblib>=0.11 in /usr/local/lib/python3.6/dist-packages (from scikit-surprise) (0.13.2)\n",
            "Requirement already satisfied: scipy>=1.0.0 in /usr/local/lib/python3.6/dist-packages (from scikit-surprise) (1.3.0)\n"
          ],
          "name": "stdout"
        }
      ]
    },
    {
      "cell_type": "code",
      "metadata": {
        "id": "1uPzwSOvFNF-",
        "colab_type": "code",
        "outputId": "e801accc-fb7a-4869-e080-549f932dc2c1",
        "colab": {
          "base_uri": "https://localhost:8080/",
          "height": 607
        }
      },
      "source": [
        "from utils_q3 import *\n",
        "from surprise.model_selection import cross_validate\n",
        "from surprise import KNNWithMeans\n",
        "import warnings; warnings.simplefilter('ignore')\n",
        "\n",
        "# Load the data\n",
        "#changed the spr_loadData \n",
        "data, n_users, n_items = spr_loadData('ratings.txt')\n",
        "print(\"Loading Data Completed!\")\n",
        "\n",
        "#change the way data is loaded \n",
        "# Select Algorithm KNNWithMeans and Run It\n",
        "sim_options = {'name': 'cosine',\n",
        "               'user_based': True  # compute similarities between users\n",
        "              }\n",
        "algo = KNNWithMeans(k=n_users,sim_options=sim_options)\n",
        "cross_validate(algo, data, measures=['RMSE'], cv=5, verbose=True)"
      ],
      "execution_count": 26,
      "outputs": [
        {
          "output_type": "stream",
          "text": [
            "   uid  iid  ratings\n",
            "0    1    1      2.0\n",
            "1    1    2      4.0\n",
            "2    1    3      3.5\n",
            "3    1    4      3.0\n",
            "4    1    5      4.0\n",
            "Loading Data Completed!\n",
            "Computing the cosine similarity matrix...\n",
            "Done computing similarity matrix.\n",
            "Computing the cosine similarity matrix...\n",
            "Done computing similarity matrix.\n",
            "Computing the cosine similarity matrix...\n",
            "Done computing similarity matrix.\n",
            "Computing the cosine similarity matrix...\n",
            "Done computing similarity matrix.\n",
            "Computing the cosine similarity matrix...\n",
            "Done computing similarity matrix.\n",
            "Evaluating RMSE of algorithm KNNWithMeans on 5 split(s).\n",
            "\n",
            "                  Fold 1  Fold 2  Fold 3  Fold 4  Fold 5  Mean    Std     \n",
            "RMSE (testset)    0.8351  0.8344  0.8375  0.8422  0.8292  0.8357  0.0042  \n",
            "Fit time          1.79    1.72    1.64    1.71    1.66    1.71    0.05    \n",
            "Test time         5.62    5.69    5.64    5.72    5.76    5.68    0.05    \n"
          ],
          "name": "stdout"
        },
        {
          "output_type": "execute_result",
          "data": {
            "text/plain": [
              "{'fit_time': (1.7911078929901123,\n",
              "  1.7232348918914795,\n",
              "  1.644749402999878,\n",
              "  1.711334228515625,\n",
              "  1.6552612781524658),\n",
              " 'test_rmse': array([0.83505447, 0.83440924, 0.83752545, 0.84215059, 0.82916853]),\n",
              " 'test_time': (5.620956897735596,\n",
              "  5.686152935028076,\n",
              "  5.635926961898804,\n",
              "  5.7156922817230225,\n",
              "  5.758887052536011)}"
            ]
          },
          "metadata": {
            "tags": []
          },
          "execution_count": 26
        }
      ]
    },
    {
      "cell_type": "code",
      "metadata": {
        "id": "SPaEz300Fhyq",
        "colab_type": "code",
        "colab": {}
      },
      "source": [
        "#import libraries and helper functions\n",
        "from utils_q3 import *\n",
        "from sklearn.metrics.pairwise import cosine_similarity\n",
        "import heapq\n",
        "import warnings; warnings.simplefilter('ignore')"
      ],
      "execution_count": 0,
      "outputs": []
    },
    {
      "cell_type": "code",
      "metadata": {
        "id": "n0RBtn7QFkQI",
        "colab_type": "code",
        "colab": {}
      },
      "source": [
        "def cosSimilarityUser(data):\n",
        "    # Calculate the Cosine Similarity Matrix\n",
        "    user_similarity = cosine_similarity(data)\n",
        "    \n",
        "    # Preview the Similarity Matrix\n",
        "    print(\"Similarity Matrix Sample\")\n",
        "    print(user_similarity[:5, :5])\n",
        "    print(\"Similarity Matrix Dimension\")\n",
        "    print(np.shape(user_similarity))\n",
        "    print(\"=\" * 120)\n",
        "    \n",
        "    return user_similarity"
      ],
      "execution_count": 0,
      "outputs": []
    },
    {
      "cell_type": "code",
      "metadata": {
        "id": "guANBJNTFnu8",
        "colab_type": "code",
        "colab": {}
      },
      "source": [
        "def predictUser(ratings, similarity, num_items):\n",
        "    # The Average Rating Values for Each User\n",
        "    mean_user_rating = np.repeat(np.array([ratings.mean(axis=1)]), num_items, axis=0).T\n",
        "\n",
        "    # The Difference Between Each Rating Value and The Average Value\n",
        "    ratings_diff = ratings - mean_user_rating\n",
        "\n",
        "    # Calculate the Predicted Score\n",
        "    pred = mean_user_rating + \\\n",
        "           np.dot(similarity, ratings_diff) / np.array([np.abs(similarity).sum(axis=1)]).T\n",
        "    \n",
        "    return pred"
      ],
      "execution_count": 0,
      "outputs": []
    },
    {
      "cell_type": "code",
      "metadata": {
        "id": "-qhcd0sFFsJz",
        "colab_type": "code",
        "colab": {}
      },
      "source": [
        "def recItemsForOneUser(pred_array, train_array, user, num_rec):\n",
        "    # Change Training Arrary Into Sparse Matrix\n",
        "    train_matrix = sp.csr_matrix(train_array)\n",
        "\n",
        "    # Get the Item IDs in the Training Data For the Specified User\n",
        "    train_items_for_user = train_matrix.getrow(user).nonzero()[1]\n",
        "\n",
        "    # Create A Dictionary with Key-Value Pairs as ItemID-PredictedValue Pair\n",
        "    pred_dict_for_user = dict(zip(np.arange(train_matrix.shape[1]), pred_array[user]))\n",
        "\n",
        "    # Remove the Key-Value Pairs used in Training\n",
        "    for iid in train_items_for_user:\n",
        "        pred_dict_for_user.pop(iid)\n",
        "\n",
        "    # Select the Top-N Items in The Sorted List\n",
        "    rec_list_for_user = heapq.nlargest(num_rec, pred_dict_for_user.items(), key=lambda tup: tup[1])\n",
        "\n",
        "    # Get the Item ID List From the Top-N Tuples\n",
        "    rec_item_list = [tup[0] for tup in rec_list_for_user]\n",
        "    return rec_item_list"
      ],
      "execution_count": 0,
      "outputs": []
    },
    {
      "cell_type": "code",
      "metadata": {
        "id": "NLYFoV_OFvV6",
        "colab_type": "code",
        "colab": {}
      },
      "source": [
        "def Precision_and_Recall(pred_item_list, test_item_list):\n",
        "    # Calculate the Number of Occurrences of Testing Item IDs in the Prediction Item ID List\n",
        "    sum_relevant_item = 0\n",
        "    for item in test_item_list:\n",
        "        if item in pred_item_list:\n",
        "            sum_relevant_item += 1\n",
        "\n",
        "    # Calculate the Precision and Recall Value\n",
        "    precision = sum_relevant_item / len(pred_item_list)\n",
        "    recall = sum_relevant_item / len(test_item_list)\n",
        "\n",
        "    return precision, recall"
      ],
      "execution_count": 0,
      "outputs": []
    },
    {
      "cell_type": "code",
      "metadata": {
        "id": "cq93yYu4FyH0",
        "colab_type": "code",
        "colab": {}
      },
      "source": [
        "def calMetrics(train_array, test_array, pred_array, at_K):\n",
        "    # Get All the User IDs in Test Dataset\n",
        "    test_matrix = sp.coo_matrix(test_array)\n",
        "    test_users = test_matrix.row\n",
        "    test_matrix = test_matrix.tocsr()\n",
        "\n",
        "    # List to Store the Precision/Recall Value for Each User\n",
        "    precision_u_at_K = []\n",
        "    recall_u_at_K = []\n",
        "\n",
        "    # Loop for Each User\n",
        "    for u in test_users:\n",
        "        # Get the Recommendation List for the User in Consideration\n",
        "        rec_list_u = recItemsForOneUser(pred_array, train_array, u, at_K)\n",
        "\n",
        "        # Generate an Item ID List For Testing\n",
        "        item_list_u = test_matrix.getrow(u).nonzero()[1]\n",
        "\n",
        "        # Calculate the Precision and Recall Value for this User\n",
        "        precision_u, recall_u = Precision_and_Recall(rec_list_u, item_list_u)\n",
        "\n",
        "        # Save the Precision/Recall Values\n",
        "        precision_u_at_K.append(precision_u)\n",
        "        recall_u_at_K.append(recall_u)\n",
        "\n",
        "    # Calculate the Average Precision/Recall Values Over All Users\n",
        "    print(\"Precision@\"+str(at_K)+\": \"+str(np.mean(precision_u_at_K)))\n",
        "    print(\"Recall@\"+str(at_K)+\": \"+str(np.mean(recall_u_at_K)))\n",
        "    print(\"=\" * 120)"
      ],
      "execution_count": 0,
      "outputs": []
    },
    {
      "cell_type": "code",
      "metadata": {
        "id": "OCjJ61n_bE3Q",
        "colab_type": "code",
        "outputId": "aaf1cb3c-0a44-4d91-a1bd-f015bdc98bb2",
        "colab": {
          "base_uri": "https://localhost:8080/",
          "height": 485
        }
      },
      "source": [
        "if __name__ == '__main__':\n",
        "    # Load Data\n",
        "    train, test, num_users, num_items, uid_min, iid_min = loadData(test_size=0.2)\n",
        "    train_array, test_array = train.toarray(), test.toarray()\n",
        "    \n",
        "    # Similarity And Prediction Matrices (User)\n",
        "    similarity_user_array = cosSimilarityUser(train_array)\n",
        "    pred_user_array = predictUser(train_array, similarity_user_array, num_items)\n",
        "\n",
        "    # Recommendation\n",
        "    rec_list = recItemsForOneUser(pred_user_array, train_array, 257, 10)\n",
        "    print(\"The Recommendation List for User Is: \" + str(rec_list+iid_min))\n",
        "    print(\"=\" * 120)\n",
        "    \n",
        "    # Metrics Calculation\n",
        "    calMetrics(train_array, test_array, pred_user_array, 5)"
      ],
      "execution_count": 34,
      "outputs": [
        {
          "output_type": "stream",
          "text": [
            "Data Preview:\n",
            "   uid  iid  ratings       time\n",
            "0  196  242        3  881250949\n",
            "1  186  302        3  891717742\n",
            "2   22  377        1  878887116\n",
            "3  244   51        2  880606923\n",
            "4  166  346        1  886397596\n",
            "========================================================================================================================\n",
            "Number of Users: 943\n",
            "Number of Items: 1682\n",
            "========================================================================================================================\n",
            "Sample Data: [[5 3 4 ... 0 0 0]]\n",
            "========================================================================================================================\n",
            "Similarity Matrix Sample\n",
            "[[1.         0.16359537 0.03365039 0.07323055 0.30757548]\n",
            " [0.16359537 1.         0.08520491 0.16757297 0.07164769]\n",
            " [0.03365039 0.08520491 1.         0.19338712 0.02781491]\n",
            " [0.07323055 0.16757297 0.19338712 1.         0.03761586]\n",
            " [0.30757548 0.07164769 0.02781491 0.03761586 1.        ]]\n",
            "Similarity Matrix Dimension\n",
            "(943, 943)\n",
            "========================================================================================================================\n",
            "The Recommendation List for User Is: [313 288 286 302  50 269 748 333 181 245]\n",
            "========================================================================================================================\n",
            "Precision@5: 0.49233000000000005\n",
            "Recall@5: 0.0755\n",
            "========================================================================================================================\n"
          ],
          "name": "stdout"
        }
      ]
    },
    {
      "cell_type": "markdown",
      "metadata": {
        "id": "JpsQ_IL-wmrT",
        "colab_type": "text"
      },
      "source": [
        "## Question 4 (1 mark):\n",
        "\n",
        "Create a list of numbers from 1 to 20, then use a ‘while’ loop to print the odd numbers only."
      ]
    },
    {
      "cell_type": "code",
      "metadata": {
        "id": "Q1Q98ZC2wmFE",
        "colab_type": "code",
        "colab": {}
      },
      "source": [
        "# Your code is here\n",
        "list = [item for item in range(1,21)]\n",
        "#print(list)\n",
        "\n",
        "def odd_num(list):\n",
        "  l = []\n",
        "  count = 0\n",
        "  while(count < 20):\n",
        "    if count % 2 != 0:\n",
        "      l.append(count)\n",
        "    count+=1\n",
        "  return l"
      ],
      "execution_count": 0,
      "outputs": []
    },
    {
      "cell_type": "code",
      "metadata": {
        "id": "c9txElBjTsaP",
        "colab_type": "code",
        "colab": {
          "base_uri": "https://localhost:8080/",
          "height": 35
        },
        "outputId": "2f47d87b-cb6b-4fd7-e301-f781c33fa2a4"
      },
      "source": [
        "odd_num(list)"
      ],
      "execution_count": 36,
      "outputs": [
        {
          "output_type": "execute_result",
          "data": {
            "text/plain": [
              "[1, 3, 5, 7, 9, 11, 13, 15, 17, 19]"
            ]
          },
          "metadata": {
            "tags": []
          },
          "execution_count": 36
        }
      ]
    },
    {
      "cell_type": "markdown",
      "metadata": {
        "id": "zZCPZs_IwyDq",
        "colab_type": "text"
      },
      "source": [
        "##Question 5 (1 mark):\n",
        "\n",
        "Using a ‘for’ loop, count the occurrences of the letter ‘a’ in the word ‘Anaconda’ regardless of the case of the letter."
      ]
    },
    {
      "cell_type": "code",
      "metadata": {
        "id": "2EBDWANTRJOo",
        "colab_type": "code",
        "colab": {}
      },
      "source": [
        "def check_freq(string):\n",
        "  count = 0\n",
        "  for char in string:\n",
        "    if char == 'a' or char == 'A':\n",
        "      count+=1\n",
        "  return count"
      ],
      "execution_count": 0,
      "outputs": []
    },
    {
      "cell_type": "code",
      "metadata": {
        "id": "sRfp2Qb5PH1Y",
        "colab_type": "code",
        "colab": {
          "base_uri": "https://localhost:8080/",
          "height": 35
        },
        "outputId": "f9c54972-b319-48ce-d09d-926edf73c33e"
      },
      "source": [
        "x = 'Anaconda'\n",
        "check_freq('Anaconda')"
      ],
      "execution_count": 38,
      "outputs": [
        {
          "output_type": "execute_result",
          "data": {
            "text/plain": [
              "3"
            ]
          },
          "metadata": {
            "tags": []
          },
          "execution_count": 38
        }
      ]
    },
    {
      "cell_type": "code",
      "metadata": {
        "colab_type": "code",
        "id": "zQ2B2KrvSsnR",
        "colab": {
          "base_uri": "https://localhost:8080/",
          "height": 35
        },
        "outputId": "a7294ed5-0be7-4c90-df73-13ac09abcf9c"
      },
      "source": [
        "check_freq('Annie Says hallo ananananananan')"
      ],
      "execution_count": 39,
      "outputs": [
        {
          "output_type": "execute_result",
          "data": {
            "text/plain": [
              "10"
            ]
          },
          "metadata": {
            "tags": []
          },
          "execution_count": 39
        }
      ]
    }
  ]
}