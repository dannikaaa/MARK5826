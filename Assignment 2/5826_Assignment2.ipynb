{
  "nbformat": 4,
  "nbformat_minor": 0,
  "metadata": {
    "colab": {
      "name": "5826 - Assignment2.ipynb",
      "version": "0.3.2",
      "provenance": [],
      "collapsed_sections": []
    },
    "language_info": {
      "codemirror_mode": {
        "name": "ipython",
        "version": 3
      },
      "file_extension": ".py",
      "mimetype": "text/x-python",
      "name": "python",
      "nbconvert_exporter": "python",
      "pygments_lexer": "ipython3",
      "version": "3.7.1"
    },
    "kernelspec": {
      "display_name": "Python 3",
      "language": "python",
      "name": "python3"
    }
  },
  "cells": [
    {
      "cell_type": "markdown",
      "metadata": {
        "colab_type": "text",
        "id": "8NtxDrBVFZww"
      },
      "source": [
        "![alt text](https://www.business.unsw.edu.au/style%20library/asb/assets/images/logo-unsw.png)\n"
      ]
    },
    {
      "cell_type": "markdown",
      "metadata": {
        "colab_type": "text",
        "id": "NHPGybMwANu2"
      },
      "source": [
        "# MARK5826: Assignment 2"
      ]
    },
    {
      "cell_type": "markdown",
      "metadata": {
        "colab_type": "text",
        "id": "JlkCn0ahw7dQ"
      },
      "source": [
        "***Link submission: https://moodle.telt.unsw.edu.au/mod/assign/view.php?id=2364298 \n",
        "There are multiple files that you need to submit to Moodle:\n",
        "- this ipynb files z5011973_Assignment1.ipynb. (for Q1 ,Q2, Q3)\n",
        "- 2 json of IBM Watson Assistant Skill (for Q4 and Q6)\n",
        "- Q5_Ass2_Zid.xlsx (for Q5)\n",
        "- 5 Screenshoots (for Q6)\n",
        "\n",
        "Deadline: 15 July 2019 22:00PM. Penalty -1 a day for a late submission. No cutoff-date. ***"
      ]
    },
    {
      "cell_type": "markdown",
      "metadata": {
        "colab_type": "text",
        "id": "z9Vtet7kAqyj"
      },
      "source": [
        "## Question 1 (1 marks):\n",
        "\n",
        "Create a list of numbers from 1 to 20, then use a ‘while’ loop to print the odd numbers only.\n"
      ]
    },
    {
      "cell_type": "code",
      "metadata": {
        "colab_type": "code",
        "id": "tL3Zmkhg_k8o",
        "colab": {}
      },
      "source": [
        "#your code here\n",
        "list = [item for item in range(1,21)]\n",
        "#print(list)\n",
        "\n",
        "def odd_num(list):\n",
        "  l = []\n",
        "  count = 0\n",
        "  while(count < 20):\n",
        "    if count % 2 != 0:\n",
        "      l.append(count)\n",
        "    count+=1\n",
        "  return l"
      ],
      "execution_count": 0,
      "outputs": []
    },
    {
      "cell_type": "code",
      "metadata": {
        "id": "HnYJyxIWuFqa",
        "colab_type": "code",
        "outputId": "8d3bd694-a95e-4f44-d4e9-7330ac8c1619",
        "colab": {
          "base_uri": "https://localhost:8080/",
          "height": 35
        }
      },
      "source": [
        "odd_num(list)"
      ],
      "execution_count": 0,
      "outputs": [
        {
          "output_type": "execute_result",
          "data": {
            "text/plain": [
              "[1, 3, 5, 7, 9, 11, 13, 15, 17, 19]"
            ]
          },
          "metadata": {
            "tags": []
          },
          "execution_count": 2
        }
      ]
    },
    {
      "cell_type": "markdown",
      "metadata": {
        "colab_type": "text",
        "id": "o3j1J3_I_k8q"
      },
      "source": [
        "## Question 2 (1 marks):\n",
        "\n",
        "Using any kind of loop, count the occurrences of the vocal letter (a,e,o,i,u) in the sentence ‘I Love Jupyter Anaconda Notebook’ regardless of the case of the letter. Show it in a form of a python dictionary. \n",
        "example =  {\"a\":2,\"e\":100,\"o\":45,\"i\":67,\"u\":32}\n"
      ]
    },
    {
      "cell_type": "code",
      "metadata": {
        "id": "7JU3sx683M5u",
        "colab_type": "code",
        "colab": {}
      },
      "source": [
        "def count_vowels(string, vowels):\n",
        "  \n",
        "  #ignore cases\n",
        "  string = string.casefold()\n",
        "  \n",
        "  #form dictionary with key as vowels\n",
        "  count = {}.fromkeys(vowels,0)\n",
        "  \n",
        "  for char in string:\n",
        "    if char in count:\n",
        "      count[char]+=1\n",
        "  return count"
      ],
      "execution_count": 0,
      "outputs": []
    },
    {
      "cell_type": "code",
      "metadata": {
        "id": "9VN4KdSO4L_W",
        "colab_type": "code",
        "outputId": "0f244cc6-7e6e-49d2-ed4d-b47c695862d2",
        "colab": {
          "base_uri": "https://localhost:8080/",
          "height": 35
        }
      },
      "source": [
        "string = 'I Love Jupyter Anaconda Notebook'\n",
        "vowels = 'aeiou'\n",
        "\n",
        "count_vowels(string, vowels)"
      ],
      "execution_count": 0,
      "outputs": [
        {
          "output_type": "execute_result",
          "data": {
            "text/plain": [
              "{'a': 3, 'e': 3, 'i': 1, 'o': 5, 'u': 1}"
            ]
          },
          "metadata": {
            "tags": []
          },
          "execution_count": 4
        }
      ]
    },
    {
      "cell_type": "markdown",
      "metadata": {
        "colab_type": "text",
        "id": "aFaf29h-_k8v"
      },
      "source": [
        "## Question 3 (1 marks):\n",
        "\n",
        "What is your understanding of Intent and Entities? Justify with at least 5 examples for each of them.\n",
        "\n"
      ]
    },
    {
      "cell_type": "markdown",
      "metadata": {
        "colab_type": "text",
        "id": "Nuqj_l_v_k8v"
      },
      "source": [
        "Write your answer here. "
      ]
    },
    {
      "cell_type": "markdown",
      "metadata": {
        "id": "selPEm-dwQVp",
        "colab_type": "text"
      },
      "source": [
        "Intent: They are defined as purposes or goals the user is seeking.\n",
        "\n",
        "\n",
        "1.   Looking for a grocer store\n",
        "2.   Looking for restaurants nearby\n",
        "3.   Paying for a bill\n",
        "4.   Ordering for a phone\n",
        "5.   Asking about the weather conditions \n",
        "\n",
        "\n",
        "\n",
        "Entities: It represent information in the user input that is relevant to the user's purpose.\n",
        "\n",
        "1.   @product\n",
        "2.   @menu\n",
        "3.   @animal\n",
        "4.   @meeting\n",
        "5.   @holidays\n",
        "\n",
        "\n",
        "\n",
        "\n"
      ]
    },
    {
      "cell_type": "markdown",
      "metadata": {
        "colab_type": "text",
        "id": "BwrNuwez_k8w"
      },
      "source": [
        "## Question 4 (1 marks):\n",
        "\n",
        "\n",
        "Following IBM Cloud, as mentioned in the W2 tutorial, Create a skill for Customer Care Unit of Woolworths in IBM Watson Assistant. You need to come up with at least 10 different intents, and add 10 example sentenes for each intents.\n",
        "You will be submitting a .json file containing your Skill. Please name the json file as assignment-woolworths.json\n",
        "\n",
        " \n",
        "\n"
      ]
    },
    {
      "cell_type": "markdown",
      "metadata": {
        "colab_type": "text",
        "id": "yuAa1_JG_k8z"
      },
      "source": [
        "## Question 5 (2 marks):\n",
        "\n",
        "Download question dataset for Intent Recommendation from https://moodle.telt.unsw.edu.au/mod/resource/view.php?id=2374627. Here is instruction:\n",
        "- Create an excel file named Q5_Ass2_Zid.xlsx (eg: Q5_Ass2_z5107027).xlsx with column =[\"Question\", \"Intent from Human\", \"Intent from IBM\", \"Final Intent\"]\n",
        "- Copy all the questions from dataset into column \"Question\"\n",
        "- Read each question and then fill the column \"Intent from Human\" based on your intuition. Make sure that you make at least 4 differnt intents. \n",
        "- Use  Intent recommendation feature in IBM Watson Assistant, and fill the column \"Intent from IBM\" with the predicted intents from \"IBM Intent recommendation\"\n",
        "- Then, compare both intent predictions and assign a final intent for each question in the column \"Final Intent\"\n",
        "\n",
        "Finally, submit you Q5_Ass2_Zid.xlsx it to Moodle. \n",
        "\n",
        " \n",
        "\n"
      ]
    },
    {
      "cell_type": "markdown",
      "metadata": {
        "colab_type": "text",
        "id": "1ZtccS5s_k80"
      },
      "source": [
        "## Question 6 (5 marks):\n",
        "\n",
        "- Download dataset for IBM Watson Discovery.\n",
        "- Create a small retail chatbot, where it can search the database in Watson Discovery based on user message. For example, if user search shirt, then Chatbot will search information about shirt in Watson Discovery.\n",
        "- Submit Json file of your IBM Watson Assistant Skill for this chatbot to Moodle along with all screenshots. Please name the json file as assignment-watson-retail.json\n",
        "\n",
        "\n",
        " \n",
        "\n"
      ]
    },
    {
      "cell_type": "markdown",
      "metadata": {
        "id": "L0wX-4hlt2Gc",
        "colab_type": "text"
      },
      "source": [
        "### Question 6.1 (1 marks):\n",
        "Screenshot the conversation of when user asks information about shirt. Submit it to moodle with file named Screenshot1_question6.\n"
      ]
    },
    {
      "cell_type": "markdown",
      "metadata": {
        "colab_type": "text",
        "id": "7bFM_8by_k81"
      },
      "source": [
        "### Question 6.2 (1 marks):\n",
        "You must screenshot information returned from Watson Discovery. Then, name the file Screenshot2_question6 and submit it to moodle\n",
        "\n",
        "\n",
        " \n",
        "\n"
      ]
    },
    {
      "cell_type": "markdown",
      "metadata": {
        "colab_type": "text",
        "id": "XFpcAnwO_k82"
      },
      "source": [
        "### Question 6.3 (1 marks):\n",
        "Screenshot a converstion in case when Chatbot cannot find any useful information.\n",
        "Then, name the file Screenshot3_question6 and submit it to moodle.\n",
        "    \n"
      ]
    },
    {
      "cell_type": "markdown",
      "metadata": {
        "colab_type": "text",
        "id": "IxhI9EOP_k82"
      },
      "source": [
        "### Question 6.4 (1 marks):\n",
        "Screenshot a converstion in case when user want to start over. Chatbot must return the same question from Question 6.1. For example, if the beginning of the chatbot ask \"Hello, what do you want to buy?\" then if user want to start over, chatbot must return the original question \"Hello, what do you want to buy?\"\n",
        "\n",
        "Screenshot this conversation and then, name the file Screenshot4_question6 and submit it to moodle.\n",
        "    \n"
      ]
    },
    {
      "cell_type": "markdown",
      "metadata": {
        "colab_type": "text",
        "id": "vEdLMHLC_k83"
      },
      "source": [
        "### Question 6.5 (1 marks):\n",
        "Screenshot a conversation in case when user say goodbye. Chatbot must return answer with a goodbye message. Then, name the file Screenshot5_question6 and submit it to moodle.\n"
      ]
    }
  ]
}