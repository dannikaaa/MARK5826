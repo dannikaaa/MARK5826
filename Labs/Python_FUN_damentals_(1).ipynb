{
  "nbformat": 4,
  "nbformat_minor": 0,
  "metadata": {
    "colab": {
      "name": "Python FUN-damentals (1).ipynb",
      "version": "0.3.2",
      "provenance": [],
      "collapsed_sections": [],
      "toc_visible": true
    },
    "language_info": {
      "codemirror_mode": {
        "name": "ipython",
        "version": 3
      },
      "file_extension": ".py",
      "mimetype": "text/x-python",
      "name": "python",
      "nbconvert_exporter": "python",
      "pygments_lexer": "ipython3",
      "version": "3.7.0"
    },
    "kernelspec": {
      "display_name": "Python 3",
      "language": "python",
      "name": "python3"
    }
  },
  "cells": [
    {
      "cell_type": "markdown",
      "metadata": {
        "colab_type": "text",
        "id": "hR0wMNB57DOx"
      },
      "source": [
        "![alt text](https://www.business.unsw.edu.au/style%20library/asb/assets/images/logo-unsw.png)"
      ]
    },
    {
      "cell_type": "markdown",
      "metadata": {
        "colab_type": "text",
        "id": "YoAk7h9R7QPf"
      },
      "source": [
        "# MARK5826 Product Analytics\n",
        "## Introduction to Python\n",
        "\n",
        "Contributors: James Lin, Namsu Kim, Osamah Al-Qershi\n",
        "\n",
        "Presenter: Osamah Al-Qershi"
      ]
    },
    {
      "cell_type": "markdown",
      "metadata": {
        "colab_type": "text",
        "id": "7IffxkJdxx_3"
      },
      "source": [
        "![alt text](http://blog.opentechschool.org/assets/content/python.png)\n"
      ]
    },
    {
      "cell_type": "markdown",
      "metadata": {
        "colab_type": "text",
        "id": "1f7fAK_vzcYo"
      },
      "source": [
        "# 1. Overview"
      ]
    },
    {
      "cell_type": "markdown",
      "metadata": {
        "colab_type": "text",
        "id": "iXjTCh-WMlUS"
      },
      "source": [
        "## What is it?"
      ]
    },
    {
      "cell_type": "markdown",
      "metadata": {
        "colab_type": "text",
        "id": "mkHLeXNx1Zxx"
      },
      "source": [
        "Python is a programming language. Just as we have languages like English, Chinese and French to talk amongst people, a programming language is a way of talking to the computer to perform specific tasks.\n",
        "\n",
        "For example, when you use a software such as Microsoft Excel, you would perform tasks such as sorting, filtering columns or drawing a bar graph. In a way, you can see Python as a different tool that can perform these same functions as Excel."
      ]
    },
    {
      "cell_type": "markdown",
      "metadata": {
        "colab_type": "text",
        "id": "fX0r-JJ89HFJ"
      },
      "source": [
        "## Why are we using Python?\n",
        "![alt text](https://cdn-images-1.medium.com/max/1600/1*_R4CyVH0DSXkJsoRk-Px_Q.png)"
      ]
    },
    {
      "cell_type": "markdown",
      "metadata": {
        "colab_type": "text",
        "id": "onPZXWKCVpEB"
      },
      "source": [
        "## Companies using Python\n",
        "![alt text](https://4.bp.blogspot.com/-fFvckdzL0IM/WoaG0NiM0II/AAAAAAAAXOA/VwbfmSEI7XAQuoqnkpF3ev2ZhHExhorPwCLcBGAs/s640/Companies-Using-Python-Python-Programming-Language-Edureka.png)"
      ]
    },
    {
      "cell_type": "markdown",
      "metadata": {
        "colab_type": "text",
        "id": "0i2cUregMt1l"
      },
      "source": [
        "## What can I gain from learning Python in MARK5826?"
      ]
    },
    {
      "cell_type": "markdown",
      "metadata": {
        "colab_type": "text",
        "id": "beJDfr7Y9mRc"
      },
      "source": [
        "###### In MARK5826, we will be teaching Python geared towards **Data Analysis**. Here are some use cases of Python compared to Excel.\n",
        "\n",
        "1. **Handling Big Data:** Python can handle several millions of rows of data, depending on your computer hardware; Excel starts to lag and crash at +750, 000 rows. Also Python performs much more quickly.\n",
        "\n",
        "2. **Automation/Consistency/Reproducibility:** In Python, you can write a script (a document containing all the instructions you've written) containing all the sorting, filtering, cleaning, and run it over a dataset with one command; Excel (if you do not use VBA) would require you to manually filter/clean, which takes time.\n",
        "\n",
        "3. **Extremely Versatile:** Python can perform any task you can think of prom processing various data such as table, text, image, video to creating any graph to performing machine-learning models such as Linear Regression, Random Forests or Neural Networks (don't worry if you don't know these) \n",
        "\n",
        "![alt image](http://chris35wills.github.io/courses/pydata_stack.png)\n",
        "\n",
        "That being said, Excel is still an extremely useful tool and it is strongly encouraged to use them both."
      ]
    },
    {
      "cell_type": "markdown",
      "metadata": {
        "colab_type": "text",
        "id": "MCP58nqOHuCr"
      },
      "source": [
        "\n",
        "**IMPORTANT:** Please work with Python 3 Notebooks, which use Python version 3.6.7. (as of 2019 Term 1).\n",
        "\n",
        "You can check what version you are using from *Edit -> Notebook Settings* or running the code below.\n"
      ]
    },
    {
      "cell_type": "code",
      "metadata": {
        "colab_type": "code",
        "id": "H0W-3TSp8e1x",
        "outputId": "384f5a77-3037-483b-b7f4-98e8094bf449",
        "colab": {
          "base_uri": "https://localhost:8080/",
          "height": 52
        }
      },
      "source": [
        "# Print the Python version (you do not need to know this for the course)\n",
        "import sys\n",
        "print(sys.version)"
      ],
      "execution_count": 1,
      "outputs": [
        {
          "output_type": "stream",
          "text": [
            "3.6.7 (default, Oct 22 2018, 11:32:17) \n",
            "[GCC 8.2.0]\n"
          ],
          "name": "stdout"
        }
      ]
    },
    {
      "cell_type": "markdown",
      "metadata": {
        "colab_type": "text",
        "id": "uSlA1OAYBMyN"
      },
      "source": [
        "\n",
        "The aim of this notebook is to introduce the Python programming language. Only the bare minimum necessary for getting started with Python and Pandas package. If you want to learn more about Python, consider going through the excellent tutorial http://docs.python.org/tutorial. Dedicated books are also available, such as http://diveintopython.org/.\n",
        "\n",
        "![alt image](https://s3.amazonaws.com/assets.datacamp.com/blog_assets/Cheat+Sheets/content_pythonfordatascience.png)"
      ]
    },
    {
      "cell_type": "markdown",
      "metadata": {
        "colab_type": "text",
        "id": "Q68L95J0XFo5"
      },
      "source": [
        "## Font Colour Definitions"
      ]
    },
    {
      "cell_type": "markdown",
      "metadata": {
        "colab_type": "text",
        "id": "NLW3Vt1uXHeC"
      },
      "source": [
        "-<font color='green'> **Green: Important Key Concepts** </font>\n",
        "\n",
        "\n",
        "-<font color='blue'> **Blue: Variable Names and Variable Values** </font>"
      ]
    },
    {
      "cell_type": "markdown",
      "metadata": {
        "id": "v3WMxKxBL6qI",
        "colab_type": "text"
      },
      "source": [
        "# Part 1 (30 min)\n"
      ]
    },
    {
      "cell_type": "markdown",
      "metadata": {
        "colab_type": "text",
        "id": "BWB1g8_uD65R"
      },
      "source": [
        "## Printing\n",
        "\n",
        "In Python, <font color='green'> **print** </font>  displays text on screen. Here is an example.\n"
      ]
    },
    {
      "cell_type": "code",
      "metadata": {
        "colab_type": "code",
        "id": "yBoHk67CEFs-",
        "outputId": "1b3358cd-98b1-4841-f18a-af90d6d798d0",
        "colab": {
          "base_uri": "https://localhost:8080/",
          "height": 35
        }
      },
      "source": [
        "print('Hello, World!')"
      ],
      "execution_count": 2,
      "outputs": [
        {
          "output_type": "stream",
          "text": [
            "Hello, World!\n"
          ],
          "name": "stdout"
        }
      ]
    },
    {
      "cell_type": "markdown",
      "metadata": {
        "colab_type": "text",
        "id": "_n8dngguKnc2"
      },
      "source": [
        "The message “Hello, World!” is then displayed.\n",
        "\n",
        "**Congratulations!** You just executed your first Python code!\n",
        "\n",
        "The <font color='green'> **print** </font> function prints whatever is between the parentheses ( )."
      ]
    },
    {
      "cell_type": "code",
      "metadata": {
        "colab_type": "code",
        "id": "ookI7hENp-VZ",
        "outputId": "5b12b7aa-d7fa-408f-e393-5ef22d6ce13f",
        "colab": {
          "base_uri": "https://localhost:8080/",
          "height": 35
        }
      },
      "source": [
        "print(2)"
      ],
      "execution_count": 3,
      "outputs": [
        {
          "output_type": "stream",
          "text": [
            "2\n"
          ],
          "name": "stdout"
        }
      ]
    },
    {
      "cell_type": "code",
      "metadata": {
        "colab_type": "code",
        "id": "sZiLxopZH7Yx",
        "outputId": "9e79a0f0-7772-4dc8-88f4-884c9c577da9",
        "colab": {
          "base_uri": "https://localhost:8080/",
          "height": 35
        }
      },
      "source": [
        "\"Hello World\""
      ],
      "execution_count": 4,
      "outputs": [
        {
          "output_type": "execute_result",
          "data": {
            "text/plain": [
              "'Hello World'"
            ]
          },
          "metadata": {
            "tags": []
          },
          "execution_count": 4
        }
      ]
    },
    {
      "cell_type": "code",
      "metadata": {
        "colab_type": "code",
        "id": "vuJ0_VfLKCi6",
        "outputId": "348a7192-2c1c-401a-9ce7-a0c7fc1eee86",
        "colab": {
          "base_uri": "https://localhost:8080/",
          "height": 52
        }
      },
      "source": [
        "print(\"Hello World\")\n",
        "print(\"Bye World\")"
      ],
      "execution_count": 5,
      "outputs": [
        {
          "output_type": "stream",
          "text": [
            "Hello World\n",
            "Bye World\n"
          ],
          "name": "stdout"
        }
      ]
    },
    {
      "cell_type": "markdown",
      "metadata": {
        "colab_type": "text",
        "id": "OK93C5FnM20o"
      },
      "source": [
        "## Variables and Types\n",
        "\n",
        "<font color='green'> **Variables** </font> are used to store information (numbers, texts, tables, etc) to be referenced and manipulated in a Python program.\n",
        "\n",
        "This tutorial will go over a few basic types of variables:"
      ]
    },
    {
      "cell_type": "markdown",
      "metadata": {
        "colab_type": "text",
        "id": "F9dLkIddOHHP"
      },
      "source": [
        "### Numbers"
      ]
    },
    {
      "cell_type": "markdown",
      "metadata": {
        "colab_type": "text",
        "id": "VKZRzhkXKMMx"
      },
      "source": [
        "#### Definition"
      ]
    },
    {
      "cell_type": "markdown",
      "metadata": {
        "colab_type": "text",
        "id": "Rhe5pBzgKQ-P"
      },
      "source": [
        "In programming, you can define numbers and apply mathematical operations to them.\n",
        "\n",
        "Python supports different types of numbers. However, in this class we will just focus on <font color='green'> **integers** </font> and <font color='green'> **floats** </font> as they are the most common types we will encounter."
      ]
    },
    {
      "cell_type": "markdown",
      "metadata": {
        "colab_type": "text",
        "id": "gGcqKNiCO_yM"
      },
      "source": [
        "##### Integers"
      ]
    },
    {
      "cell_type": "markdown",
      "metadata": {
        "colab_type": "text",
        "id": "vhNBnpWDOzRt"
      },
      "source": [
        "<font color='green'>**Integers**</font> represent whole numbers.\n",
        "\n",
        "To define an <font color='green'> **integer variable** </font>, use the following syntax:"
      ]
    },
    {
      "cell_type": "code",
      "metadata": {
        "colab_type": "code",
        "id": "r2PpqeoeOPSF",
        "colab": {}
      },
      "source": [
        "a = 10"
      ],
      "execution_count": 0,
      "outputs": []
    },
    {
      "cell_type": "markdown",
      "metadata": {
        "colab_type": "text",
        "id": "KBWdx9SdPNkN"
      },
      "source": [
        "This stores the value  <font color='blue'>**10**</font> in the <font color='green'>**variable**</font>  <font color='blue'> **a**</font>. Note that it did not print or display anything."
      ]
    },
    {
      "cell_type": "markdown",
      "metadata": {
        "colab_type": "text",
        "id": "Ad9MFxBWPMOF"
      },
      "source": [
        "##### Floating-Point Number"
      ]
    },
    {
      "cell_type": "markdown",
      "metadata": {
        "colab_type": "text",
        "id": "GgsRkD8HPT7K"
      },
      "source": [
        "<font color='green'>**Floating-Point (float)**</font> represents a decimal number.\n",
        "\n",
        "In the same manner as <font color='green'>**integers**</font>, we can define a <font color='green'> **float variable** </font>"
      ]
    },
    {
      "cell_type": "code",
      "metadata": {
        "colab_type": "code",
        "id": "7gU2d4mgPo1H",
        "colab": {}
      },
      "source": [
        "b = 2.5"
      ],
      "execution_count": 0,
      "outputs": []
    },
    {
      "cell_type": "markdown",
      "metadata": {
        "colab_type": "text",
        "id": "DZukDP3OQ2HH"
      },
      "source": [
        "Data is now stored in the <font color='green'>**variables**</font> <font color='blue'>**a</font> and <font color='blue'>b**</font>.\n",
        "\n",
        "We can use these two variables in any part of our program, like this:"
      ]
    },
    {
      "cell_type": "code",
      "metadata": {
        "colab_type": "code",
        "id": "Ue-KQrzjK9j1",
        "outputId": "ef959d83-313f-4e99-a031-11d1b0b76905",
        "colab": {
          "base_uri": "https://localhost:8080/",
          "height": 52
        }
      },
      "source": [
        "print(a)\n",
        "print(type(a))"
      ],
      "execution_count": 8,
      "outputs": [
        {
          "output_type": "stream",
          "text": [
            "10\n",
            "<class 'int'>\n"
          ],
          "name": "stdout"
        }
      ]
    },
    {
      "cell_type": "code",
      "metadata": {
        "colab_type": "code",
        "id": "Cpu4iwnNf3jg",
        "outputId": "eadfd846-f38f-42b1-fa38-ea0d51f80a41",
        "colab": {
          "base_uri": "https://localhost:8080/",
          "height": 52
        }
      },
      "source": [
        "print(b)\n",
        "print(type(b))"
      ],
      "execution_count": 9,
      "outputs": [
        {
          "output_type": "stream",
          "text": [
            "2.5\n",
            "<class 'float'>\n"
          ],
          "name": "stdout"
        }
      ]
    },
    {
      "cell_type": "markdown",
      "metadata": {
        "colab_type": "text",
        "id": "tFL3a2JYKO1K"
      },
      "source": [
        "#### Operations"
      ]
    },
    {
      "cell_type": "markdown",
      "metadata": {
        "colab_type": "text",
        "id": "xIX6G4kZLN5z"
      },
      "source": [
        "Python provides many mathematical operations for you to use. \n",
        "\n",
        "Here are some basic operations.\n",
        "\n",
        "**NOTE: In Python, you can write <font color='green'> comments </font> to describe something that could be difficult to understand. Comments don't do anything. You can use the hashtag \"#\" for a single-line comment or triple quotes \"\"\" \"\"\" for a multi-line comment.**"
      ]
    },
    {
      "cell_type": "code",
      "metadata": {
        "colab_type": "code",
        "id": "NQtImGUqRDlB",
        "colab": {
          "base_uri": "https://localhost:8080/",
          "height": 87
        },
        "outputId": "f218b344-9f0e-4e51-a887-6115c2ecc385"
      },
      "source": [
        "x = 11\n",
        "y = 2.5\n",
        "print(x + y) # Addition\n",
        "print(x - y) # Subtraction\n",
        "print(x * y) # Multiplication\n",
        "print(x / y) # Division"
      ],
      "execution_count": 10,
      "outputs": [
        {
          "output_type": "stream",
          "text": [
            "13.5\n",
            "8.5\n",
            "27.5\n",
            "4.4\n"
          ],
          "name": "stdout"
        }
      ]
    },
    {
      "cell_type": "markdown",
      "metadata": {
        "colab_type": "text",
        "id": "7rNXLSo4RTjj"
      },
      "source": [
        "Here are a few more Python operations."
      ]
    },
    {
      "cell_type": "code",
      "metadata": {
        "colab_type": "code",
        "id": "px9TtYRORdZW",
        "outputId": "df5ede9b-6164-4a71-86f0-abe25567fb15",
        "colab": {
          "base_uri": "https://localhost:8080/",
          "height": 69
        }
      },
      "source": [
        "\"\"\"You do not need to learn/memorise this. Just be aware that they exist.\"\"\"\n",
        "x = 5\n",
        "y = 2\n",
        "print(x ** y) # Exponent (x to the power of y | x^y)\n",
        "print(x // y) # Quotient (division without the use of remainders)\n",
        "print(x % y)  # Modulus (remainder from division)"
      ],
      "execution_count": 11,
      "outputs": [
        {
          "output_type": "stream",
          "text": [
            "25\n",
            "2\n",
            "1\n"
          ],
          "name": "stdout"
        }
      ]
    },
    {
      "cell_type": "markdown",
      "metadata": {
        "colab_type": "text",
        "id": "7FaACRDWohDz"
      },
      "source": [
        "More information about the different types of operators in Python can be found in https://www.programiz.com/python-programming/operators\n"
      ]
    },
    {
      "cell_type": "markdown",
      "metadata": {
        "colab_type": "text",
        "id": "mPGijWEXQmj8"
      },
      "source": [
        "### Strings"
      ]
    },
    {
      "cell_type": "markdown",
      "metadata": {
        "colab_type": "text",
        "id": "QHE85j6JQnd2"
      },
      "source": [
        "#### Definition"
      ]
    },
    {
      "cell_type": "markdown",
      "metadata": {
        "colab_type": "text",
        "id": "MwOznMZpR9QJ"
      },
      "source": [
        "A <font color='green'>**string**</font> represents text. A string comprises of characters, similar to how a word or sentence contains letters.\n",
        "\n",
        "Here are some examples:"
      ]
    },
    {
      "cell_type": "code",
      "metadata": {
        "colab_type": "code",
        "id": "IPA7ArxeR_vF",
        "colab": {}
      },
      "source": [
        "word = 'Melena'\n",
        "sentence = \"I will pass this course!!!\"\n",
        "letter = 'a'"
      ],
      "execution_count": 0,
      "outputs": []
    },
    {
      "cell_type": "markdown",
      "metadata": {
        "colab_type": "text",
        "id": "_YtAXUqRUKCr"
      },
      "source": [
        "Notice that:\n",
        "**To define a  <font color='green'>string</font>, use  the single quotation marks <font color='green'>**' '**</font> or double quotation marks <font color='green'>**\" \"**</font>**\n",
        "\n",
        "<font color='blue'> **'Melena'** </font> is a word, <font color='blue'> **\"I will pass this course!!!\"** </font> is a sentence, and <font color='blue'> **'a'** </font> is a letter. \n",
        "\n",
        "However, whatever is inside <font color='green'>**' '**</font>  or <font color='green'>**\" \"**</font> will appear as a <font color='green'>**string**</font> to Python.\n",
        "\n",
        "Again, the above lines do not print anything. They just define the <font color='green'>**variables**</font>. We can print the contents of these <font color='green'>**variables**</font> using the function <font color='green'>**print**</font>:"
      ]
    },
    {
      "cell_type": "code",
      "metadata": {
        "colab_type": "code",
        "id": "aMbsP2WlUDgl",
        "outputId": "ba6bc082-94b2-4541-827c-826d84addf03",
        "colab": {
          "base_uri": "https://localhost:8080/",
          "height": 208
        }
      },
      "source": [
        "print(word)\n",
        "print(type(word))\n",
        "print(len(word))  # len = Length of the string\n",
        "\n",
        "print(\"\")\n",
        "\n",
        "print(sentence)\n",
        "print(type(sentence))\n",
        "print(len(sentence))\n",
        "\n",
        "print(\"\")\n",
        "\n",
        "print(letter)\n",
        "print(type(letter))\n",
        "print(len(letter))"
      ],
      "execution_count": 13,
      "outputs": [
        {
          "output_type": "stream",
          "text": [
            "Melena\n",
            "<class 'str'>\n",
            "6\n",
            "\n",
            "I will pass this course!!!\n",
            "<class 'str'>\n",
            "26\n",
            "\n",
            "a\n",
            "<class 'str'>\n",
            "1\n"
          ],
          "name": "stdout"
        }
      ]
    },
    {
      "cell_type": "markdown",
      "metadata": {
        "colab_type": "text",
        "id": "E2vY-iA3Qo4L"
      },
      "source": [
        "#### Operations"
      ]
    },
    {
      "cell_type": "markdown",
      "metadata": {
        "colab_type": "text",
        "id": "fmgy3G2bTw1T"
      },
      "source": [
        "##### Indexing"
      ]
    },
    {
      "cell_type": "markdown",
      "metadata": {
        "colab_type": "text",
        "id": "ithAji56T_2m"
      },
      "source": [
        "To <font color='green'>**index**</font> something means to keep track of data so that it can be accessed quickly.\n",
        "\n",
        "Similar to how a non-fiction book would have an index at the back, a string can also be indexed.\n",
        "\n",
        "If we have a string \"Obama,\" it's elements and indexes would be\n",
        "\n",
        "Value | O | b | a | m | a\n",
        "--- | ---\n",
        "Index (Left to Right)| 0 | 1 | 2 | 3 | 4\n",
        "Index (Right to Left)| -5 | -4 | -3 | -2 | -1\n",
        "\n",
        "The notation to perform string indexing is to use square brackets with the index inside.\n",
        "\n",
        "**Note:** This is an important concept. Later in the course, you will extract a specific part of a list or databases to check, delete unnecessary data and etc."
      ]
    },
    {
      "cell_type": "code",
      "metadata": {
        "colab_type": "code",
        "id": "uQrkeoprVTDU",
        "colab": {}
      },
      "source": [
        "us_President = \"Obama\""
      ],
      "execution_count": 0,
      "outputs": []
    },
    {
      "cell_type": "code",
      "metadata": {
        "colab_type": "code",
        "id": "VSffbJMPgMEu",
        "outputId": "1df2383b-5a30-4d30-8762-3b44e44bfe4f",
        "colab": {
          "base_uri": "https://localhost:8080/",
          "height": 35
        }
      },
      "source": [
        "print(us_President[0])  # Get the 1st element (0th index) of the string"
      ],
      "execution_count": 15,
      "outputs": [
        {
          "output_type": "stream",
          "text": [
            "O\n"
          ],
          "name": "stdout"
        }
      ]
    },
    {
      "cell_type": "code",
      "metadata": {
        "colab_type": "code",
        "id": "5cYCcx5HgPyx",
        "outputId": "6b752fea-82b0-4cb5-a911-f85330905f8c",
        "colab": {
          "base_uri": "https://localhost:8080/",
          "height": 35
        }
      },
      "source": [
        "print(us_President[1])  # Get the 2nd element (1st index) of the string"
      ],
      "execution_count": 16,
      "outputs": [
        {
          "output_type": "stream",
          "text": [
            "b\n"
          ],
          "name": "stdout"
        }
      ]
    },
    {
      "cell_type": "code",
      "metadata": {
        "colab_type": "code",
        "id": "0afdeYADgZS5",
        "outputId": "7f214f38-dd7a-4170-a41b-689dc4382af4",
        "colab": {
          "base_uri": "https://localhost:8080/",
          "height": 35
        }
      },
      "source": [
        "print(us_President[-1]) # Get the last element of the string"
      ],
      "execution_count": 17,
      "outputs": [
        {
          "output_type": "stream",
          "text": [
            "a\n"
          ],
          "name": "stdout"
        }
      ]
    },
    {
      "cell_type": "code",
      "metadata": {
        "colab_type": "code",
        "id": "t8faqCZxgcjR",
        "outputId": "6abb5a6a-797b-404b-8cec-c4af86b9c618",
        "colab": {
          "base_uri": "https://localhost:8080/",
          "height": 35
        }
      },
      "source": [
        "print(us_President[-2]) # Get the 2nd last element of the string"
      ],
      "execution_count": 18,
      "outputs": [
        {
          "output_type": "stream",
          "text": [
            "m\n"
          ],
          "name": "stdout"
        }
      ]
    },
    {
      "cell_type": "markdown",
      "metadata": {
        "colab_type": "text",
        "id": "rE5Cr3ojaQy7"
      },
      "source": [
        "##### Slicing"
      ]
    },
    {
      "cell_type": "markdown",
      "metadata": {
        "colab_type": "text",
        "id": "gf9ferI5718Q"
      },
      "source": [
        "![alt text](https://i.stack.imgur.com/IVkET.jpg)"
      ]
    },
    {
      "cell_type": "markdown",
      "metadata": {
        "colab_type": "text",
        "id": "QZnY3CW9aTOQ"
      },
      "source": [
        "To <font color='green'>**slice**</font> a <font color='green'>**string**</font> means to extract a subset.\n",
        "\n",
        "The notation to perform slicing is **[start:stop:step]**."
      ]
    },
    {
      "cell_type": "code",
      "metadata": {
        "colab_type": "code",
        "id": "R6kg7p16aSxF",
        "colab": {}
      },
      "source": [
        "sentence = \"Welcome to MARK5826!\""
      ],
      "execution_count": 0,
      "outputs": []
    },
    {
      "cell_type": "code",
      "metadata": {
        "colab_type": "code",
        "id": "SrwyLkPrgl-9",
        "outputId": "12bf606a-47b4-4e11-9e1f-2aa7abb90393",
        "colab": {
          "base_uri": "https://localhost:8080/",
          "height": 35
        }
      },
      "source": [
        "print(sentence[1:3])               # Start from 1st index (inclusive); Stop at 3rd index (exclusive)"
      ],
      "execution_count": 20,
      "outputs": [
        {
          "output_type": "stream",
          "text": [
            "el\n"
          ],
          "name": "stdout"
        }
      ]
    },
    {
      "cell_type": "code",
      "metadata": {
        "colab_type": "code",
        "id": "8ZgdaMS8gq2a",
        "outputId": "0008abc7-d226-4395-d333-0a5dece2cf1b",
        "colab": {
          "base_uri": "https://localhost:8080/",
          "height": 35
        }
      },
      "source": [
        "print(sentence[:3])                # Same as sentence[0:3]"
      ],
      "execution_count": 21,
      "outputs": [
        {
          "output_type": "stream",
          "text": [
            "Wel\n"
          ],
          "name": "stdout"
        }
      ]
    },
    {
      "cell_type": "code",
      "metadata": {
        "colab_type": "code",
        "id": "vLCIA4BngsZZ",
        "outputId": "8cfc697b-78e6-44ae-de15-d920f8ebcc5c",
        "colab": {
          "base_uri": "https://localhost:8080/",
          "height": 35
        }
      },
      "source": [
        "print(sentence[3:])                # Same as sentence[3:len(sentence)]"
      ],
      "execution_count": 22,
      "outputs": [
        {
          "output_type": "stream",
          "text": [
            "come to MARK5826!\n"
          ],
          "name": "stdout"
        }
      ]
    },
    {
      "cell_type": "code",
      "metadata": {
        "colab_type": "code",
        "id": "BQh3WWh9gvH5",
        "outputId": "ac093485-b803-4334-aa82-e94c8998cff6",
        "colab": {
          "base_uri": "https://localhost:8080/",
          "height": 35
        }
      },
      "source": [
        "print(sentence[0:len(sentence):2]) # Print whole string, two steps at a time."
      ],
      "execution_count": 23,
      "outputs": [
        {
          "output_type": "stream",
          "text": [
            "Wloet AK86\n"
          ],
          "name": "stdout"
        }
      ]
    },
    {
      "cell_type": "code",
      "metadata": {
        "colab_type": "code",
        "id": "YyGoKgtLg0Dv",
        "outputId": "06dcc89b-0193-4b63-d5e5-9892b689558c",
        "colab": {
          "base_uri": "https://localhost:8080/",
          "height": 35
        }
      },
      "source": [
        "print(sentence[-3:])              # Print the last 3 characters "
      ],
      "execution_count": 24,
      "outputs": [
        {
          "output_type": "stream",
          "text": [
            "26!\n"
          ],
          "name": "stdout"
        }
      ]
    },
    {
      "cell_type": "markdown",
      "metadata": {
        "colab_type": "text",
        "id": "WQTeXkemTs8B"
      },
      "source": [
        "##### Concatenation"
      ]
    },
    {
      "cell_type": "markdown",
      "metadata": {
        "colab_type": "text",
        "id": "jIs_PKMfDA6r"
      },
      "source": [
        "In programming, <font color='green'>**concatenation**</font> just means joining. \n",
        "\n",
        "Below are some examples of <font color='green'>**string concatenation**</font>"
      ]
    },
    {
      "cell_type": "code",
      "metadata": {
        "colab_type": "code",
        "id": "X_uo9TriRGiI",
        "colab": {}
      },
      "source": [
        "laugh = \"ha\"\n",
        "help_me = \"...help me...\""
      ],
      "execution_count": 0,
      "outputs": []
    },
    {
      "cell_type": "code",
      "metadata": {
        "colab_type": "code",
        "id": "_ZUtw4oehi2J",
        "outputId": "86416f94-ca55-4511-81ea-e3f467d9f153",
        "colab": {
          "base_uri": "https://localhost:8080/",
          "height": 35
        }
      },
      "source": [
        "print(laugh + \"haa\")     # Join 2 strings"
      ],
      "execution_count": 26,
      "outputs": [
        {
          "output_type": "stream",
          "text": [
            "hahaa\n"
          ],
          "name": "stdout"
        }
      ]
    },
    {
      "cell_type": "code",
      "metadata": {
        "colab_type": "code",
        "id": "rHx2ZcovhqbQ",
        "outputId": "81c92430-5571-4194-c10d-b57efead0ce2",
        "colab": {
          "base_uri": "https://localhost:8080/",
          "height": 35
        }
      },
      "source": [
        "print(laugh * 5)         # Repeat String 5 times"
      ],
      "execution_count": 27,
      "outputs": [
        {
          "output_type": "stream",
          "text": [
            "hahahahaha\n"
          ],
          "name": "stdout"
        }
      ]
    },
    {
      "cell_type": "code",
      "metadata": {
        "colab_type": "code",
        "id": "WIZGsgshhroU",
        "outputId": "a3ebd376-8919-4f1a-948b-0bae4f7d939b",
        "colab": {
          "base_uri": "https://localhost:8080/",
          "height": 35
        }
      },
      "source": [
        "haha_help_me = laugh * 5 + help_me\n",
        "print(haha_help_me)"
      ],
      "execution_count": 28,
      "outputs": [
        {
          "output_type": "stream",
          "text": [
            "hahahahaha...help me...\n"
          ],
          "name": "stdout"
        }
      ]
    },
    {
      "cell_type": "markdown",
      "metadata": {
        "id": "Nn-k2vcfL6tw",
        "colab_type": "text"
      },
      "source": [
        "# Exercise 1\n",
        "Write a python code to print your name and age.\n",
        "For example:\n",
        "\n",
        "Tom\n",
        "\n",
        "24"
      ]
    },
    {
      "cell_type": "markdown",
      "metadata": {
        "id": "ZDbBTONhL6t1",
        "colab_type": "text"
      },
      "source": [
        "# Answer"
      ]
    },
    {
      "cell_type": "code",
      "metadata": {
        "id": "KXC8kZXWL6t3",
        "colab_type": "code",
        "colab": {
          "base_uri": "https://localhost:8080/",
          "height": 52
        },
        "outputId": "8d416c24-6893-4152-9f73-8596c95359f2"
      },
      "source": [
        "Name = 'Danica'\n",
        "Age = 22\n",
        "print(Name)\n",
        "print (Age)"
      ],
      "execution_count": 29,
      "outputs": [
        {
          "output_type": "stream",
          "text": [
            "Danica\n",
            "22\n"
          ],
          "name": "stdout"
        }
      ]
    },
    {
      "cell_type": "markdown",
      "metadata": {
        "id": "dX9VesvvL6t-",
        "colab_type": "text"
      },
      "source": [
        "# Exercise 2\n",
        "Modify the code in Exercise 1 to print:\n",
        "\n",
        "Tom is 24\n",
        "\n",
        "# Answer\n"
      ]
    },
    {
      "cell_type": "code",
      "metadata": {
        "id": "bFsBmeIoL6t_",
        "colab_type": "code",
        "colab": {
          "base_uri": "https://localhost:8080/",
          "height": 35
        },
        "outputId": "eac77cdd-a907-4873-ae71-de450ec96a05"
      },
      "source": [
        "Name = 'Tom'\n",
        "Age = 24\n",
        "print(Name + ' is '+str(Age))"
      ],
      "execution_count": 30,
      "outputs": [
        {
          "output_type": "stream",
          "text": [
            "Tom is 24\n"
          ],
          "name": "stdout"
        }
      ]
    },
    {
      "cell_type": "markdown",
      "metadata": {
        "id": "x62wvfSJL6uP",
        "colab_type": "text"
      },
      "source": [
        "# Exercise 3\n",
        "Modify the code in Exercise 1 to print:\n",
        "\n",
        "My name is Tom and I am 24\n",
        "\n",
        "# Answer\n"
      ]
    },
    {
      "cell_type": "code",
      "metadata": {
        "id": "mWwLjXsGL6uT",
        "colab_type": "code",
        "colab": {
          "base_uri": "https://localhost:8080/",
          "height": 35
        },
        "outputId": "38a774eb-78bb-48d6-9f6f-45f4004f234f"
      },
      "source": [
        "Name = 'Tom'\n",
        "Age = 24\n",
        "# put your code here\n",
        "Front = 'My name is'\n",
        "\n",
        "print(Front + ' ' +Name + ' and I am ' + str(Age))\n"
      ],
      "execution_count": 31,
      "outputs": [
        {
          "output_type": "stream",
          "text": [
            "My name is Tom and I am 24\n"
          ],
          "name": "stdout"
        }
      ]
    },
    {
      "cell_type": "markdown",
      "metadata": {
        "id": "67pmuF1IL6ua",
        "colab_type": "text"
      },
      "source": [
        "# Exercise 4\n",
        "Create two numerical variables, A & B and calculate their avergae and print the result.\n",
        "For example: if the value of A and B are 10 and 30, then the code should print 20.\n",
        "# Answer\n"
      ]
    },
    {
      "cell_type": "code",
      "metadata": {
        "id": "17dVB923L6uf",
        "colab_type": "code",
        "colab": {
          "base_uri": "https://localhost:8080/",
          "height": 35
        },
        "outputId": "4f4b849b-e44a-453c-dfdb-f62c6cd9f6fd"
      },
      "source": [
        "A = 10\n",
        "B = 30\n",
        "result = (A+B)//2\n",
        "print (result)"
      ],
      "execution_count": 32,
      "outputs": [
        {
          "output_type": "stream",
          "text": [
            "20\n"
          ],
          "name": "stdout"
        }
      ]
    },
    {
      "cell_type": "markdown",
      "metadata": {
        "id": "hP5u3zq5L6um",
        "colab_type": "text"
      },
      "source": [
        "# Exercise 5\n",
        "Modify the code to calaculate the average of three variables A, B and C\n",
        "# Answer"
      ]
    },
    {
      "cell_type": "code",
      "metadata": {
        "id": "s1UM1sVdL6un",
        "colab_type": "code",
        "colab": {
          "base_uri": "https://localhost:8080/",
          "height": 35
        },
        "outputId": "829c8013-ec5d-491a-f3cd-b488ba184630"
      },
      "source": [
        "# Put your Code here\n",
        "A = 10\n",
        "B = 20\n",
        "C = 30\n",
        "\n",
        "average = (A+B+C)//3\n",
        "print(average)\n",
        "\n"
      ],
      "execution_count": 33,
      "outputs": [
        {
          "output_type": "stream",
          "text": [
            "20\n"
          ],
          "name": "stdout"
        }
      ]
    },
    {
      "cell_type": "markdown",
      "metadata": {
        "id": "R7Demyr5L6uq",
        "colab_type": "text"
      },
      "source": [
        "# Exercise 6\n",
        "You have the string 'Jan Feb Mar', write a Python code to print the following lines:\n",
        "\n",
        "First month is Jan\n",
        "\n",
        "Third month is Mar\n",
        "\n",
        "# Answer"
      ]
    },
    {
      "cell_type": "code",
      "metadata": {
        "id": "KX-4IcoGL6uv",
        "colab_type": "code",
        "colab": {
          "base_uri": "https://localhost:8080/",
          "height": 52
        },
        "outputId": "3cb2f83e-6930-4c36-e484-955a9cdea861"
      },
      "source": [
        "Months = 'Jan Feb Mar'\n",
        "print ('First month is ' + Months[0:3])\n",
        "print ('Third month is ' + Months[-3:])"
      ],
      "execution_count": 34,
      "outputs": [
        {
          "output_type": "stream",
          "text": [
            "First month is Jan\n",
            "Third month is Mar\n"
          ],
          "name": "stdout"
        }
      ]
    },
    {
      "cell_type": "markdown",
      "metadata": {
        "id": "bQeHEP1eL6u0",
        "colab_type": "text"
      },
      "source": [
        "# Quiz 1 (1 Mark)\n",
        "Modify the code in Exercise 6 to print the second month."
      ]
    },
    {
      "cell_type": "code",
      "metadata": {
        "id": "B_0h1R2BL6u2",
        "colab_type": "code",
        "colab": {
          "base_uri": "https://localhost:8080/",
          "height": 35
        },
        "outputId": "8054f89d-01a6-4008-aed2-6d5ef60fa0f3"
      },
      "source": [
        "Months = 'Jan Feb Mar'\n",
        "# put your code here\n",
        "print('Second Month is ' + Months[4:7])"
      ],
      "execution_count": 35,
      "outputs": [
        {
          "output_type": "stream",
          "text": [
            "Second Month is Feb\n"
          ],
          "name": "stdout"
        }
      ]
    },
    {
      "cell_type": "markdown",
      "metadata": {
        "id": "K4DfLmNZL6u5",
        "colab_type": "text"
      },
      "source": [
        "# Part 2 (30 min)\n"
      ]
    },
    {
      "cell_type": "markdown",
      "metadata": {
        "colab_type": "text",
        "id": "5POuytDlqnD5"
      },
      "source": [
        "### Boolean"
      ]
    },
    {
      "cell_type": "markdown",
      "metadata": {
        "colab_type": "text",
        "id": "IEX6Dj1uqfwr"
      },
      "source": [
        "#### Definition"
      ]
    },
    {
      "cell_type": "markdown",
      "metadata": {
        "colab_type": "text",
        "id": "MLYzR_0dAwtp"
      },
      "source": [
        "Python provides the <font color='green'>**Boolean**</font> type that can be either set to <font color='green'>**True** </font> or <font color='green'>**False**</font>. Boolean variables are very important when dealing with <font color='green'>**filtering**</font> (covered later) marketing data you are interested in. For example, when analysing the difference in marketing ad effectivness for different age group, we might have a group where thisPersonIsAdult = <font color='green'>**True**</font> or <font color='green'>**False**</font>.\n",
        "\n",
        "To define a <font color='green'>**variable**</font> of type <font color='green'>**boolean**</font>:\n"
      ]
    },
    {
      "cell_type": "code",
      "metadata": {
        "colab_type": "code",
        "id": "amSLfpbEBwo-",
        "colab": {}
      },
      "source": [
        "state_1 = True\n",
        "state_2 = False"
      ],
      "execution_count": 0,
      "outputs": []
    },
    {
      "cell_type": "code",
      "metadata": {
        "colab_type": "code",
        "id": "FuInqTX7hzPA",
        "outputId": "239078ca-10d2-4919-bc21-237b815720d4",
        "colab": {
          "base_uri": "https://localhost:8080/",
          "height": 87
        }
      },
      "source": [
        "print(state_1)\n",
        "print(type(state_1))\n",
        "print(state_2)\n",
        "print(type(state_2))"
      ],
      "execution_count": 37,
      "outputs": [
        {
          "output_type": "stream",
          "text": [
            "True\n",
            "<class 'bool'>\n",
            "False\n",
            "<class 'bool'>\n"
          ],
          "name": "stdout"
        }
      ]
    },
    {
      "cell_type": "markdown",
      "metadata": {
        "colab_type": "text",
        "id": "fufC4ZvAqc8N"
      },
      "source": [
        "#### Comparison Operators"
      ]
    },
    {
      "cell_type": "markdown",
      "metadata": {
        "colab_type": "text",
        "id": "TPfb3L6A9UWF"
      },
      "source": [
        "In Python, there are Comparison operators.\n",
        "\n",
        "![alt text](https://i.pinimg.com/originals/bd/61/9b/bd619b4111791850194f266b2e43822f.jpg)"
      ]
    },
    {
      "cell_type": "code",
      "metadata": {
        "colab_type": "code",
        "id": "HNfgc9BaqvMW",
        "colab": {}
      },
      "source": [
        "x = 5\n",
        "y = 10\n",
        "z = 2"
      ],
      "execution_count": 0,
      "outputs": []
    },
    {
      "cell_type": "code",
      "metadata": {
        "colab_type": "code",
        "id": "JbmmWhaVh_P8",
        "outputId": "7a82d0c3-dcb4-4deb-cbb6-9b2088ea1126",
        "colab": {
          "base_uri": "https://localhost:8080/",
          "height": 35
        }
      },
      "source": [
        "print(x == y)"
      ],
      "execution_count": 39,
      "outputs": [
        {
          "output_type": "stream",
          "text": [
            "False\n"
          ],
          "name": "stdout"
        }
      ]
    },
    {
      "cell_type": "code",
      "metadata": {
        "colab_type": "code",
        "id": "wpWu-yrEiBd3",
        "outputId": "42bde15f-dc5b-4931-e1ff-124382b73b8a",
        "colab": {
          "base_uri": "https://localhost:8080/",
          "height": 35
        }
      },
      "source": [
        "print(x != x)"
      ],
      "execution_count": 40,
      "outputs": [
        {
          "output_type": "stream",
          "text": [
            "False\n"
          ],
          "name": "stdout"
        }
      ]
    },
    {
      "cell_type": "code",
      "metadata": {
        "colab_type": "code",
        "id": "y3wXhBGqiCZU",
        "outputId": "3c814f2c-5988-4ce0-c96a-37fbab8f6910",
        "colab": {
          "base_uri": "https://localhost:8080/",
          "height": 35
        }
      },
      "source": [
        "print(x > z)"
      ],
      "execution_count": 41,
      "outputs": [
        {
          "output_type": "stream",
          "text": [
            "True\n"
          ],
          "name": "stdout"
        }
      ]
    },
    {
      "cell_type": "code",
      "metadata": {
        "colab_type": "code",
        "id": "ysjmL2huiF4t",
        "outputId": "04fea7d7-3fd1-4d78-f704-6d7f3dfcdd49",
        "colab": {
          "base_uri": "https://localhost:8080/",
          "height": 35
        }
      },
      "source": [
        "print(z < y)"
      ],
      "execution_count": 42,
      "outputs": [
        {
          "output_type": "stream",
          "text": [
            "True\n"
          ],
          "name": "stdout"
        }
      ]
    },
    {
      "cell_type": "code",
      "metadata": {
        "colab_type": "code",
        "id": "qTU7V6D0iHrn",
        "colab": {
          "base_uri": "https://localhost:8080/",
          "height": 35
        },
        "outputId": "28bb44b5-7021-44f0-bf48-7c42ccce1945"
      },
      "source": [
        "print(x >= x)"
      ],
      "execution_count": 43,
      "outputs": [
        {
          "output_type": "stream",
          "text": [
            "True\n"
          ],
          "name": "stdout"
        }
      ]
    },
    {
      "cell_type": "markdown",
      "metadata": {
        "colab_type": "text",
        "id": "P9N-a0QBA4Vx"
      },
      "source": [
        "#### Boolean Operators\n",
        "\n",
        "Python also contains special keywords <font color='green'>**AND, OR, NOT**</font>\n",
        "\n",
        "![alt text](https://sites.google.com/a/onalaskaschools.com/tech/boolean-search-tools/booleanOperators.png?attredirects=0)\n",
        "\n",
        "![alt text](https://upload.wikimedia.org/wikipedia/commons/4/4a/Truth_table_for_AND%2C_OR%2C_and_NOT.png)\n",
        "\n",
        "**Note:** This is an important concept. If we have a large amount of  Apple ad  marketing data from youtube.com, we will analyse a specific set of dataset we are interested in. For example, we could select area = Australia **AND** time = 6pm - 8pm in order to find out how effective ad was during that time in that area."
      ]
    },
    {
      "cell_type": "code",
      "metadata": {
        "colab_type": "code",
        "id": "6zxVJfMIi6Uz",
        "colab": {}
      },
      "source": [
        "x = 5\n",
        "y = 10\n",
        "z = 2"
      ],
      "execution_count": 0,
      "outputs": []
    },
    {
      "cell_type": "code",
      "metadata": {
        "colab_type": "code",
        "id": "1T3qecehy6IO",
        "outputId": "a5105f39-5f1b-4ac9-fc75-abe5f081d174",
        "colab": {
          "base_uri": "https://localhost:8080/",
          "height": 35
        }
      },
      "source": [
        "print(not (z < y))"
      ],
      "execution_count": 45,
      "outputs": [
        {
          "output_type": "stream",
          "text": [
            "False\n"
          ],
          "name": "stdout"
        }
      ]
    },
    {
      "cell_type": "code",
      "metadata": {
        "colab_type": "code",
        "id": "0ylcVH9ai0dM",
        "outputId": "96b8e948-3f95-429c-f481-fc781ebbe0fb",
        "colab": {
          "base_uri": "https://localhost:8080/",
          "height": 35
        }
      },
      "source": [
        "print(x == x and z < y)"
      ],
      "execution_count": 46,
      "outputs": [
        {
          "output_type": "stream",
          "text": [
            "True\n"
          ],
          "name": "stdout"
        }
      ]
    },
    {
      "cell_type": "code",
      "metadata": {
        "colab_type": "code",
        "id": "K6-xWr2Ii14x",
        "outputId": "178c80a0-5d0e-4c3a-dc55-354b7ba4a6b0",
        "colab": {
          "base_uri": "https://localhost:8080/",
          "height": 35
        }
      },
      "source": [
        "print(x > z or y != z)"
      ],
      "execution_count": 47,
      "outputs": [
        {
          "output_type": "stream",
          "text": [
            "True\n"
          ],
          "name": "stdout"
        }
      ]
    },
    {
      "cell_type": "markdown",
      "metadata": {
        "colab_type": "text",
        "id": "F02KFT6B6bSB"
      },
      "source": [
        "### Lists"
      ]
    },
    {
      "cell_type": "markdown",
      "metadata": {
        "colab_type": "text",
        "id": "f63vAWt86cR8"
      },
      "source": [
        "#### Definition"
      ]
    },
    {
      "cell_type": "markdown",
      "metadata": {
        "colab_type": "text",
        "id": "9ghm3tf4YHOV"
      },
      "source": [
        "In a Python list we can store data like a shopping list.\n",
        "\n",
        "A <font color='green'>**list**</font> is created from using square brackets <font color='green'>**[ ]**</font> and using a comma <font color='green'>**,**</font> to separate each item.\n",
        "\n",
        "Here are a few examples."
      ]
    },
    {
      "cell_type": "code",
      "metadata": {
        "colab_type": "code",
        "id": "CGMK-5SsZcfY",
        "colab": {}
      },
      "source": [
        "empty_list = []\n",
        "string_list = ['Mon','Tue','Wed','Thu','Fri']\n",
        "integer_list = [0,2,4,6,8,10]\n",
        "mixed_list = [2019,'Feb',10.4]"
      ],
      "execution_count": 0,
      "outputs": []
    },
    {
      "cell_type": "code",
      "metadata": {
        "colab_type": "code",
        "id": "3eJjqCGwmk1I",
        "outputId": "b2f4aaff-6a6b-4c61-f12b-514ce70a6775",
        "colab": {
          "base_uri": "https://localhost:8080/",
          "height": 277
        }
      },
      "source": [
        "print(empty_list)\n",
        "print(type(empty_list))\n",
        "print(len(empty_list))\n",
        "\n",
        "print(\"\")\n",
        "\n",
        "print(string_list)\n",
        "print(type(string_list))\n",
        "print(len(string_list))\n",
        "\n",
        "print(\"\")\n",
        "\n",
        "print(integer_list)\n",
        "print(type(integer_list))\n",
        "print(len(integer_list))\n",
        "\n",
        "print(\"\")\n",
        "\n",
        "print(mixed_list)\n",
        "print(type(mixed_list))\n",
        "print(len(mixed_list))"
      ],
      "execution_count": 49,
      "outputs": [
        {
          "output_type": "stream",
          "text": [
            "[]\n",
            "<class 'list'>\n",
            "0\n",
            "\n",
            "['Mon', 'Tue', 'Wed', 'Thu', 'Fri']\n",
            "<class 'list'>\n",
            "5\n",
            "\n",
            "[0, 2, 4, 6, 8, 10]\n",
            "<class 'list'>\n",
            "6\n",
            "\n",
            "[2019, 'Feb', 10.4]\n",
            "<class 'list'>\n",
            "3\n"
          ],
          "name": "stdout"
        }
      ]
    },
    {
      "cell_type": "markdown",
      "metadata": {
        "colab_type": "text",
        "id": "Ce7lXNKg6f_u"
      },
      "source": [
        "#### Operations"
      ]
    },
    {
      "cell_type": "markdown",
      "metadata": {
        "colab_type": "text",
        "id": "JmI4k4uI6usZ"
      },
      "source": [
        "##### Indexing"
      ]
    },
    {
      "cell_type": "markdown",
      "metadata": {
        "colab_type": "text",
        "id": "I6PxHRdplc0i"
      },
      "source": [
        "A list contains elements just as a string contains characters.\n",
        "\n",
        "Thus, you can index lists in the same way you can index strings.\n",
        "\n",
        "Here are some examples."
      ]
    },
    {
      "cell_type": "code",
      "metadata": {
        "colab_type": "code",
        "id": "pntxfvcslqIz",
        "outputId": "66723886-94f2-4251-b3a2-94c717e712ec",
        "colab": {
          "base_uri": "https://localhost:8080/",
          "height": 35
        }
      },
      "source": [
        "numbers = list(range(1, 10)) # Generates a list of numbers from 1 (start) to 10 (stop)\n",
        "print(numbers)"
      ],
      "execution_count": 50,
      "outputs": [
        {
          "output_type": "stream",
          "text": [
            "[1, 2, 3, 4, 5, 6, 7, 8, 9]\n"
          ],
          "name": "stdout"
        }
      ]
    },
    {
      "cell_type": "code",
      "metadata": {
        "colab_type": "code",
        "id": "aW5pyKf41wsJ",
        "outputId": "517bdf6a-6c81-4844-e2de-9582cc59144d",
        "colab": {
          "base_uri": "https://localhost:8080/",
          "height": 35
        }
      },
      "source": [
        "temp_numbers = [1, 2, 3, 4, 5, 6, 7, 8, 9]\n",
        "print(temp_numbers == numbers) # This will print if temp_numbers is equal to numbers"
      ],
      "execution_count": 51,
      "outputs": [
        {
          "output_type": "stream",
          "text": [
            "True\n"
          ],
          "name": "stdout"
        }
      ]
    },
    {
      "cell_type": "code",
      "metadata": {
        "colab_type": "code",
        "id": "Yt248tvyjrfU",
        "outputId": "99b75343-4e33-426b-fe61-9dd0db70d77e",
        "colab": {
          "base_uri": "https://localhost:8080/",
          "height": 35
        }
      },
      "source": [
        "print(numbers[3]) # the index of the list starts at 0 "
      ],
      "execution_count": 52,
      "outputs": [
        {
          "output_type": "stream",
          "text": [
            "4\n"
          ],
          "name": "stdout"
        }
      ]
    },
    {
      "cell_type": "code",
      "metadata": {
        "colab_type": "code",
        "id": "Q6zbS-pSjsxv",
        "outputId": "cb17e8d8-88af-4dd7-e3b9-cf81e32cca73",
        "colab": {
          "base_uri": "https://localhost:8080/",
          "height": 35
        }
      },
      "source": [
        "print(numbers[1])"
      ],
      "execution_count": 53,
      "outputs": [
        {
          "output_type": "stream",
          "text": [
            "2\n"
          ],
          "name": "stdout"
        }
      ]
    },
    {
      "cell_type": "code",
      "metadata": {
        "colab_type": "code",
        "id": "4_Ax0ut-jtz6",
        "outputId": "665448a2-acf8-43bb-959c-4c5e3bfcb864",
        "colab": {
          "base_uri": "https://localhost:8080/",
          "height": 35
        }
      },
      "source": [
        "print(numbers[-2])"
      ],
      "execution_count": 54,
      "outputs": [
        {
          "output_type": "stream",
          "text": [
            "8\n"
          ],
          "name": "stdout"
        }
      ]
    },
    {
      "cell_type": "code",
      "metadata": {
        "colab_type": "code",
        "id": "equhV2HWlWfZ",
        "outputId": "941b5bc2-f97b-4070-f404-4d51c185e3c0",
        "colab": {
          "base_uri": "https://localhost:8080/",
          "height": 35
        }
      },
      "source": [
        "print(numbers.index(5)) # what is the index of the element 5 of the list numbers"
      ],
      "execution_count": 55,
      "outputs": [
        {
          "output_type": "stream",
          "text": [
            "4\n"
          ],
          "name": "stdout"
        }
      ]
    },
    {
      "cell_type": "markdown",
      "metadata": {
        "colab_type": "text",
        "id": "6deffs6ZlSNv"
      },
      "source": [
        "##### Slicing"
      ]
    },
    {
      "cell_type": "markdown",
      "metadata": {
        "colab_type": "text",
        "id": "RMxwRhrKm9Te"
      },
      "source": [
        "You can also slice lists in the same way you can perform slicing in strings."
      ]
    },
    {
      "cell_type": "code",
      "metadata": {
        "colab_type": "code",
        "id": "v63BH-fGm3XT",
        "outputId": "4ea9d7c0-ac25-4421-e63c-2e1d507e1fe9",
        "colab": {
          "base_uri": "https://localhost:8080/",
          "height": 35
        }
      },
      "source": [
        "numbers = list(range(1,50,4)) # Generates a list of numbers from 1 (start) to 50 (stop) with step=2\n",
        "print(numbers)"
      ],
      "execution_count": 56,
      "outputs": [
        {
          "output_type": "stream",
          "text": [
            "[1, 5, 9, 13, 17, 21, 25, 29, 33, 37, 41, 45, 49]\n"
          ],
          "name": "stdout"
        }
      ]
    },
    {
      "cell_type": "code",
      "metadata": {
        "colab_type": "code",
        "id": "aqzlbmVZj46L",
        "outputId": "a0a86ebd-a02c-4463-aff2-55be9dc0673a",
        "colab": {
          "base_uri": "https://localhost:8080/",
          "height": 35
        }
      },
      "source": [
        "print(numbers[3:5])"
      ],
      "execution_count": 57,
      "outputs": [
        {
          "output_type": "stream",
          "text": [
            "[13, 17]\n"
          ],
          "name": "stdout"
        }
      ]
    },
    {
      "cell_type": "code",
      "metadata": {
        "colab_type": "code",
        "id": "dICPJ4qpj7CY",
        "outputId": "9a1ab527-c82c-4205-fab5-92aaf5d79e11",
        "colab": {
          "base_uri": "https://localhost:8080/",
          "height": 35
        }
      },
      "source": [
        "print(numbers[1:len(numbers):2])"
      ],
      "execution_count": 58,
      "outputs": [
        {
          "output_type": "stream",
          "text": [
            "[5, 13, 21, 29, 37, 45]\n"
          ],
          "name": "stdout"
        }
      ]
    },
    {
      "cell_type": "code",
      "metadata": {
        "colab_type": "code",
        "id": "8qMQmERJj8AW",
        "outputId": "6ae33cce-e05d-41b9-fb0d-db98d86448f8",
        "colab": {
          "base_uri": "https://localhost:8080/",
          "height": 35
        }
      },
      "source": [
        "print(numbers[::-1])"
      ],
      "execution_count": 59,
      "outputs": [
        {
          "output_type": "stream",
          "text": [
            "[49, 45, 41, 37, 33, 29, 25, 21, 17, 13, 9, 5, 1]\n"
          ],
          "name": "stdout"
        }
      ]
    },
    {
      "cell_type": "markdown",
      "metadata": {
        "colab_type": "text",
        "id": "wJgZ5qC-6zk4"
      },
      "source": [
        "##### Concatenation"
      ]
    },
    {
      "cell_type": "markdown",
      "metadata": {
        "colab_type": "text",
        "id": "EdzwWVrQdktB"
      },
      "source": [
        "Joining lists is also very similar to joining strings."
      ]
    },
    {
      "cell_type": "code",
      "metadata": {
        "colab_type": "code",
        "id": "0OMimKkLncRE",
        "colab": {}
      },
      "source": [
        "numbers = [1, 2, 3]"
      ],
      "execution_count": 0,
      "outputs": []
    },
    {
      "cell_type": "code",
      "metadata": {
        "colab_type": "code",
        "id": "n1nxpFrMlBuu",
        "outputId": "17bb4fa5-0c3b-4b91-aced-91a30830d927",
        "colab": {
          "base_uri": "https://localhost:8080/",
          "height": 35
        }
      },
      "source": [
        "\n",
        "print(numbers + numbers)"
      ],
      "execution_count": 61,
      "outputs": [
        {
          "output_type": "stream",
          "text": [
            "[1, 2, 3, 1, 2, 3]\n"
          ],
          "name": "stdout"
        }
      ]
    },
    {
      "cell_type": "code",
      "metadata": {
        "colab_type": "code",
        "id": "zL4gvqzElC9L",
        "outputId": "95ddbfcc-6d42-42a2-ddb4-24d2b5233ab7",
        "colab": {
          "base_uri": "https://localhost:8080/",
          "height": 35
        }
      },
      "source": [
        "print(numbers * 4)"
      ],
      "execution_count": 62,
      "outputs": [
        {
          "output_type": "stream",
          "text": [
            "[1, 2, 3, 1, 2, 3, 1, 2, 3, 1, 2, 3]\n"
          ],
          "name": "stdout"
        }
      ]
    },
    {
      "cell_type": "code",
      "metadata": {
        "colab_type": "code",
        "id": "NGGbVjOIlExz",
        "outputId": "f2b834c1-c902-475b-eea1-767cf9bc8583",
        "colab": {
          "base_uri": "https://localhost:8080/",
          "height": 35
        }
      },
      "source": [
        "numbers.append(4)\n",
        "print(numbers)"
      ],
      "execution_count": 63,
      "outputs": [
        {
          "output_type": "stream",
          "text": [
            "[1, 2, 3, 4]\n"
          ],
          "name": "stdout"
        }
      ]
    },
    {
      "cell_type": "markdown",
      "metadata": {
        "id": "ds74U99cL6w4",
        "colab_type": "text"
      },
      "source": [
        " "
      ]
    },
    {
      "cell_type": "markdown",
      "metadata": {
        "colab_type": "text",
        "id": "ApR9H3gwpI62"
      },
      "source": [
        "### Dictionaries"
      ]
    },
    {
      "cell_type": "markdown",
      "metadata": {
        "colab_type": "text",
        "id": "b_uX5alto2MS"
      },
      "source": [
        "#### Definition"
      ]
    },
    {
      "cell_type": "markdown",
      "metadata": {
        "colab_type": "text",
        "id": "_CJSW56IyfAi"
      },
      "source": [
        "Python dictionaries are like language dictionaries. They have 'keys' and 'values' and just like a normal dictionary, we use a <font color='green'>**key**</font> (a word) to get a <font color='green'>**value**</font> (definition of the word).\n",
        "\n",
        "Here are some examples:"
      ]
    },
    {
      "cell_type": "code",
      "metadata": {
        "colab_type": "code",
        "id": "7XpTIWhQy17h",
        "colab": {}
      },
      "source": [
        "student = {'Name': 'Zara', 'Age': 7, 'Class': 'MARK5826'}"
      ],
      "execution_count": 0,
      "outputs": []
    },
    {
      "cell_type": "markdown",
      "metadata": {
        "colab_type": "text",
        "id": "JrsFTD5uzZ0n"
      },
      "source": [
        "In the above example, we defined a <font color='green'>**dictionary**</font> of the name <font color='blue'>**student**</font>. It has three <font color='green'>**keys**</font>: ' <font color='blue'>**Name**</font>', ' <font color='blue'>**Age**</font>', and ' <font color='blue'>**Class**</font>'. \n",
        "\n",
        "The  <font color='green'>**key**</font> ' <font color='blue'>**Name**</font>' has the value <font color='blue'>**'Zara'**</font>, and so on."
      ]
    },
    {
      "cell_type": "code",
      "metadata": {
        "colab_type": "code",
        "id": "rWBMDSX3oql3",
        "outputId": "ab7bbaae-4073-4c33-b88a-651710f6bcb1",
        "colab": {
          "base_uri": "https://localhost:8080/",
          "height": 87
        }
      },
      "source": [
        "print(student)\n",
        "print(student[\"Name\"])\n",
        "print(len(student))\n",
        "print(type(student))"
      ],
      "execution_count": 65,
      "outputs": [
        {
          "output_type": "stream",
          "text": [
            "{'Name': 'Zara', 'Age': 7, 'Class': 'MARK5826'}\n",
            "Zara\n",
            "3\n",
            "<class 'dict'>\n"
          ],
          "name": "stdout"
        }
      ]
    },
    {
      "cell_type": "code",
      "metadata": {
        "colab_type": "code",
        "id": "iOxYuyOzpIpT",
        "colab": {}
      },
      "source": [
        "empty_dict = {}\n",
        "released = {\n",
        "  \"iphone\" : 2007,\n",
        "  \"iphone 3G\" : 2008,\n",
        "  \"iphone 3GS\" : 2009,\n",
        "  \"iphone 4\" : 2010,\n",
        "  \"iphone 4S\" : 2011,\n",
        "  \"iphone 5\" : 2012\n",
        "}"
      ],
      "execution_count": 0,
      "outputs": []
    },
    {
      "cell_type": "code",
      "metadata": {
        "colab_type": "code",
        "id": "rWomJ8qJoxWc",
        "outputId": "5b6de852-1302-4747-ed31-be2d3b95fd4e",
        "colab": {
          "base_uri": "https://localhost:8080/",
          "height": 176
        }
      },
      "source": [
        "print(empty_dict)\n",
        "print(len(empty_dict))\n",
        "print(type(empty_dict))\n",
        "\n",
        "print(\"\")\n",
        "\n",
        "print(released)\n",
        "print(released[\"iphone 5\"])\n",
        "print(len(released))\n",
        "print(type(released))"
      ],
      "execution_count": 67,
      "outputs": [
        {
          "output_type": "stream",
          "text": [
            "{}\n",
            "0\n",
            "<class 'dict'>\n",
            "\n",
            "{'iphone': 2007, 'iphone 3G': 2008, 'iphone 3GS': 2009, 'iphone 4': 2010, 'iphone 4S': 2011, 'iphone 5': 2012}\n",
            "2012\n",
            "6\n",
            "<class 'dict'>\n"
          ],
          "name": "stdout"
        }
      ]
    },
    {
      "cell_type": "markdown",
      "metadata": {
        "colab_type": "text",
        "id": "PlT_9rSMpA5v"
      },
      "source": [
        "#### Operations"
      ]
    },
    {
      "cell_type": "code",
      "metadata": {
        "colab_type": "code",
        "id": "A9y1bce-H2Wy",
        "colab": {}
      },
      "source": [
        "student = {'Name': 'Zara', 'Age': 7, 'Class': 'MARK5826'}"
      ],
      "execution_count": 0,
      "outputs": []
    },
    {
      "cell_type": "markdown",
      "metadata": {
        "colab_type": "text",
        "id": "mtc_MnK3HyPE"
      },
      "source": [
        "Changing the value of an existing key."
      ]
    },
    {
      "cell_type": "code",
      "metadata": {
        "colab_type": "code",
        "id": "w5tuM_kYpStY",
        "outputId": "97e2f1cd-6260-4c76-fe49-6391a7e02894",
        "colab": {
          "base_uri": "https://localhost:8080/",
          "height": 35
        }
      },
      "source": [
        "student[\"Name\"] = \"Zack\"\n",
        "print(student[\"Name\"])"
      ],
      "execution_count": 69,
      "outputs": [
        {
          "output_type": "stream",
          "text": [
            "Zack\n"
          ],
          "name": "stdout"
        }
      ]
    },
    {
      "cell_type": "markdown",
      "metadata": {
        "colab_type": "text",
        "id": "nrlZ_gW5H8ex"
      },
      "source": [
        "Creating a new key, value pair"
      ]
    },
    {
      "cell_type": "code",
      "metadata": {
        "colab_type": "code",
        "id": "AudEGKDollEW",
        "outputId": "8e058524-d851-44e3-ee68-39b1f3853dbe",
        "colab": {
          "base_uri": "https://localhost:8080/",
          "height": 35
        }
      },
      "source": [
        "student[\"Hobby\"] = \"Basketball\"\n",
        "print(student)"
      ],
      "execution_count": 70,
      "outputs": [
        {
          "output_type": "stream",
          "text": [
            "{'Name': 'Zack', 'Age': 7, 'Class': 'MARK5826', 'Hobby': 'Basketball'}\n"
          ],
          "name": "stdout"
        }
      ]
    },
    {
      "cell_type": "markdown",
      "metadata": {
        "colab_type": "text",
        "id": "VXXNnHzWH_wx"
      },
      "source": [
        "Getting all of the keys in a dictionary."
      ]
    },
    {
      "cell_type": "code",
      "metadata": {
        "colab_type": "code",
        "id": "4M8tyhVclogD",
        "outputId": "894cf9c1-680c-4d05-fcea-46105a80a7eb",
        "colab": {
          "base_uri": "https://localhost:8080/",
          "height": 35
        }
      },
      "source": [
        "print(student.keys())"
      ],
      "execution_count": 71,
      "outputs": [
        {
          "output_type": "stream",
          "text": [
            "dict_keys(['Name', 'Age', 'Class', 'Hobby'])\n"
          ],
          "name": "stdout"
        }
      ]
    },
    {
      "cell_type": "markdown",
      "metadata": {
        "colab_type": "text",
        "id": "QTg4yJCaIDKB"
      },
      "source": [
        "Getting all of the values in a dictionary."
      ]
    },
    {
      "cell_type": "code",
      "metadata": {
        "colab_type": "code",
        "id": "YsoXAsCIlpCx",
        "outputId": "52e4a72d-8cf8-4007-be5e-3d3691ab0a46",
        "colab": {
          "base_uri": "https://localhost:8080/",
          "height": 35
        }
      },
      "source": [
        "print(student.values())"
      ],
      "execution_count": 72,
      "outputs": [
        {
          "output_type": "stream",
          "text": [
            "dict_values(['Zack', 7, 'MARK5826', 'Basketball'])\n"
          ],
          "name": "stdout"
        }
      ]
    },
    {
      "cell_type": "markdown",
      "metadata": {
        "colab_type": "text",
        "id": "FyUHFR4F1f8f"
      },
      "source": [
        "### Python Variable Name Rules\n",
        "\n",
        "\n",
        "- **Must begin with a letter (a - z, A - B) or underscore (_)**\n",
        "- **Other characters can be letters, numbers or _ (no space is allowed)**\n",
        "- **Case Sensitive.(Example: test dose not equal Test)**\n",
        "- **Can be any (reasonable) length**.\n",
        "- **There are some reserved words which you cannot use as a variable name because Python uses them for other things.(Example : <font color='green'> ** print** </font>)**\n",
        "\n",
        " \n",
        "### <font color='green'> Acceptable variable names </font> : <font color='blue'> A1 , count ,   number_of_samples ,   _test </font>\n",
        "\n",
        "### <font color='red'> Unacceptable variable names </font> : <font color='blue'> 1A , count@,   number of samples ,   b-1 , print </font>\n",
        "\n",
        "___________________________________________________________________________________________________________________________________________________________________________________________________________________________"
      ]
    },
    {
      "cell_type": "markdown",
      "metadata": {
        "colab_type": "text",
        "id": "sFnPR2jd5kiL"
      },
      "source": [
        "## Conditional Statements\n"
      ]
    },
    {
      "cell_type": "markdown",
      "metadata": {
        "colab_type": "text",
        "id": "5NFBsXrqIQ-5"
      },
      "source": [
        "Using conditional statements allow the computer to decide what actions to take based on the condition you set. To do this, you will need to define 2 things:\n",
        "  - **A condition**\n",
        "  - **A task**\n",
        "\n",
        "In Python, we can achieve this through **IF**, **ELIF**, and/or **ELSE** statements."
      ]
    },
    {
      "cell_type": "markdown",
      "metadata": {
        "colab_type": "text",
        "id": "QecyPlNhMG1P"
      },
      "source": [
        "\n",
        "\n",
        "```\n",
        "if traffic_light == red:\n",
        "    drive_car()\n",
        "else:\n",
        "    stop()\n",
        "```\n",
        "here\n",
        "- Condition: is traffic light red?\n",
        "- Task: drive car or stop\n"
      ]
    },
    {
      "cell_type": "markdown",
      "metadata": {
        "colab_type": "text",
        "id": "thdY4IfLOEGp"
      },
      "source": [
        "**A few important things to note about syntax.**\n",
        "\n",
        "- Remember to include a **colon** (:) after the condition.\n",
        "- The line after the colon must be **indented**.\n",
        "- All lines indented the same amount after the colon will be executed whenever the condition is true."
      ]
    },
    {
      "cell_type": "code",
      "metadata": {
        "colab_type": "code",
        "id": "s33HPnm86MdN",
        "outputId": "b8c42e47-9fa9-4e3c-df91-97992bf4bac1",
        "colab": {
          "base_uri": "https://localhost:8080/",
          "height": 69
        }
      },
      "source": [
        "mark = 76\n",
        "if mark < 50:         # Condition 1 (remember to use a colon)\n",
        "  print(\"Fail\")       # Task 1 (note that this line is indented)\n",
        "  print(\":(\")\n",
        "else:                 # If Condition 1 Fails\n",
        "  print(\"Success\")    # Task 2\n",
        "  print(\":D\")\n",
        "print(\"._.\")          # Non-indented line"
      ],
      "execution_count": 73,
      "outputs": [
        {
          "output_type": "stream",
          "text": [
            "Success\n",
            ":D\n",
            "._.\n"
          ],
          "name": "stdout"
        }
      ]
    },
    {
      "cell_type": "code",
      "metadata": {
        "colab_type": "code",
        "id": "IBaY-8SGRKVD",
        "outputId": "ed08f39a-bbaa-4fbe-8391-b4e4137d94d1",
        "colab": {
          "base_uri": "https://localhost:8080/",
          "height": 35
        }
      },
      "source": [
        "mark = 100\n",
        "if mark < 50:\n",
        "  print(\"FL\")\n",
        "elif mark < 65:\n",
        "  print(\"PS\")\n",
        "elif mark < 75:\n",
        "  print(\"CR\")\n",
        "elif mark < 85:\n",
        "  print(\"DN\")\n",
        "else:\n",
        "  print(\"HD\")"
      ],
      "execution_count": 74,
      "outputs": [
        {
          "output_type": "stream",
          "text": [
            "HD\n"
          ],
          "name": "stdout"
        }
      ]
    },
    {
      "cell_type": "code",
      "metadata": {
        "colab_type": "code",
        "id": "Oga9SuI76Oax",
        "outputId": "55649588-d99d-490d-a3b6-d0ecd196379e",
        "colab": {
          "base_uri": "https://localhost:8080/",
          "height": 35
        }
      },
      "source": [
        "hobbies = [\"Basketball\", \"Swimming\", \"Tennis\", \"Snooker\"]\n",
        "if \"Snooker\" in hobbies:\n",
        "  print(\"You rock!\")"
      ],
      "execution_count": 75,
      "outputs": [
        {
          "output_type": "stream",
          "text": [
            "You rock!\n"
          ],
          "name": "stdout"
        }
      ]
    },
    {
      "cell_type": "code",
      "metadata": {
        "colab_type": "code",
        "id": "Rb69RS-tqFMI",
        "outputId": "5ac18e6d-83bd-4a84-fdd8-42776f411eab",
        "colab": {
          "base_uri": "https://localhost:8080/",
          "height": 35
        }
      },
      "source": [
        "student = {'Name': 'Zara', 'Age': 7, 'Class': 'MARK5826'}\n",
        "if 'Name' in student.keys():\n",
        "  print(\"Yes\")\n",
        "else:\n",
        "  print(\"No\")"
      ],
      "execution_count": 76,
      "outputs": [
        {
          "output_type": "stream",
          "text": [
            "Yes\n"
          ],
          "name": "stdout"
        }
      ]
    },
    {
      "cell_type": "code",
      "metadata": {
        "colab_type": "code",
        "id": "4314uDdXqYCL",
        "outputId": "59ea88b7-ed82-459c-914f-89837e150b04",
        "colab": {
          "base_uri": "https://localhost:8080/",
          "height": 35
        }
      },
      "source": [
        "if 'Zara' in student.values():\n",
        "  print(\"Yes\")\n",
        "else:\n",
        "  print(\"No\")"
      ],
      "execution_count": 77,
      "outputs": [
        {
          "output_type": "stream",
          "text": [
            "Yes\n"
          ],
          "name": "stdout"
        }
      ]
    },
    {
      "cell_type": "markdown",
      "metadata": {
        "id": "gUUyzoCfL6xi",
        "colab_type": "text"
      },
      "source": [
        "# Exercise 7\n",
        "Run the code below and check the result. Is it correct ?\n",
        "# Code"
      ]
    },
    {
      "cell_type": "markdown",
      "metadata": {
        "id": "6lgw2igAL6xi",
        "colab_type": "text"
      },
      "source": [
        "# Exercise 7\n",
        "Run the code below and check the result. Is it correct ? why ?\n",
        "# Code"
      ]
    },
    {
      "cell_type": "code",
      "metadata": {
        "id": "FrfDxrQiL6xi",
        "colab_type": "code",
        "colab": {
          "base_uri": "https://localhost:8080/",
          "height": 35
        },
        "outputId": "a8d45fbb-1345-4b0c-a95e-2a6755fb7db9"
      },
      "source": [
        "A = 5\n",
        "B ='5'\n",
        "print (A == B)"
      ],
      "execution_count": 78,
      "outputs": [
        {
          "output_type": "stream",
          "text": [
            "False\n"
          ],
          "name": "stdout"
        }
      ]
    },
    {
      "cell_type": "markdown",
      "metadata": {
        "id": "zfCMQIllL6xk",
        "colab_type": "text"
      },
      "source": [
        "# Exercise 8\n",
        "In Exercise 7, modify the code to print 'True' instead of False\n",
        "# Answer"
      ]
    },
    {
      "cell_type": "code",
      "metadata": {
        "id": "QT1zjjdzL6xk",
        "colab_type": "code",
        "colab": {
          "base_uri": "https://localhost:8080/",
          "height": 52
        },
        "outputId": "204cd2ef-8fe9-404e-c3b7-c65deb936f83"
      },
      "source": [
        "A = 5\n",
        "B ='5'\n",
        "print (A == int(B)) #option 1 : convert the string into intger using int \n",
        "print (str(A) == B) #option 2 : convert the intger into string using str"
      ],
      "execution_count": 79,
      "outputs": [
        {
          "output_type": "stream",
          "text": [
            "True\n",
            "True\n"
          ],
          "name": "stdout"
        }
      ]
    },
    {
      "cell_type": "markdown",
      "metadata": {
        "id": "yDye6oFZL6xm",
        "colab_type": "text"
      },
      "source": [
        "# Exercise 9\n",
        "You have a list of the days of the week. Write a Python code to slice it into weekdays and weekends and print the result.\n",
        "# Answer"
      ]
    },
    {
      "cell_type": "code",
      "metadata": {
        "id": "_w7X1X5bL6xm",
        "colab_type": "code",
        "colab": {
          "base_uri": "https://localhost:8080/",
          "height": 52
        },
        "outputId": "7e1b722a-0e2b-4af5-a293-026381887f7b"
      },
      "source": [
        "Days = ['Mon', 'Tue', 'Wed','Thu','Fri','Sat', 'Sun']\n",
        "Weekdays = Days[0:5]\n",
        "Weekends = Days[5::]\n",
        "print (Weekdays)\n",
        "print (Weekends)\n"
      ],
      "execution_count": 80,
      "outputs": [
        {
          "output_type": "stream",
          "text": [
            "['Mon', 'Tue', 'Wed', 'Thu', 'Fri']\n",
            "['Sat', 'Sun']\n"
          ],
          "name": "stdout"
        }
      ]
    },
    {
      "cell_type": "markdown",
      "metadata": {
        "id": "_2_Mx-dyL6xo",
        "colab_type": "text"
      },
      "source": [
        "# Exercise 10\n",
        "Repeat Exercise 9 with string 'Days' below.\n",
        "# Answer"
      ]
    },
    {
      "cell_type": "code",
      "metadata": {
        "id": "4z9woqojL6xp",
        "colab_type": "code",
        "colab": {
          "base_uri": "https://localhost:8080/",
          "height": 52
        },
        "outputId": "fb58e245-aa46-4fcc-8da6-860976c4b398"
      },
      "source": [
        "Days = ['Sat', 'Sun','Mon', 'Tue', 'Wed','Thu','Fri']\n",
        "# put you code here\n",
        "\n",
        "weekdays = Days[2:]\n",
        "weekends = Days[0:2]\n",
        "print(weekdays)\n",
        "print(weekends)"
      ],
      "execution_count": 81,
      "outputs": [
        {
          "output_type": "stream",
          "text": [
            "['Mon', 'Tue', 'Wed', 'Thu', 'Fri']\n",
            "['Sat', 'Sun']\n"
          ],
          "name": "stdout"
        }
      ]
    },
    {
      "cell_type": "markdown",
      "metadata": {
        "id": "GvyAxJhiL6xq",
        "colab_type": "text"
      },
      "source": [
        "# Exercise 11\n",
        "Usinge the function 'range', create a list of odd numbers between 0 and 10.\n",
        "# Answer"
      ]
    },
    {
      "cell_type": "code",
      "metadata": {
        "id": "RQ2-pfmGL6xq",
        "colab_type": "code",
        "colab": {
          "base_uri": "https://localhost:8080/",
          "height": 35
        },
        "outputId": "7d301b58-e713-4500-83a3-812bed8e8907"
      },
      "source": [
        "Odd = list(range(1,10,2))\n",
        "print (Odd)"
      ],
      "execution_count": 82,
      "outputs": [
        {
          "output_type": "stream",
          "text": [
            "[1, 3, 5, 7, 9]\n"
          ],
          "name": "stdout"
        }
      ]
    },
    {
      "cell_type": "markdown",
      "metadata": {
        "id": "MBb228PGL6xt",
        "colab_type": "text"
      },
      "source": [
        "# Exercise 12\n",
        "Modify the code in Exercise 11 to create and print a list of even numbers between 0 and 10.\n",
        "# Answer"
      ]
    },
    {
      "cell_type": "code",
      "metadata": {
        "id": "LKpSx2y2L6xu",
        "colab_type": "code",
        "colab": {
          "base_uri": "https://localhost:8080/",
          "height": 35
        },
        "outputId": "891f006b-4a3e-4294-9296-0e24339206a2"
      },
      "source": [
        "#put your code here\n",
        "even = list(range(0, 10,2))\n",
        "print(even)\n"
      ],
      "execution_count": 83,
      "outputs": [
        {
          "output_type": "stream",
          "text": [
            "[0, 2, 4, 6, 8]\n"
          ],
          "name": "stdout"
        }
      ]
    },
    {
      "cell_type": "markdown",
      "metadata": {
        "id": "zk4xCk9lL6xv",
        "colab_type": "text"
      },
      "source": [
        "# Exercise 13\n",
        "You have the marks of 4 subjects. Print the subjects and the marks as lists.\n",
        "# Answer"
      ]
    },
    {
      "cell_type": "code",
      "metadata": {
        "id": "o0wX1RAwL6xw",
        "colab_type": "code",
        "colab": {
          "base_uri": "https://localhost:8080/",
          "height": 52
        },
        "outputId": "85f50db9-3412-4678-af69-c0c5040b7d1b"
      },
      "source": [
        "Record = {'Math':77,'Science' :89, 'Geography':80, 'English':84}\n",
        "Subjects = list(Record.keys())\n",
        "Marks = list(Record.values())\n",
        "print (Subjects)\n",
        "print(Marks)"
      ],
      "execution_count": 84,
      "outputs": [
        {
          "output_type": "stream",
          "text": [
            "['Math', 'Science', 'Geography', 'English']\n",
            "[77, 89, 80, 84]\n"
          ],
          "name": "stdout"
        }
      ]
    },
    {
      "cell_type": "markdown",
      "metadata": {
        "id": "o5lszT-XL6xz",
        "colab_type": "text"
      },
      "source": [
        "# Quiz 2 (2 Marks)\n",
        "1 - In Exercise 13, calculate the total and the average of the marks, and then add them to the dictionary 'Record'. \n",
        "\n",
        "2 - Based on the calculated average, find out the grade (HD, DN, etc) and add it to 'Record'.\n",
        "\n",
        "3 - Print the dictionary 'Record'"
      ]
    },
    {
      "cell_type": "code",
      "metadata": {
        "id": "7Jy5-2KgL6xz",
        "colab_type": "code",
        "colab": {
          "base_uri": "https://localhost:8080/",
          "height": 87
        },
        "outputId": "23a4f0a8-b841-4f58-a2dd-122465ec41da"
      },
      "source": [
        "Record = {'Math':77,'Science' :89, 'Geography':80, 'English':84}\n",
        "# put your code here\n",
        "total = sum(Record.values())\n",
        "avg = total//len(Record)\n",
        "print(avg)\n",
        "\n",
        "mark = avg\n",
        "if mark < 50:\n",
        "  print(\"FL\")\n",
        "elif mark < 65:\n",
        "  print(\"PS\")\n",
        "elif mark < 75:\n",
        "  print(\"CR\")\n",
        "elif mark < 85:\n",
        "  print(\"DN\")\n",
        "else:\n",
        "  print(\"HD\")\n",
        "  \n",
        "\n",
        "Record['Average'] = '82'\n",
        "print('New Dictionary:')\n",
        "print(Record)"
      ],
      "execution_count": 85,
      "outputs": [
        {
          "output_type": "stream",
          "text": [
            "82\n",
            "DN\n",
            "New Dictionary:\n",
            "{'Math': 77, 'Science': 89, 'Geography': 80, 'English': 84, 'Average': '82'}\n"
          ],
          "name": "stdout"
        }
      ]
    },
    {
      "cell_type": "markdown",
      "metadata": {
        "id": "9OWCSv7TL6x6",
        "colab_type": "text"
      },
      "source": [
        "# Part 3 (30 min)\n"
      ]
    },
    {
      "cell_type": "markdown",
      "metadata": {
        "colab_type": "text",
        "id": "WxZGTIMr6Q0X"
      },
      "source": [
        "## Loops\n"
      ]
    },
    {
      "cell_type": "markdown",
      "metadata": {
        "colab_type": "text",
        "id": "nkKC7DYFOWk6"
      },
      "source": [
        "One way computers transcend human ability is its ability to do repetitive tasks consistently. Loops allow computers to repeat the same task over a list of elements, or until a condition is satisfied.\n",
        "\n",
        "Python has two ways to perform loops:\n",
        "- <font color='green'> **For Loop** </font> \n",
        "- <font color='green'> **While Loop** </font> "
      ]
    },
    {
      "cell_type": "markdown",
      "metadata": {
        "colab_type": "text",
        "id": "Nj7Wh_xPq_h_"
      },
      "source": [
        "### For Loop"
      ]
    },
    {
      "cell_type": "markdown",
      "metadata": {
        "colab_type": "text",
        "id": "LLVbE6SlQJN0"
      },
      "source": [
        "For loop is designed to iterate over a list of elements, until the end of the list has been reached."
      ]
    },
    {
      "cell_type": "code",
      "metadata": {
        "colab_type": "code",
        "id": "Ef12IwG9qiwI",
        "outputId": "b7d02051-da89-4d14-ba3b-33008e68cc08",
        "colab": {
          "base_uri": "https://localhost:8080/",
          "height": 87
        }
      },
      "source": [
        "shopping_items = [\"Bread\", \"Milk\", \"Salmon\", \"Chicken\"]\n",
        "for item in shopping_items:\n",
        "  print(item)"
      ],
      "execution_count": 86,
      "outputs": [
        {
          "output_type": "stream",
          "text": [
            "Bread\n",
            "Milk\n",
            "Salmon\n",
            "Chicken\n"
          ],
          "name": "stdout"
        }
      ]
    },
    {
      "cell_type": "code",
      "metadata": {
        "colab_type": "code",
        "id": "ogNtYXvAqzK-",
        "outputId": "2116cd60-7152-4cd7-9833-8a201889ebb0",
        "colab": {
          "base_uri": "https://localhost:8080/",
          "height": 191
        }
      },
      "source": [
        "for i in range(0,10):\n",
        "  print(i)"
      ],
      "execution_count": 87,
      "outputs": [
        {
          "output_type": "stream",
          "text": [
            "0\n",
            "1\n",
            "2\n",
            "3\n",
            "4\n",
            "5\n",
            "6\n",
            "7\n",
            "8\n",
            "9\n"
          ],
          "name": "stdout"
        }
      ]
    },
    {
      "cell_type": "code",
      "metadata": {
        "colab_type": "code",
        "id": "pxqWrEQyq7pP",
        "outputId": "bd62610d-d043-4976-a4d2-c6236b0cf34d",
        "colab": {
          "base_uri": "https://localhost:8080/",
          "height": 87
        }
      },
      "source": [
        "for i, item in enumerate(shopping_items):\n",
        "  print(\"Purchasing item \" + str(i) + \": \" + item) # str() converts i (integer) into a string"
      ],
      "execution_count": 88,
      "outputs": [
        {
          "output_type": "stream",
          "text": [
            "Purchasing item 0: Bread\n",
            "Purchasing item 1: Milk\n",
            "Purchasing item 2: Salmon\n",
            "Purchasing item 3: Chicken\n"
          ],
          "name": "stdout"
        }
      ]
    },
    {
      "cell_type": "code",
      "metadata": {
        "colab_type": "code",
        "id": "ja34jy0hrF11",
        "outputId": "779372f8-1cc2-4c24-9303-61f1cb0d1649",
        "colab": {
          "base_uri": "https://localhost:8080/",
          "height": 104
        }
      },
      "source": [
        "basketball_team = {\n",
        "  \"Center (C)\": \"DeMarcus Cousins\",\n",
        "  \"Power Forward (PF)\": \"Draymond Green\",\n",
        "  \"Small Forward (SF)\": \"Kevin Durant\",\n",
        "  \"Shooting Guard (SG)\": \"Klay Thompson\",\n",
        "  \"Point Guard (PG)\": \"Stephen Curry\"\n",
        "}\n",
        "\n",
        "for key, value in basketball_team.items():\n",
        "  print(key, value)"
      ],
      "execution_count": 89,
      "outputs": [
        {
          "output_type": "stream",
          "text": [
            "Center (C) DeMarcus Cousins\n",
            "Power Forward (PF) Draymond Green\n",
            "Small Forward (SF) Kevin Durant\n",
            "Shooting Guard (SG) Klay Thompson\n",
            "Point Guard (PG) Stephen Curry\n"
          ],
          "name": "stdout"
        }
      ]
    },
    {
      "cell_type": "markdown",
      "metadata": {
        "colab_type": "text",
        "id": "RxpEyPD8rOsC"
      },
      "source": [
        "### While Loop"
      ]
    },
    {
      "cell_type": "markdown",
      "metadata": {
        "colab_type": "text",
        "id": "BFa0YOkxQXv7"
      },
      "source": [
        "A while loop is designed to run until a user defined condition is no longer satisfied.\n",
        "\n",
        "Pseudo-code example:\n",
        "\n",
        "```\n",
        "while hungry():\n",
        "    eat_food() # Do this while you are hungry\n",
        "    \n",
        "play_games() # Do this when you are not hungry anymore\n",
        "```\n",
        "\n"
      ]
    },
    {
      "cell_type": "code",
      "metadata": {
        "colab_type": "code",
        "id": "fiRLH-MTrNkQ",
        "outputId": "a86879a2-8061-4ef0-f4a8-c3294f40f29b",
        "colab": {
          "base_uri": "https://localhost:8080/",
          "height": 191
        }
      },
      "source": [
        "i = 0\n",
        "while i < 10:\n",
        "  print(i)\n",
        "  i = i + 1"
      ],
      "execution_count": 90,
      "outputs": [
        {
          "output_type": "stream",
          "text": [
            "0\n",
            "1\n",
            "2\n",
            "3\n",
            "4\n",
            "5\n",
            "6\n",
            "7\n",
            "8\n",
            "9\n"
          ],
          "name": "stdout"
        }
      ]
    },
    {
      "cell_type": "code",
      "metadata": {
        "colab_type": "code",
        "id": "WSaGoG9JrjyZ",
        "outputId": "212d0984-91c0-4452-b099-5d1933bacd38",
        "colab": {
          "base_uri": "https://localhost:8080/",
          "height": 87
        }
      },
      "source": [
        "shopping_items = [\"Bread\", \"Milk\", \"Salmon\", \"Chicken\"]\n",
        "index = 0\n",
        "while index < len(shopping_items):\n",
        "  print(shopping_items[index])\n",
        "  index += 1"
      ],
      "execution_count": 91,
      "outputs": [
        {
          "output_type": "stream",
          "text": [
            "Bread\n",
            "Milk\n",
            "Salmon\n",
            "Chicken\n"
          ],
          "name": "stdout"
        }
      ]
    },
    {
      "cell_type": "markdown",
      "metadata": {
        "colab_type": "text",
        "id": "UgF-l9QkSAyR"
      },
      "source": [
        "One unique property of the While loop is that condition can always be satisfied but a program can exit the loop when a condition inside the loop is satisfied using a **break** function."
      ]
    },
    {
      "cell_type": "code",
      "metadata": {
        "colab_type": "code",
        "id": "FA9q66HlRtO3",
        "outputId": "14206644-cb27-4711-e078-123062afff07",
        "colab": {
          "base_uri": "https://localhost:8080/",
          "height": 191
        }
      },
      "source": [
        "i = 0\n",
        "while(True):\n",
        "  i = i + 1\n",
        "  if (i == 10):\n",
        "    break\n",
        "  print (i)\n",
        "print(\"Bye Bye\")\n",
        "  "
      ],
      "execution_count": 92,
      "outputs": [
        {
          "output_type": "stream",
          "text": [
            "1\n",
            "2\n",
            "3\n",
            "4\n",
            "5\n",
            "6\n",
            "7\n",
            "8\n",
            "9\n",
            "Bye Bye\n"
          ],
          "name": "stdout"
        }
      ]
    },
    {
      "cell_type": "markdown",
      "metadata": {
        "colab_type": "text",
        "id": "7tzlm2ca6V-J"
      },
      "source": [
        "## Functions\n"
      ]
    },
    {
      "cell_type": "markdown",
      "metadata": {
        "colab_type": "text",
        "id": "ERx42Vd3uobc"
      },
      "source": [
        "Functions are a convenient way to divide your code into useful blocks, allowing us to structure our code, make it more readable, **reuse** it and save some time. \n",
        "\n",
        "The syntax to define a function would be\n",
        "\n",
        "\n",
        "\n",
        "```\n",
        "def my_function(input1, input2 ..., inputn):\n",
        "    # Write your code here\n",
        "    return output\n",
        "```\n",
        "\n",
        "**Note:** It is not always essential to understand how a function works. However, you must understand what the correct type of inputs and outputs are.\n",
        "\n"
      ]
    },
    {
      "cell_type": "code",
      "metadata": {
        "colab_type": "code",
        "id": "udLyV_ns6nh6",
        "colab": {}
      },
      "source": [
        "def sum(num1, num2):\n",
        "  \"\"\"Performs num1 + num2\"\"\"\n",
        "  \"\"\"\n",
        "  Input:\n",
        "    num1 (Number)\n",
        "    num2 (Number)\n",
        "  Output:\n",
        "    Sum of the 2 numbers\n",
        "  \"\"\"\n",
        "  return num1 + num2"
      ],
      "execution_count": 0,
      "outputs": []
    },
    {
      "cell_type": "code",
      "metadata": {
        "colab_type": "code",
        "id": "7GGSMiBDvqsX",
        "outputId": "4ab89b10-c033-4de0-dfb6-263c1afe9207",
        "colab": {
          "base_uri": "https://localhost:8080/",
          "height": 121
        }
      },
      "source": [
        "help(sum)\n",
        "sum(2, 4)"
      ],
      "execution_count": 94,
      "outputs": [
        {
          "output_type": "stream",
          "text": [
            "Help on function sum in module __main__:\n",
            "\n",
            "sum(num1, num2)\n",
            "    Performs num1 + num2\n",
            "\n"
          ],
          "name": "stdout"
        },
        {
          "output_type": "execute_result",
          "data": {
            "text/plain": [
              "6"
            ]
          },
          "metadata": {
            "tags": []
          },
          "execution_count": 94
        }
      ]
    },
    {
      "cell_type": "code",
      "metadata": {
        "colab_type": "code",
        "id": "ilV4OT7jvQhY",
        "outputId": "3c763e5b-b424-42ea-8e52-14b4cc52e869",
        "colab": {
          "base_uri": "https://localhost:8080/",
          "height": 69
        }
      },
      "source": [
        "\"\"\"This cell demonstrates what code would look like without a function.\"\"\"\n",
        "course_marks = {\n",
        "  \"Angela\": 90,\n",
        "  \"Peter\": 45,\n",
        "  \"Jimmy\": 66\n",
        "}\n",
        "\n",
        "mark = course_marks[\"Angela\"]\n",
        "if mark < 50:\n",
        "  print(\"FL\")\n",
        "elif mark < 65:\n",
        "  print(\"PS\")\n",
        "elif mark < 75:\n",
        "  print(\"CR\")\n",
        "elif mark < 85:\n",
        "  print(\"DN\")\n",
        "else:\n",
        "  print(\"HD\")\n",
        "\n",
        "mark = course_marks[\"Peter\"]\n",
        "if mark < 50:\n",
        "  print(\"FL\")\n",
        "elif mark < 65:\n",
        "  print(\"PS\")\n",
        "elif mark < 75:\n",
        "  print(\"CR\")\n",
        "elif mark < 85:\n",
        "  print(\"DN\")\n",
        "else:\n",
        "  print(\"HD\")\n",
        "  \n",
        "mark = course_marks[\"Jimmy\"]\n",
        "if mark < 50:\n",
        "  print(\"FL\")\n",
        "elif mark < 65:\n",
        "  print(\"PS\")\n",
        "elif mark < 75:\n",
        "  print(\"CR\")\n",
        "elif mark < 85:\n",
        "  print(\"DN\")\n",
        "else:\n",
        "  print(\"HD\")"
      ],
      "execution_count": 95,
      "outputs": [
        {
          "output_type": "stream",
          "text": [
            "HD\n",
            "FL\n",
            "CR\n"
          ],
          "name": "stdout"
        }
      ]
    },
    {
      "cell_type": "code",
      "metadata": {
        "colab_type": "code",
        "id": "QfmFWYYFxPEc",
        "outputId": "699943ad-7ce4-465d-bcba-868edd29051d",
        "colab": {
          "base_uri": "https://localhost:8080/",
          "height": 69
        }
      },
      "source": [
        "\"\"\"This cell makes use of the function 'get_grade' \"\"\"\n",
        "def get_grade(mark):\n",
        "  \"\"\"\n",
        "  Input : mark (number)\n",
        "  Output: What grade has been achieved with that mark.\n",
        "  \n",
        "  \"\"\"\n",
        "  if mark < 50:\n",
        "    print(\"FL\")\n",
        "  elif mark < 65:\n",
        "    print(\"PS\")\n",
        "  elif mark < 75:\n",
        "    print(\"CR\")\n",
        "  elif mark < 85:\n",
        "    print(\"DN\")\n",
        "  else:\n",
        "    print(\"HD\")\n",
        "  return\n",
        "\n",
        "course_marks = {\n",
        "  \"Angela\": 90,\n",
        "  \"Peter\": 45,\n",
        "  \"Jimmy\":66\n",
        "}\n",
        "\n",
        "get_grade(course_marks[\"Angela\"])\n",
        "get_grade(course_marks[\"Peter\"])\n",
        "get_grade(course_marks[\"Jimmy\"])"
      ],
      "execution_count": 96,
      "outputs": [
        {
          "output_type": "stream",
          "text": [
            "HD\n",
            "FL\n",
            "CR\n"
          ],
          "name": "stdout"
        }
      ]
    },
    {
      "cell_type": "markdown",
      "metadata": {
        "colab_type": "text",
        "id": "JctDOVrFWrWM"
      },
      "source": [
        "Python has several built-in functions. You can find them in the [documentation](https://docs.python.org/3.6/library/functions.html).\n",
        "\n",
        "We have used some of them already.\n",
        "- print\n",
        "- type\n",
        "- range\n",
        "- enumerate\n",
        "- str\n",
        "- len\n",
        "\n",
        "**help** is a special Python function that prints out the **docstring** (function description) for a function. "
      ]
    },
    {
      "cell_type": "code",
      "metadata": {
        "colab_type": "code",
        "id": "6jrTLdt0XRcl",
        "outputId": "e0da51c7-294e-4183-b4aa-461efe0542a6",
        "colab": {
          "base_uri": "https://localhost:8080/",
          "height": 104
        }
      },
      "source": [
        "help(len)"
      ],
      "execution_count": 97,
      "outputs": [
        {
          "output_type": "stream",
          "text": [
            "Help on built-in function len in module builtins:\n",
            "\n",
            "len(obj, /)\n",
            "    Return the number of items in a container.\n",
            "\n"
          ],
          "name": "stdout"
        }
      ]
    },
    {
      "cell_type": "markdown",
      "metadata": {
        "colab_type": "text",
        "id": "04CaZBaMyb0O"
      },
      "source": [
        "## List Comprehensions"
      ]
    },
    {
      "cell_type": "markdown",
      "metadata": {
        "colab_type": "text",
        "id": "HyvNAUrXZHey"
      },
      "source": [
        "List comprehensions provide a concise way to create lists. "
      ]
    },
    {
      "cell_type": "code",
      "metadata": {
        "colab_type": "code",
        "id": "EnyQObDEpzNC",
        "outputId": "d86616bb-e377-48f4-8488-3ebe23e690fb",
        "colab": {
          "base_uri": "https://localhost:8080/",
          "height": 35
        }
      },
      "source": [
        "\"\"\"(1) List Comprehension\"\"\"\n",
        "[i for i in range(10)]"
      ],
      "execution_count": 98,
      "outputs": [
        {
          "output_type": "execute_result",
          "data": {
            "text/plain": [
              "[0, 1, 2, 3, 4, 5, 6, 7, 8, 9]"
            ]
          },
          "metadata": {
            "tags": []
          },
          "execution_count": 98
        }
      ]
    },
    {
      "cell_type": "code",
      "metadata": {
        "colab_type": "code",
        "id": "ajvY-2Sgtm55",
        "outputId": "21b07a3e-0e9b-46f8-fe6f-fb2bda14aba4",
        "colab": {
          "base_uri": "https://localhost:8080/",
          "height": 35
        }
      },
      "source": [
        "\"\"\"(1) For Loop that does the same thing\"\"\"\n",
        "l = []\n",
        "for i in range(10):\n",
        "  l.append(i) # append will add a varialbe to the END of the list\n",
        "print(l)"
      ],
      "execution_count": 99,
      "outputs": [
        {
          "output_type": "stream",
          "text": [
            "[0, 1, 2, 3, 4, 5, 6, 7, 8, 9]\n"
          ],
          "name": "stdout"
        }
      ]
    },
    {
      "cell_type": "code",
      "metadata": {
        "colab_type": "code",
        "id": "IpyIaYkDp6tP",
        "outputId": "f66a1058-07d2-4f1b-dda9-e44780b98966",
        "colab": {
          "base_uri": "https://localhost:8080/",
          "height": 35
        }
      },
      "source": [
        "\"\"\"(2) List Comprehension\"\"\"\n",
        "[i for i in range(10) if i % 2 == 0]"
      ],
      "execution_count": 100,
      "outputs": [
        {
          "output_type": "execute_result",
          "data": {
            "text/plain": [
              "[0, 2, 4, 6, 8]"
            ]
          },
          "metadata": {
            "tags": []
          },
          "execution_count": 100
        }
      ]
    },
    {
      "cell_type": "code",
      "metadata": {
        "colab_type": "code",
        "id": "6l8O0V9FtueV",
        "outputId": "6973fba0-4176-46fa-9064-e2f5360a28ad",
        "colab": {
          "base_uri": "https://localhost:8080/",
          "height": 35
        }
      },
      "source": [
        "\"\"\"(2) For Loop that does the same thing\"\"\"\n",
        "l = []\n",
        "for i in range(10):\n",
        "  if i % 2 == 0:\n",
        "    l.append(i)\n",
        "print(l)"
      ],
      "execution_count": 101,
      "outputs": [
        {
          "output_type": "stream",
          "text": [
            "[0, 2, 4, 6, 8]\n"
          ],
          "name": "stdout"
        }
      ]
    },
    {
      "cell_type": "code",
      "metadata": {
        "colab_type": "code",
        "id": "GWs0GMVcrdp4",
        "outputId": "f39c7d93-7bc6-412a-da4c-f8c9990d0742",
        "colab": {
          "base_uri": "https://localhost:8080/",
          "height": 35
        }
      },
      "source": [
        "\"\"\"(3) List Comprehension\"\"\"\n",
        "shopping = {\n",
        "    \"2L Full Cream Milk\": 2.00,\n",
        "    \"100g Smoked Salmon\": 16.99,\n",
        "    \"5 Pack Mi Goreng\": 2.75,\n",
        "    \"1kg Chicken\": 20.99,\n",
        "    \"Starbucks Coffee\": 7.99\n",
        "    \n",
        "}\n",
        "print([item for item, price in shopping.items() if price < 5.00])"
      ],
      "execution_count": 102,
      "outputs": [
        {
          "output_type": "stream",
          "text": [
            "['2L Full Cream Milk', '5 Pack Mi Goreng']\n"
          ],
          "name": "stdout"
        }
      ]
    },
    {
      "cell_type": "code",
      "metadata": {
        "colab_type": "code",
        "id": "P7Yrh7JeuGvM",
        "outputId": "e5276782-44eb-453f-f9f8-189c56fce359",
        "colab": {
          "base_uri": "https://localhost:8080/",
          "height": 35
        }
      },
      "source": [
        "\"\"\"(3) For Loop that does the same thing\"\"\"\n",
        "l = []\n",
        "for item, price in shopping.items():\n",
        "  if price < 5.00:\n",
        "    l.append(item)\n",
        "print(l)"
      ],
      "execution_count": 103,
      "outputs": [
        {
          "output_type": "stream",
          "text": [
            "['2L Full Cream Milk', '5 Pack Mi Goreng']\n"
          ],
          "name": "stdout"
        }
      ]
    },
    {
      "cell_type": "markdown",
      "metadata": {
        "colab_type": "text",
        "id": "KMOX0o6byqC1"
      },
      "source": [
        "## Mapping and Filtering "
      ]
    },
    {
      "cell_type": "markdown",
      "metadata": {
        "colab_type": "text",
        "id": "sMUzo3ksb1v9"
      },
      "source": [
        "Below are some useful utility functions that you can use on a list of values."
      ]
    },
    {
      "cell_type": "code",
      "metadata": {
        "colab_type": "code",
        "id": "d3S7JI3pu1nV",
        "outputId": "ec071a75-61b8-49a7-aa6a-f9c627cf5a2e",
        "colab": {
          "base_uri": "https://localhost:8080/",
          "height": 35
        }
      },
      "source": [
        "numbers = list(range(1, 10))\n",
        "numbers"
      ],
      "execution_count": 104,
      "outputs": [
        {
          "output_type": "execute_result",
          "data": {
            "text/plain": [
              "[1, 2, 3, 4, 5, 6, 7, 8, 9]"
            ]
          },
          "metadata": {
            "tags": []
          },
          "execution_count": 104
        }
      ]
    },
    {
      "cell_type": "markdown",
      "metadata": {
        "colab_type": "text",
        "id": "5ND7If-6a0jB"
      },
      "source": [
        "##### Map"
      ]
    },
    {
      "cell_type": "markdown",
      "metadata": {
        "colab_type": "text",
        "id": "mR4u0xbUa4LG"
      },
      "source": [
        "Map applies a function to all the items in a list."
      ]
    },
    {
      "cell_type": "code",
      "metadata": {
        "colab_type": "code",
        "id": "NSBpETyru_pB",
        "outputId": "092663b3-f4fe-4a05-afd5-65186f6081a0",
        "colab": {
          "base_uri": "https://localhost:8080/",
          "height": 35
        }
      },
      "source": [
        "def add_10(x):\n",
        "  return x+10\n",
        "\n",
        "list(map(add_10, numbers))"
      ],
      "execution_count": 105,
      "outputs": [
        {
          "output_type": "execute_result",
          "data": {
            "text/plain": [
              "[11, 12, 13, 14, 15, 16, 17, 18, 19]"
            ]
          },
          "metadata": {
            "tags": []
          },
          "execution_count": 105
        }
      ]
    },
    {
      "cell_type": "markdown",
      "metadata": {
        "colab_type": "text",
        "id": "4xztIvvAbe8T"
      },
      "source": [
        "##### Filter"
      ]
    },
    {
      "cell_type": "markdown",
      "metadata": {
        "colab_type": "text",
        "id": "6PDXJZ5zbhDr"
      },
      "source": [
        "As the name suggests, filter creates a list of elements for which a function returns true."
      ]
    },
    {
      "cell_type": "code",
      "metadata": {
        "colab_type": "code",
        "id": "JdfM8llHvtoO",
        "outputId": "9b6f1a2d-eb75-43c0-b11c-a74abf537500",
        "colab": {
          "base_uri": "https://localhost:8080/",
          "height": 35
        }
      },
      "source": [
        "def isLessThan5(x):\n",
        "  if x < 5:\n",
        "    return True\n",
        "  else:\n",
        "    return False\n",
        "\n",
        "list(filter(isLessThan5, numbers))"
      ],
      "execution_count": 106,
      "outputs": [
        {
          "output_type": "execute_result",
          "data": {
            "text/plain": [
              "[1, 2, 3, 4]"
            ]
          },
          "metadata": {
            "tags": []
          },
          "execution_count": 106
        }
      ]
    },
    {
      "cell_type": "markdown",
      "metadata": {
        "colab_type": "text",
        "id": "SHCozIoIwObg"
      },
      "source": [
        "## Error Handling"
      ]
    },
    {
      "cell_type": "markdown",
      "metadata": {
        "colab_type": "text",
        "id": "S69YJKUscKXb"
      },
      "source": [
        "Errors are inevitable in Python and programming. However, through errors we can learn and get better at progrmaming. \n",
        "\n",
        "Python will tell you which line has triggered the error, making it usually easy for you to fix the error.\n",
        "\n",
        "If you have trouble fixing your error, feel free to ask a tutor or post on Moodle.\n",
        "\n",
        "\n",
        "Here are some common errors."
      ]
    },
    {
      "cell_type": "code",
      "metadata": {
        "colab_type": "code",
        "id": "_DzZl-DgwR_v",
        "outputId": "a136e4e4-12d6-49ba-e85f-e9e089c2b9ba",
        "colab": {
          "base_uri": "https://localhost:8080/",
          "height": 35
        }
      },
      "source": [
        "string = \"hello\"\n",
        "print(string)"
      ],
      "execution_count": 107,
      "outputs": [
        {
          "output_type": "stream",
          "text": [
            "hello\n"
          ],
          "name": "stdout"
        }
      ]
    },
    {
      "cell_type": "code",
      "metadata": {
        "colab_type": "code",
        "id": "p6iw5zL6dB-L",
        "outputId": "329ce1fe-51ed-4748-e5d4-cd82f6347e54",
        "colab": {
          "base_uri": "https://localhost:8080/",
          "height": 35
        }
      },
      "source": [
        "shopping = [\"Bread\", \"Cake\", \"Ice Cream\"]\n",
        "print(shopping[1])"
      ],
      "execution_count": 108,
      "outputs": [
        {
          "output_type": "stream",
          "text": [
            "Cake\n"
          ],
          "name": "stdout"
        }
      ]
    },
    {
      "cell_type": "code",
      "metadata": {
        "colab_type": "code",
        "id": "fL9O8KEzdN7C",
        "outputId": "04ca7baf-9586-479f-a014-92477cf9dccf",
        "colab": {
          "base_uri": "https://localhost:8080/",
          "height": 35
        }
      },
      "source": [
        "x = 2\n",
        "if x < 10:\n",
        "  print(\"True\")\n",
        "else:\n",
        "  print(\"False\")"
      ],
      "execution_count": 109,
      "outputs": [
        {
          "output_type": "stream",
          "text": [
            "True\n"
          ],
          "name": "stdout"
        }
      ]
    },
    {
      "cell_type": "markdown",
      "metadata": {
        "id": "RbtJiqJAL6zK",
        "colab_type": "text"
      },
      "source": [
        "# Exercise 13\n",
        "Ues a 'for' loop to print the countries in the list clist = ['Canada','USA','Mexico','Australia'].\n",
        "# Answer"
      ]
    },
    {
      "cell_type": "code",
      "metadata": {
        "id": "swHfwbxLL6zK",
        "colab_type": "code",
        "colab": {
          "base_uri": "https://localhost:8080/",
          "height": 87
        },
        "outputId": "24af7bbb-0d4b-46ad-9bac-f2afeec8a4e9"
      },
      "source": [
        "clist = ['Canada','USA','Mexico','Australia']\n",
        "for country in clist:\n",
        "    print (country)"
      ],
      "execution_count": 110,
      "outputs": [
        {
          "output_type": "stream",
          "text": [
            "Canada\n",
            "USA\n",
            "Mexico\n",
            "Australia\n"
          ],
          "name": "stdout"
        }
      ]
    },
    {
      "cell_type": "markdown",
      "metadata": {
        "id": "T6cjIVwZL6zL",
        "colab_type": "text"
      },
      "source": [
        "# Exercise 14\n",
        "Modify the code in Exercise 13 to print the country and its number. The output should be like:\n",
        "\n",
        "Country 1: Canada\n",
        "\n",
        "# Answer"
      ]
    },
    {
      "cell_type": "code",
      "metadata": {
        "id": "jIxBkVSAL6zM",
        "colab_type": "code",
        "colab": {
          "base_uri": "https://localhost:8080/",
          "height": 87
        },
        "outputId": "a93083ca-3538-45a9-9e19-8d1d225fb2b8"
      },
      "source": [
        "clist = ['Canada','USA','Mexico','Australia']\n",
        "for i,country in enumerate (clist):\n",
        "    print ('Country '+str(i+1)+':'+country)"
      ],
      "execution_count": 111,
      "outputs": [
        {
          "output_type": "stream",
          "text": [
            "Country 1:Canada\n",
            "Country 2:USA\n",
            "Country 3:Mexico\n",
            "Country 4:Australia\n"
          ],
          "name": "stdout"
        }
      ]
    },
    {
      "cell_type": "markdown",
      "metadata": {
        "id": "jNOH664XL6zO",
        "colab_type": "text"
      },
      "source": [
        "# Exercise 15\n",
        "Write a Python code to print the multiplication table of 3 using a 'for' loop\n",
        "\n",
        "# Answer"
      ]
    },
    {
      "cell_type": "code",
      "metadata": {
        "id": "O-tHftNrL6zO",
        "colab_type": "code",
        "colab": {
          "base_uri": "https://localhost:8080/",
          "height": 225
        },
        "outputId": "51c9afbc-6234-458e-974e-91987b21033d"
      },
      "source": [
        "for i in range(1,13):\n",
        "    print ('3 x '+str(i)+' = '+str(i*3))"
      ],
      "execution_count": 112,
      "outputs": [
        {
          "output_type": "stream",
          "text": [
            "3 x 1 = 3\n",
            "3 x 2 = 6\n",
            "3 x 3 = 9\n",
            "3 x 4 = 12\n",
            "3 x 5 = 15\n",
            "3 x 6 = 18\n",
            "3 x 7 = 21\n",
            "3 x 8 = 24\n",
            "3 x 9 = 27\n",
            "3 x 10 = 30\n",
            "3 x 11 = 33\n",
            "3 x 12 = 36\n"
          ],
          "name": "stdout"
        }
      ]
    },
    {
      "cell_type": "markdown",
      "metadata": {
        "id": "U-an5qK-L6zQ",
        "colab_type": "text"
      },
      "source": [
        "# Exercise 16\n",
        "Repeat Exercise 15 using a different range as shown below. You have to get the same output.\n",
        "\n",
        "# Answer"
      ]
    },
    {
      "cell_type": "code",
      "metadata": {
        "id": "9pKEvPVYL6zQ",
        "colab_type": "code",
        "colab": {
          "base_uri": "https://localhost:8080/",
          "height": 208
        },
        "outputId": "f3ede545-a7d7-4569-c286-802ef7412a4f"
      },
      "source": [
        "for i in range(1,12):\n",
        "  print('5 x ' +  str(i) + ' = ' + str(i*5))\n",
        "    # put your code here\n"
      ],
      "execution_count": 113,
      "outputs": [
        {
          "output_type": "stream",
          "text": [
            "5 x 1 = 5\n",
            "5 x 2 = 10\n",
            "5 x 3 = 15\n",
            "5 x 4 = 20\n",
            "5 x 5 = 25\n",
            "5 x 6 = 30\n",
            "5 x 7 = 35\n",
            "5 x 8 = 40\n",
            "5 x 9 = 45\n",
            "5 x 10 = 50\n",
            "5 x 11 = 55\n"
          ],
          "name": "stdout"
        }
      ]
    },
    {
      "cell_type": "markdown",
      "metadata": {
        "id": "zOpi-Ei1L6zR",
        "colab_type": "text"
      },
      "source": [
        "# Exercise 17\n",
        "Write a Python code to sum the numbers from 1 to 20 using 'while' loop\n",
        "# Answer"
      ]
    },
    {
      "cell_type": "code",
      "metadata": {
        "id": "xmDalkgaL6zR",
        "colab_type": "code",
        "colab": {
          "base_uri": "https://localhost:8080/",
          "height": 35
        },
        "outputId": "e00a052f-a500-41e3-97a1-fa1e7cbe633f"
      },
      "source": [
        "Sum = 0\n",
        "n = 1\n",
        "while n <=20:\n",
        "    Sum = Sum + n\n",
        "    n = n + 1\n",
        "print (Sum)"
      ],
      "execution_count": 114,
      "outputs": [
        {
          "output_type": "stream",
          "text": [
            "210\n"
          ],
          "name": "stdout"
        }
      ]
    },
    {
      "cell_type": "markdown",
      "metadata": {
        "id": "0qPTjtpzL6zS",
        "colab_type": "text"
      },
      "source": [
        "# Exercise 18\n",
        "Use the code in Exercise 17 to write a function 'Sum' that accepts k as input and returns the sum the numbers from 1 to k\n",
        "# Answer"
      ]
    },
    {
      "cell_type": "code",
      "metadata": {
        "id": "pDhyDLKSL6zS",
        "colab_type": "code",
        "colab": {
          "base_uri": "https://localhost:8080/",
          "height": 35
        },
        "outputId": "7ac10b8f-76c3-4236-ea12-b007b28987f8"
      },
      "source": [
        "def Sum(k):\n",
        "    \n",
        "    \"\"\"\n",
        "    Input : n (number)\n",
        "    Output: the sum of numbers from 1 to k.\n",
        "\n",
        "    \"\"\"\n",
        "    S = 0\n",
        "    n = 1\n",
        "    while n <= k:\n",
        "        S = S + n\n",
        "        n = n + 1\n",
        "    return (S)\n",
        "\n",
        "# let's test the function\n",
        "Sum(20)"
      ],
      "execution_count": 115,
      "outputs": [
        {
          "output_type": "execute_result",
          "data": {
            "text/plain": [
              "210"
            ]
          },
          "metadata": {
            "tags": []
          },
          "execution_count": 115
        }
      ]
    },
    {
      "cell_type": "markdown",
      "metadata": {
        "id": "WIXg2eWvL6zT",
        "colab_type": "text"
      },
      "source": [
        "# Exercise 19\n",
        "Repeat Exercise 18 using 'for' loop instead of while loop\n",
        "# Answer"
      ]
    },
    {
      "cell_type": "code",
      "metadata": {
        "id": "PyPFXmxCL6zT",
        "colab_type": "code",
        "colab": {
          "base_uri": "https://localhost:8080/",
          "height": 35
        },
        "outputId": "c5e89cb5-ea91-4015-d2c1-02c022f114d0"
      },
      "source": [
        "def Sum2(k):\n",
        "    \n",
        "    \"\"\"\n",
        "    Input : n (number)\n",
        "    Output: the sum of numbers from 1 to k.\n",
        "\n",
        "    \"\"\"\n",
        "    S = 0\n",
        "    for n in range(1,k+1):\n",
        "        S = S + n\n",
        "    \n",
        "    return (S)\n",
        "\n",
        "# let's test the function\n",
        "Sum2(20)"
      ],
      "execution_count": 116,
      "outputs": [
        {
          "output_type": "execute_result",
          "data": {
            "text/plain": [
              "210"
            ]
          },
          "metadata": {
            "tags": []
          },
          "execution_count": 116
        }
      ]
    },
    {
      "cell_type": "markdown",
      "metadata": {
        "id": "nzpsEWNrL6zW",
        "colab_type": "text"
      },
      "source": [
        "# Quiz 2 (2 Marks)\n",
        "Write a Python function 'Sum3' that accepts a list of numbers 'Num' and returns the sum of the numbers in Num. For example: if Num = [12,45,10,19,5,9], the function returns 100."
      ]
    },
    {
      "cell_type": "code",
      "metadata": {
        "id": "JkPcoKreL6zX",
        "colab_type": "code",
        "colab": {
          "base_uri": "https://localhost:8080/",
          "height": 35
        },
        "outputId": "40f12d48-bb66-4aec-b0df-dd137650c76c"
      },
      "source": [
        "def Sum3(Num):\n",
        "    \"\"\"\n",
        "    Input : Num (list of numbers)\n",
        "    Output: the sum of numbers in Num\n",
        "\n",
        "    \"\"\"\n",
        "    # put your code here   \n",
        "    sum = 0\n",
        "    for i in Num:\n",
        "      sum = sum+i\n",
        "    \n",
        "    return sum\n",
        "\n",
        "\n",
        "# let's test the function\n",
        "A = [12,45,10,19,5,9]\n",
        "Sum3(A)"
      ],
      "execution_count": 119,
      "outputs": [
        {
          "output_type": "execute_result",
          "data": {
            "text/plain": [
              "100"
            ]
          },
          "metadata": {
            "tags": []
          },
          "execution_count": 119
        }
      ]
    }
  ]
}