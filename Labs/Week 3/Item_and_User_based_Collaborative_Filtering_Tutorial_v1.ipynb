{
  "nbformat": 4,
  "nbformat_minor": 0,
  "metadata": {
    "colab": {
      "name": "Item and User based Collaborative Filtering Tutorial v1.ipynb",
      "version": "0.3.2",
      "provenance": [],
      "collapsed_sections": []
    },
    "kernelspec": {
      "display_name": "Python 3",
      "name": "python3"
    }
  },
  "cells": [
    {
      "cell_type": "markdown",
      "metadata": {
        "id": "oelTcRiwL00g",
        "colab_type": "text"
      },
      "source": [
        "![alt text](https://www.business.unsw.edu.au/style%20library/asb/assets/images/logo-unsw.png)"
      ]
    },
    {
      "cell_type": "markdown",
      "metadata": {
        "colab_type": "text",
        "id": "JyG45Qk3qQLS"
      },
      "source": [
        "\n",
        "# MARK5826: Item and User based Collaborative Filtering\n",
        "\n",
        "In this tutorial, we will be analyzing a dataset which have 100k rating informations contains 943 users and 1682 movies.\n",
        "\n",
        "\n",
        "\n",
        "\n",
        "\n"
      ]
    },
    {
      "cell_type": "markdown",
      "metadata": {
        "colab_type": "text",
        "id": "KR921S_OQSHG"
      },
      "source": [
        "### How to run and save code in collab?\n",
        "Once the toolbar button indicates CONNECTED, click in the cell to select it and execute the contents in the following ways:\n",
        "\n",
        "* Click the **Play icon** in the left gutter of the cell;\n",
        "* Type **Cmd/Ctrl+Enter** to run the cell in place;\n",
        "* Type **Shift+Enter** to run the cell and move focus to the next cell (adding one if none exists); or\n",
        "* Type **Alt+Enter** to run the cell and insert a new code cell immediately below it.\n",
        "* **File->Make a Copy** creates a copy of the notebook in Drive.\n",
        "\n",
        "* **File->Save** saves the File to Drive. **File->Save and checkpoint** pins the version so it doesn't get deleted from the revision history. \n",
        "\n",
        "* **File->Revision history** shows the notebook's revision history. "
      ]
    },
    {
      "cell_type": "markdown",
      "metadata": {
        "colab_type": "text",
        "id": "Id6tDF1HQSHD"
      },
      "source": [
        "## Introduction:\n",
        "\n",
        "**Collaborative filtering (CF)**: \n",
        "\n",
        "Collaborative filtering is a technique used by recommender systems. The most common filter being used is user-based and item based.\n",
        "\n",
        "**User based collaborative filtering (UBCF)** : \n",
        "\n",
        "Find similar users to me and recommend what they liked.\n",
        "\n",
        "**Item based collaborative filtering (IBCF)** : \n",
        "\n",
        "Find similar items to those that I have previously liked."
      ]
    },
    {
      "cell_type": "markdown",
      "metadata": {
        "id": "2cfWKFfRZmm3",
        "colab_type": "text"
      },
      "source": [
        "## Data Description:\n",
        "This is a dataset which contains 100k rating informations which having 943 users and 1682 movies.\n"
      ]
    },
    {
      "cell_type": "markdown",
      "metadata": {
        "id": "FFMJSCNc2ibL",
        "colab_type": "text"
      },
      "source": [
        "### Upload Data and Get An Insight"
      ]
    },
    {
      "cell_type": "code",
      "metadata": {
        "id": "VbohV_gzYpZv",
        "colab_type": "code",
        "colab": {
          "resources": {
            "http://localhost:8080/nbextensions/google.colab/files.js": {
              "data": "Ly8gQ29weXJpZ2h0IDIwMTcgR29vZ2xlIExMQwovLwovLyBMaWNlbnNlZCB1bmRlciB0aGUgQXBhY2hlIExpY2Vuc2UsIFZlcnNpb24gMi4wICh0aGUgIkxpY2Vuc2UiKTsKLy8geW91IG1heSBub3QgdXNlIHRoaXMgZmlsZSBleGNlcHQgaW4gY29tcGxpYW5jZSB3aXRoIHRoZSBMaWNlbnNlLgovLyBZb3UgbWF5IG9idGFpbiBhIGNvcHkgb2YgdGhlIExpY2Vuc2UgYXQKLy8KLy8gICAgICBodHRwOi8vd3d3LmFwYWNoZS5vcmcvbGljZW5zZXMvTElDRU5TRS0yLjAKLy8KLy8gVW5sZXNzIHJlcXVpcmVkIGJ5IGFwcGxpY2FibGUgbGF3IG9yIGFncmVlZCB0byBpbiB3cml0aW5nLCBzb2Z0d2FyZQovLyBkaXN0cmlidXRlZCB1bmRlciB0aGUgTGljZW5zZSBpcyBkaXN0cmlidXRlZCBvbiBhbiAiQVMgSVMiIEJBU0lTLAovLyBXSVRIT1VUIFdBUlJBTlRJRVMgT1IgQ09ORElUSU9OUyBPRiBBTlkgS0lORCwgZWl0aGVyIGV4cHJlc3Mgb3IgaW1wbGllZC4KLy8gU2VlIHRoZSBMaWNlbnNlIGZvciB0aGUgc3BlY2lmaWMgbGFuZ3VhZ2UgZ292ZXJuaW5nIHBlcm1pc3Npb25zIGFuZAovLyBsaW1pdGF0aW9ucyB1bmRlciB0aGUgTGljZW5zZS4KCi8qKgogKiBAZmlsZW92ZXJ2aWV3IEhlbHBlcnMgZm9yIGdvb2dsZS5jb2xhYiBQeXRob24gbW9kdWxlLgogKi8KKGZ1bmN0aW9uKHNjb3BlKSB7CmZ1bmN0aW9uIHNwYW4odGV4dCwgc3R5bGVBdHRyaWJ1dGVzID0ge30pIHsKICBjb25zdCBlbGVtZW50ID0gZG9jdW1lbnQuY3JlYXRlRWxlbWVudCgnc3BhbicpOwogIGVsZW1lbnQudGV4dENvbnRlbnQgPSB0ZXh0OwogIGZvciAoY29uc3Qga2V5IG9mIE9iamVjdC5rZXlzKHN0eWxlQXR0cmlidXRlcykpIHsKICAgIGVsZW1lbnQuc3R5bGVba2V5XSA9IHN0eWxlQXR0cmlidXRlc1trZXldOwogIH0KICByZXR1cm4gZWxlbWVudDsKfQoKLy8gTWF4IG51bWJlciBvZiBieXRlcyB3aGljaCB3aWxsIGJlIHVwbG9hZGVkIGF0IGEgdGltZS4KY29uc3QgTUFYX1BBWUxPQURfU0laRSA9IDEwMCAqIDEwMjQ7Ci8vIE1heCBhbW91bnQgb2YgdGltZSB0byBibG9jayB3YWl0aW5nIGZvciB0aGUgdXNlci4KY29uc3QgRklMRV9DSEFOR0VfVElNRU9VVF9NUyA9IDMwICogMTAwMDsKCmZ1bmN0aW9uIF91cGxvYWRGaWxlcyhpbnB1dElkLCBvdXRwdXRJZCkgewogIGNvbnN0IHN0ZXBzID0gdXBsb2FkRmlsZXNTdGVwKGlucHV0SWQsIG91dHB1dElkKTsKICBjb25zdCBvdXRwdXRFbGVtZW50ID0gZG9jdW1lbnQuZ2V0RWxlbWVudEJ5SWQob3V0cHV0SWQpOwogIC8vIENhY2hlIHN0ZXBzIG9uIHRoZSBvdXRwdXRFbGVtZW50IHRvIG1ha2UgaXQgYXZhaWxhYmxlIGZvciB0aGUgbmV4dCBjYWxsCiAgLy8gdG8gdXBsb2FkRmlsZXNDb250aW51ZSBmcm9tIFB5dGhvbi4KICBvdXRwdXRFbGVtZW50LnN0ZXBzID0gc3RlcHM7CgogIHJldHVybiBfdXBsb2FkRmlsZXNDb250aW51ZShvdXRwdXRJZCk7Cn0KCi8vIFRoaXMgaXMgcm91Z2hseSBhbiBhc3luYyBnZW5lcmF0b3IgKG5vdCBzdXBwb3J0ZWQgaW4gdGhlIGJyb3dzZXIgeWV0KSwKLy8gd2hlcmUgdGhlcmUgYXJlIG11bHRpcGxlIGFzeW5jaHJvbm91cyBzdGVwcyBhbmQgdGhlIFB5dGhvbiBzaWRlIGlzIGdvaW5nCi8vIHRvIHBvbGwgZm9yIGNvbXBsZXRpb24gb2YgZWFjaCBzdGVwLgovLyBUaGlzIHVzZXMgYSBQcm9taXNlIHRvIGJsb2NrIHRoZSBweXRob24gc2lkZSBvbiBjb21wbGV0aW9uIG9mIGVhY2ggc3RlcCwKLy8gdGhlbiBwYXNzZXMgdGhlIHJlc3VsdCBvZiB0aGUgcHJldmlvdXMgc3RlcCBhcyB0aGUgaW5wdXQgdG8gdGhlIG5leHQgc3RlcC4KZnVuY3Rpb24gX3VwbG9hZEZpbGVzQ29udGludWUob3V0cHV0SWQpIHsKICBjb25zdCBvdXRwdXRFbGVtZW50ID0gZG9jdW1lbnQuZ2V0RWxlbWVudEJ5SWQob3V0cHV0SWQpOwogIGNvbnN0IHN0ZXBzID0gb3V0cHV0RWxlbWVudC5zdGVwczsKCiAgY29uc3QgbmV4dCA9IHN0ZXBzLm5leHQob3V0cHV0RWxlbWVudC5sYXN0UHJvbWlzZVZhbHVlKTsKICByZXR1cm4gUHJvbWlzZS5yZXNvbHZlKG5leHQudmFsdWUucHJvbWlzZSkudGhlbigodmFsdWUpID0+IHsKICAgIC8vIENhY2hlIHRoZSBsYXN0IHByb21pc2UgdmFsdWUgdG8gbWFrZSBpdCBhdmFpbGFibGUgdG8gdGhlIG5leHQKICAgIC8vIHN0ZXAgb2YgdGhlIGdlbmVyYXRvci4KICAgIG91dHB1dEVsZW1lbnQubGFzdFByb21pc2VWYWx1ZSA9IHZhbHVlOwogICAgcmV0dXJuIG5leHQudmFsdWUucmVzcG9uc2U7CiAgfSk7Cn0KCi8qKgogKiBHZW5lcmF0b3IgZnVuY3Rpb24gd2hpY2ggaXMgY2FsbGVkIGJldHdlZW4gZWFjaCBhc3luYyBzdGVwIG9mIHRoZSB1cGxvYWQKICogcHJvY2Vzcy4KICogQHBhcmFtIHtzdHJpbmd9IGlucHV0SWQgRWxlbWVudCBJRCBvZiB0aGUgaW5wdXQgZmlsZSBwaWNrZXIgZWxlbWVudC4KICogQHBhcmFtIHtzdHJpbmd9IG91dHB1dElkIEVsZW1lbnQgSUQgb2YgdGhlIG91dHB1dCBkaXNwbGF5LgogKiBAcmV0dXJuIHshSXRlcmFibGU8IU9iamVjdD59IEl0ZXJhYmxlIG9mIG5leHQgc3RlcHMuCiAqLwpmdW5jdGlvbiogdXBsb2FkRmlsZXNTdGVwKGlucHV0SWQsIG91dHB1dElkKSB7CiAgY29uc3QgaW5wdXRFbGVtZW50ID0gZG9jdW1lbnQuZ2V0RWxlbWVudEJ5SWQoaW5wdXRJZCk7CiAgaW5wdXRFbGVtZW50LmRpc2FibGVkID0gZmFsc2U7CgogIGNvbnN0IG91dHB1dEVsZW1lbnQgPSBkb2N1bWVudC5nZXRFbGVtZW50QnlJZChvdXRwdXRJZCk7CiAgb3V0cHV0RWxlbWVudC5pbm5lckhUTUwgPSAnJzsKCiAgY29uc3QgcGlja2VkUHJvbWlzZSA9IG5ldyBQcm9taXNlKChyZXNvbHZlKSA9PiB7CiAgICBpbnB1dEVsZW1lbnQuYWRkRXZlbnRMaXN0ZW5lcignY2hhbmdlJywgKGUpID0+IHsKICAgICAgcmVzb2x2ZShlLnRhcmdldC5maWxlcyk7CiAgICB9KTsKICB9KTsKCiAgY29uc3QgY2FuY2VsID0gZG9jdW1lbnQuY3JlYXRlRWxlbWVudCgnYnV0dG9uJyk7CiAgaW5wdXRFbGVtZW50LnBhcmVudEVsZW1lbnQuYXBwZW5kQ2hpbGQoY2FuY2VsKTsKICBjYW5jZWwudGV4dENvbnRlbnQgPSAnQ2FuY2VsIHVwbG9hZCc7CiAgY29uc3QgY2FuY2VsUHJvbWlzZSA9IG5ldyBQcm9taXNlKChyZXNvbHZlKSA9PiB7CiAgICBjYW5jZWwub25jbGljayA9ICgpID0+IHsKICAgICAgcmVzb2x2ZShudWxsKTsKICAgIH07CiAgfSk7CgogIC8vIENhbmNlbCB1cGxvYWQgaWYgdXNlciBoYXNuJ3QgcGlja2VkIGFueXRoaW5nIGluIHRpbWVvdXQuCiAgY29uc3QgdGltZW91dFByb21pc2UgPSBuZXcgUHJvbWlzZSgocmVzb2x2ZSkgPT4gewogICAgc2V0VGltZW91dCgoKSA9PiB7CiAgICAgIHJlc29sdmUobnVsbCk7CiAgICB9LCBGSUxFX0NIQU5HRV9USU1FT1VUX01TKTsKICB9KTsKCiAgLy8gV2FpdCBmb3IgdGhlIHVzZXIgdG8gcGljayB0aGUgZmlsZXMuCiAgY29uc3QgZmlsZXMgPSB5aWVsZCB7CiAgICBwcm9taXNlOiBQcm9taXNlLnJhY2UoW3BpY2tlZFByb21pc2UsIHRpbWVvdXRQcm9taXNlLCBjYW5jZWxQcm9taXNlXSksCiAgICByZXNwb25zZTogewogICAgICBhY3Rpb246ICdzdGFydGluZycsCiAgICB9CiAgfTsKCiAgaWYgKCFmaWxlcykgewogICAgcmV0dXJuIHsKICAgICAgcmVzcG9uc2U6IHsKICAgICAgICBhY3Rpb246ICdjb21wbGV0ZScsCiAgICAgIH0KICAgIH07CiAgfQoKICBjYW5jZWwucmVtb3ZlKCk7CgogIC8vIERpc2FibGUgdGhlIGlucHV0IGVsZW1lbnQgc2luY2UgZnVydGhlciBwaWNrcyBhcmUgbm90IGFsbG93ZWQuCiAgaW5wdXRFbGVtZW50LmRpc2FibGVkID0gdHJ1ZTsKCiAgZm9yIChjb25zdCBmaWxlIG9mIGZpbGVzKSB7CiAgICBjb25zdCBsaSA9IGRvY3VtZW50LmNyZWF0ZUVsZW1lbnQoJ2xpJyk7CiAgICBsaS5hcHBlbmQoc3BhbihmaWxlLm5hbWUsIHtmb250V2VpZ2h0OiAnYm9sZCd9KSk7CiAgICBsaS5hcHBlbmQoc3BhbigKICAgICAgICBgKCR7ZmlsZS50eXBlIHx8ICduL2EnfSkgLSAke2ZpbGUuc2l6ZX0gYnl0ZXMsIGAgKwogICAgICAgIGBsYXN0IG1vZGlmaWVkOiAkewogICAgICAgICAgICBmaWxlLmxhc3RNb2RpZmllZERhdGUgPyBmaWxlLmxhc3RNb2RpZmllZERhdGUudG9Mb2NhbGVEYXRlU3RyaW5nKCkgOgogICAgICAgICAgICAgICAgICAgICAgICAgICAgICAgICAgICAnbi9hJ30gLSBgKSk7CiAgICBjb25zdCBwZXJjZW50ID0gc3BhbignMCUgZG9uZScpOwogICAgbGkuYXBwZW5kQ2hpbGQocGVyY2VudCk7CgogICAgb3V0cHV0RWxlbWVudC5hcHBlbmRDaGlsZChsaSk7CgogICAgY29uc3QgZmlsZURhdGFQcm9taXNlID0gbmV3IFByb21pc2UoKHJlc29sdmUpID0+IHsKICAgICAgY29uc3QgcmVhZGVyID0gbmV3IEZpbGVSZWFkZXIoKTsKICAgICAgcmVhZGVyLm9ubG9hZCA9IChlKSA9PiB7CiAgICAgICAgcmVzb2x2ZShlLnRhcmdldC5yZXN1bHQpOwogICAgICB9OwogICAgICByZWFkZXIucmVhZEFzQXJyYXlCdWZmZXIoZmlsZSk7CiAgICB9KTsKICAgIC8vIFdhaXQgZm9yIHRoZSBkYXRhIHRvIGJlIHJlYWR5LgogICAgbGV0IGZpbGVEYXRhID0geWllbGQgewogICAgICBwcm9taXNlOiBmaWxlRGF0YVByb21pc2UsCiAgICAgIHJlc3BvbnNlOiB7CiAgICAgICAgYWN0aW9uOiAnY29udGludWUnLAogICAgICB9CiAgICB9OwoKICAgIC8vIFVzZSBhIGNodW5rZWQgc2VuZGluZyB0byBhdm9pZCBtZXNzYWdlIHNpemUgbGltaXRzLiBTZWUgYi82MjExNTY2MC4KICAgIGxldCBwb3NpdGlvbiA9IDA7CiAgICB3aGlsZSAocG9zaXRpb24gPCBmaWxlRGF0YS5ieXRlTGVuZ3RoKSB7CiAgICAgIGNvbnN0IGxlbmd0aCA9IE1hdGgubWluKGZpbGVEYXRhLmJ5dGVMZW5ndGggLSBwb3NpdGlvbiwgTUFYX1BBWUxPQURfU0laRSk7CiAgICAgIGNvbnN0IGNodW5rID0gbmV3IFVpbnQ4QXJyYXkoZmlsZURhdGEsIHBvc2l0aW9uLCBsZW5ndGgpOwogICAgICBwb3NpdGlvbiArPSBsZW5ndGg7CgogICAgICBjb25zdCBiYXNlNjQgPSBidG9hKFN0cmluZy5mcm9tQ2hhckNvZGUuYXBwbHkobnVsbCwgY2h1bmspKTsKICAgICAgeWllbGQgewogICAgICAgIHJlc3BvbnNlOiB7CiAgICAgICAgICBhY3Rpb246ICdhcHBlbmQnLAogICAgICAgICAgZmlsZTogZmlsZS5uYW1lLAogICAgICAgICAgZGF0YTogYmFzZTY0LAogICAgICAgIH0sCiAgICAgIH07CiAgICAgIHBlcmNlbnQudGV4dENvbnRlbnQgPQogICAgICAgICAgYCR7TWF0aC5yb3VuZCgocG9zaXRpb24gLyBmaWxlRGF0YS5ieXRlTGVuZ3RoKSAqIDEwMCl9JSBkb25lYDsKICAgIH0KICB9CgogIC8vIEFsbCBkb25lLgogIHlpZWxkIHsKICAgIHJlc3BvbnNlOiB7CiAgICAgIGFjdGlvbjogJ2NvbXBsZXRlJywKICAgIH0KICB9Owp9CgpzY29wZS5nb29nbGUgPSBzY29wZS5nb29nbGUgfHwge307CnNjb3BlLmdvb2dsZS5jb2xhYiA9IHNjb3BlLmdvb2dsZS5jb2xhYiB8fCB7fTsKc2NvcGUuZ29vZ2xlLmNvbGFiLl9maWxlcyA9IHsKICBfdXBsb2FkRmlsZXMsCiAgX3VwbG9hZEZpbGVzQ29udGludWUsCn07Cn0pKHNlbGYpOwo=",
              "ok": true,
              "headers": [
                [
                  "content-type",
                  "application/javascript"
                ]
              ],
              "status": 200,
              "status_text": ""
            }
          },
          "base_uri": "https://localhost:8080/",
          "height": 58
        },
        "outputId": "76f3927f-7d96-4b19-b8ea-d27945534e09"
      },
      "source": [
        "from google.colab import files\n",
        "\n",
        "# Upload MovieLens 100k Dataset\n",
        "files.upload()"
      ],
      "execution_count": 28,
      "outputs": [
        {
          "output_type": "display_data",
          "data": {
            "text/html": [
              "\n",
              "     <input type=\"file\" id=\"files-1e2bae88-6ff1-446d-88cf-55823b026e2a\" name=\"files[]\" multiple disabled />\n",
              "     <output id=\"result-1e2bae88-6ff1-446d-88cf-55823b026e2a\">\n",
              "      Upload widget is only available when the cell has been executed in the\n",
              "      current browser session. Please rerun this cell to enable.\n",
              "      </output>\n",
              "      <script src=\"/nbextensions/google.colab/files.js\"></script> "
            ],
            "text/plain": [
              "<IPython.core.display.HTML object>"
            ]
          },
          "metadata": {
            "tags": []
          }
        },
        {
          "output_type": "execute_result",
          "data": {
            "text/plain": [
              "{}"
            ]
          },
          "metadata": {
            "tags": []
          },
          "execution_count": 28
        }
      ]
    },
    {
      "cell_type": "code",
      "metadata": {
        "id": "13yJLtXP2hNG",
        "colab_type": "code",
        "colab": {
          "base_uri": "https://localhost:8080/",
          "height": 219
        },
        "outputId": "e823c386-dfe0-4fa9-a1df-680ca7b6e90d"
      },
      "source": [
        "import pandas\n",
        "\n",
        "df = pandas.read_csv('ml-100k.data',header=None, sep='\\t',names=[\"user_id\", \"movie_id\", \"rating\",\"timestamp\"])\n",
        "\n",
        "# Get the Number of Users and Items\n",
        "n_users, n_items = df['user_id'].unique().shape[0], df['movie_id'].unique().shape[0]\n",
        "print(n_users, n_items)\n",
        "df.head(5)"
      ],
      "execution_count": 29,
      "outputs": [
        {
          "output_type": "stream",
          "text": [
            "943 1682\n"
          ],
          "name": "stdout"
        },
        {
          "output_type": "execute_result",
          "data": {
            "text/html": [
              "<div>\n",
              "<style scoped>\n",
              "    .dataframe tbody tr th:only-of-type {\n",
              "        vertical-align: middle;\n",
              "    }\n",
              "\n",
              "    .dataframe tbody tr th {\n",
              "        vertical-align: top;\n",
              "    }\n",
              "\n",
              "    .dataframe thead th {\n",
              "        text-align: right;\n",
              "    }\n",
              "</style>\n",
              "<table border=\"1\" class=\"dataframe\">\n",
              "  <thead>\n",
              "    <tr style=\"text-align: right;\">\n",
              "      <th></th>\n",
              "      <th>user_id</th>\n",
              "      <th>movie_id</th>\n",
              "      <th>rating</th>\n",
              "      <th>timestamp</th>\n",
              "    </tr>\n",
              "  </thead>\n",
              "  <tbody>\n",
              "    <tr>\n",
              "      <th>0</th>\n",
              "      <td>196</td>\n",
              "      <td>242</td>\n",
              "      <td>3</td>\n",
              "      <td>881250949</td>\n",
              "    </tr>\n",
              "    <tr>\n",
              "      <th>1</th>\n",
              "      <td>186</td>\n",
              "      <td>302</td>\n",
              "      <td>3</td>\n",
              "      <td>891717742</td>\n",
              "    </tr>\n",
              "    <tr>\n",
              "      <th>2</th>\n",
              "      <td>22</td>\n",
              "      <td>377</td>\n",
              "      <td>1</td>\n",
              "      <td>878887116</td>\n",
              "    </tr>\n",
              "    <tr>\n",
              "      <th>3</th>\n",
              "      <td>244</td>\n",
              "      <td>51</td>\n",
              "      <td>2</td>\n",
              "      <td>880606923</td>\n",
              "    </tr>\n",
              "    <tr>\n",
              "      <th>4</th>\n",
              "      <td>166</td>\n",
              "      <td>346</td>\n",
              "      <td>1</td>\n",
              "      <td>886397596</td>\n",
              "    </tr>\n",
              "  </tbody>\n",
              "</table>\n",
              "</div>"
            ],
            "text/plain": [
              "   user_id  movie_id  rating  timestamp\n",
              "0      196       242       3  881250949\n",
              "1      186       302       3  891717742\n",
              "2       22       377       1  878887116\n",
              "3      244        51       2  880606923\n",
              "4      166       346       1  886397596"
            ]
          },
          "metadata": {
            "tags": []
          },
          "execution_count": 29
        }
      ]
    },
    {
      "cell_type": "markdown",
      "metadata": {
        "id": "__Bdmc3O-lzU",
        "colab_type": "text"
      },
      "source": [
        "The first column(with bold) is the row number, the second column is the user id, the third column is the movie id, the fourth column is the rating of a specific user to a specific movie, in this tutorial we didn't use timestamp for calculation, the only thing we are using is the user_id, movie_id and the rating."
      ]
    },
    {
      "cell_type": "markdown",
      "metadata": {
        "id": "4bOWmXT7flD5",
        "colab_type": "text"
      },
      "source": [
        "## Random Recommendation\n",
        "\n",
        "Algorithm predicting a random rating based on the distribution of the training set, which is assumed to be normal."
      ]
    },
    {
      "cell_type": "code",
      "metadata": {
        "id": "C5icxJbxg2Hs",
        "colab_type": "code",
        "colab": {
          "resources": {
            "http://localhost:8080/nbextensions/google.colab/files.js": {
              "data": "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",
              "ok": true,
              "headers": [
                [
                  "content-type",
                  "application/javascript"
                ]
              ],
              "status": 200,
              "status_text": ""
            }
          },
          "base_uri": "https://localhost:8080/",
          "height": 58
        },
        "outputId": "95da051d-b129-42a2-f7ac-e61f621dce95"
      },
      "source": [
        "from google.colab import files\n",
        "\n",
        "# Upload utils.py\n",
        "files.upload()"
      ],
      "execution_count": 30,
      "outputs": [
        {
          "output_type": "display_data",
          "data": {
            "text/html": [
              "\n",
              "     <input type=\"file\" id=\"files-d8aa85a4-646b-4eff-a93e-e3f91baa2f30\" name=\"files[]\" multiple disabled />\n",
              "     <output id=\"result-d8aa85a4-646b-4eff-a93e-e3f91baa2f30\">\n",
              "      Upload widget is only available when the cell has been executed in the\n",
              "      current browser session. Please rerun this cell to enable.\n",
              "      </output>\n",
              "      <script src=\"/nbextensions/google.colab/files.js\"></script> "
            ],
            "text/plain": [
              "<IPython.core.display.HTML object>"
            ]
          },
          "metadata": {
            "tags": []
          }
        },
        {
          "output_type": "execute_result",
          "data": {
            "text/plain": [
              "{}"
            ]
          },
          "metadata": {
            "tags": []
          },
          "execution_count": 30
        }
      ]
    },
    {
      "cell_type": "markdown",
      "metadata": {
        "id": "hPe84b3Thjpq",
        "colab_type": "text"
      },
      "source": [
        "### Use the Surprise Library\n",
        "\n",
        "[SURPRISE Libraray](http://surpriselib.com/)\n",
        "\n",
        "Surprise is a Python scikit building and analyzing recommender systems"
      ]
    },
    {
      "cell_type": "code",
      "metadata": {
        "id": "NwwuJa8eg7wr",
        "colab_type": "code",
        "colab": {
          "base_uri": "https://localhost:8080/",
          "height": 104
        },
        "outputId": "2af6c7de-1312-457f-f22c-ca71c49bc7ce"
      },
      "source": [
        "# Install the scikit-surprise library\n",
        "!pip install scikit-surprise"
      ],
      "execution_count": 31,
      "outputs": [
        {
          "output_type": "stream",
          "text": [
            "Requirement already satisfied: scikit-surprise in /usr/local/lib/python3.6/dist-packages (1.0.6)\n",
            "Requirement already satisfied: scipy>=1.0.0 in /usr/local/lib/python3.6/dist-packages (from scikit-surprise) (1.3.0)\n",
            "Requirement already satisfied: numpy>=1.11.2 in /usr/local/lib/python3.6/dist-packages (from scikit-surprise) (1.16.4)\n",
            "Requirement already satisfied: joblib>=0.11 in /usr/local/lib/python3.6/dist-packages (from scikit-surprise) (0.13.2)\n",
            "Requirement already satisfied: six>=1.10.0 in /usr/local/lib/python3.6/dist-packages (from scikit-surprise) (1.12.0)\n"
          ],
          "name": "stdout"
        }
      ]
    },
    {
      "cell_type": "code",
      "metadata": {
        "id": "pCtKEZnwfn6u",
        "colab_type": "code",
        "colab": {
          "base_uri": "https://localhost:8080/",
          "height": 312
        },
        "outputId": "507c770b-dacc-4bdc-a132-f0b0452b79ea"
      },
      "source": [
        "from utils import *\n",
        "from surprise.model_selection import cross_validate\n",
        "from surprise import NormalPredictor\n",
        "import warnings; warnings.simplefilter('ignore')\n",
        "\n",
        "# Load the data\n",
        "data, n_users, n_items = spr_loadData('ml-100k.data')\n",
        "\n",
        "# Select Algorithm KNNWithMeans and Run It\n",
        "algo = NormalPredictor()\n",
        "cross_validate(algo, data, measures=['RMSE'], cv=5, verbose=True)"
      ],
      "execution_count": 32,
      "outputs": [
        {
          "output_type": "stream",
          "text": [
            "Evaluating RMSE of algorithm NormalPredictor on 5 split(s).\n",
            "\n",
            "                  Fold 1  Fold 2  Fold 3  Fold 4  Fold 5  Mean    Std     \n",
            "RMSE (testset)    1.5157  1.5242  1.5316  1.5170  1.5261  1.5229  0.0059  \n",
            "Fit time          0.14    0.16    0.16    0.15    0.15    0.15    0.01    \n",
            "Test time         0.13    0.13    0.13    0.13    0.13    0.13    0.00    \n"
          ],
          "name": "stdout"
        },
        {
          "output_type": "execute_result",
          "data": {
            "text/plain": [
              "{'fit_time': (0.13742828369140625,\n",
              "  0.15909481048583984,\n",
              "  0.1585252285003662,\n",
              "  0.1547226905822754,\n",
              "  0.15483355522155762),\n",
              " 'test_rmse': array([1.51569038, 1.52423731, 1.53160989, 1.51699491, 1.52614728]),\n",
              " 'test_time': (0.13145756721496582,\n",
              "  0.13115262985229492,\n",
              "  0.1284325122833252,\n",
              "  0.12929487228393555,\n",
              "  0.13100767135620117)}"
            ]
          },
          "metadata": {
            "tags": []
          },
          "execution_count": 32
        }
      ]
    },
    {
      "cell_type": "markdown",
      "metadata": {
        "colab_type": "text",
        "id": "7bqjkGKwQSHW"
      },
      "source": [
        "## User-based Neighborhood method:\n",
        "\n",
        "Imagine that we want to recommend a movie to our friend Daven. We could assume that similar people will have similar taste. Suppose that me and Daven have seen the same movies, and we rated them all almost identically. But Daven hasn’t seen *'Infinity war'* but I did. \n",
        "\n",
        "If I love that movie, it sounds logical to think that he will too. With that, we have created an artificial rating based on our similarity.\n",
        "\n",
        "In here we are using User-based Nearest Neighbor algorithm. \n",
        "This algorithm needs two tasks:\n",
        "\n",
        "1. Find the nearest neighbors to the user A, using a similarity function *sim* to measure the distance between each pair of users.\n",
        "2.Predict the rating that user A will give to all items the neighbors have consumed but A has not. We Look for the item j with the best predicted rating.\n",
        "\n",
        "In other words, we are creating a User-Item Matrix.\n"
      ]
    },
    {
      "cell_type": "markdown",
      "metadata": {
        "id": "CbEmbrQVVDYi",
        "colab_type": "text"
      },
      "source": [
        "## Use the Surprise Library"
      ]
    },
    {
      "cell_type": "code",
      "metadata": {
        "id": "PLYiGrXzVQKB",
        "colab_type": "code",
        "colab": {
          "base_uri": "https://localhost:8080/",
          "height": 485
        },
        "outputId": "ddce0a9d-d17d-49cb-c308-878a79894827"
      },
      "source": [
        "from utils import *\n",
        "from surprise.model_selection import cross_validate\n",
        "from surprise import KNNWithMeans\n",
        "import warnings; warnings.simplefilter('ignore')\n",
        "\n",
        "# Load the data\n",
        "data, n_users, n_items = spr_loadData('ml-100k.data')\n",
        "\n",
        "# Select Algorithm KNNWithMeans and Run It\n",
        "sim_options = {'name': 'cosine',\n",
        "               'user_based': True  # compute similarities between users\n",
        "              }\n",
        "algo = KNNWithMeans(k=n_users,sim_options=sim_options)\n",
        "cross_validate(algo, data, measures=['RMSE'], cv=5, verbose=True)"
      ],
      "execution_count": 33,
      "outputs": [
        {
          "output_type": "stream",
          "text": [
            "Computing the cosine similarity matrix...\n",
            "Done computing similarity matrix.\n",
            "Computing the cosine similarity matrix...\n",
            "Done computing similarity matrix.\n",
            "Computing the cosine similarity matrix...\n",
            "Done computing similarity matrix.\n",
            "Computing the cosine similarity matrix...\n",
            "Done computing similarity matrix.\n",
            "Computing the cosine similarity matrix...\n",
            "Done computing similarity matrix.\n",
            "Evaluating RMSE of algorithm KNNWithMeans on 5 split(s).\n",
            "\n",
            "                  Fold 1  Fold 2  Fold 3  Fold 4  Fold 5  Mean    Std     \n",
            "RMSE (testset)    0.9577  0.9665  0.9546  0.9590  0.9633  0.9602  0.0042  \n",
            "Fit time          1.19    1.15    1.17    1.16    1.11    1.15    0.03    \n",
            "Test time         5.43    5.38    5.40    5.28    5.43    5.38    0.05    \n"
          ],
          "name": "stdout"
        },
        {
          "output_type": "execute_result",
          "data": {
            "text/plain": [
              "{'fit_time': (1.1854710578918457,\n",
              "  1.1459002494812012,\n",
              "  1.17014479637146,\n",
              "  1.1590325832366943,\n",
              "  1.1111822128295898),\n",
              " 'test_rmse': array([0.95769475, 0.96645824, 0.95462049, 0.95898639, 0.96326336]),\n",
              " 'test_time': (5.429864883422852,\n",
              "  5.384429454803467,\n",
              "  5.4008469581604,\n",
              "  5.279297351837158,\n",
              "  5.425177574157715)}"
            ]
          },
          "metadata": {
            "tags": []
          },
          "execution_count": 33
        }
      ]
    },
    {
      "cell_type": "markdown",
      "metadata": {
        "id": "KK91SJA7YX1p",
        "colab_type": "text"
      },
      "source": [
        "## User-based Collaborative Filtering"
      ]
    },
    {
      "cell_type": "markdown",
      "metadata": {
        "id": "gOLi-WhBT60x",
        "colab_type": "text"
      },
      "source": [
        "### Import and Installation"
      ]
    },
    {
      "cell_type": "code",
      "metadata": {
        "id": "kVkFRu1IR_Da",
        "colab_type": "code",
        "colab": {}
      },
      "source": [
        "#import libraries and helper functions\n",
        "from utils import *\n",
        "from sklearn.metrics.pairwise import cosine_similarity\n",
        "import heapq\n",
        "import warnings; warnings.simplefilter('ignore')"
      ],
      "execution_count": 0,
      "outputs": []
    },
    {
      "cell_type": "markdown",
      "metadata": {
        "id": "fPuhT6tQSFRe",
        "colab_type": "text"
      },
      "source": [
        "### Cosine similarity\n",
        "\n",
        "This is a example of *sim* function, there are several different method to get the degree of similarity. In here we used a function *cosine_similarity* from sklearn.metrics.pairwise. Read more about the function usage in [here.](https://scikit-learn.org/stable/modules/generated/sklearn.metrics.pairwise.cosine_similarity.html)"
      ]
    },
    {
      "cell_type": "code",
      "metadata": {
        "id": "-aw1pLv1WWTz",
        "colab_type": "code",
        "colab": {}
      },
      "source": [
        "def cosSimilarityUser(data):\n",
        "    # Calculate the Cosine Similarity Matrix\n",
        "    user_similarity = cosine_similarity(data)\n",
        "    \n",
        "    # Preview the Similarity Matrix\n",
        "    print(\"Similarity Matrix Sample\")\n",
        "    print(user_similarity[:5, :5])\n",
        "    print(\"Similarity Matrix Dimension\")\n",
        "    print(np.shape(user_similarity))\n",
        "    print(\"=\" * 120)\n",
        "    \n",
        "    return user_similarity"
      ],
      "execution_count": 0,
      "outputs": []
    },
    {
      "cell_type": "markdown",
      "metadata": {
        "id": "DDpRtvO6W3wS",
        "colab_type": "text"
      },
      "source": [
        "### Prediction formula\n",
        "Recall from the lecture, the user based collaborative predict function is \n",
        "\n",
        "![alt text](https://i.ibb.co/9YsmHNp/Screenshot-2019-05-28-15-51-36.png)\n",
        "\n",
        "\n",
        "Below is a realization of the function.\n"
      ]
    },
    {
      "cell_type": "code",
      "metadata": {
        "id": "EffC9ZfNW1yB",
        "colab_type": "code",
        "colab": {}
      },
      "source": [
        "def predictUser(ratings, similarity, num_items):\n",
        "    # The Average Rating Values for Each User\n",
        "    mean_user_rating = np.repeat(np.array([ratings.mean(axis=1)]), num_items, axis=0).T\n",
        "\n",
        "    # The Difference Between Each Rating Value and The Average Value\n",
        "    ratings_diff = ratings - mean_user_rating\n",
        "\n",
        "    # Calculate the Predicted Score\n",
        "    pred = mean_user_rating + \\\n",
        "           np.dot(similarity, ratings_diff) / np.array([np.abs(similarity).sum(axis=1)]).T\n",
        "    \n",
        "    return pred"
      ],
      "execution_count": 0,
      "outputs": []
    },
    {
      "cell_type": "markdown",
      "metadata": {
        "id": "M6CLvssqXRK1",
        "colab_type": "text"
      },
      "source": [
        "### Recommend Items For A Given User"
      ]
    },
    {
      "cell_type": "code",
      "metadata": {
        "id": "yabD8xg_XSBi",
        "colab_type": "code",
        "colab": {}
      },
      "source": [
        "def recItemsForOneUser(pred_array, train_array, user, num_rec):\n",
        "    # Change Training Arrary Into Sparse Matrix\n",
        "    train_matrix = sp.csr_matrix(train_array)\n",
        "\n",
        "    # Get the Item IDs in the Training Data For the Specified User\n",
        "    train_items_for_user = train_matrix.getrow(user).nonzero()[1]\n",
        "\n",
        "    # Create A Dictionary with Key-Value Pairs as ItemID-PredictedValue Pair\n",
        "    pred_dict_for_user = dict(zip(np.arange(train_matrix.shape[1]), pred_array[user]))\n",
        "\n",
        "    # Remove the Key-Value Pairs used in Training\n",
        "    for iid in train_items_for_user:\n",
        "        pred_dict_for_user.pop(iid)\n",
        "\n",
        "    # Select the Top-N Items in The Sorted List\n",
        "    rec_list_for_user = heapq.nlargest(num_rec, pred_dict_for_user.items(), key=lambda tup: tup[1])\n",
        "\n",
        "    # Get the Item ID List From the Top-N Tuples\n",
        "    rec_item_list = [tup[0] for tup in rec_list_for_user]\n",
        "    return rec_item_list"
      ],
      "execution_count": 0,
      "outputs": []
    },
    {
      "cell_type": "markdown",
      "metadata": {
        "id": "n3p3Sn4vYd0d",
        "colab_type": "text"
      },
      "source": [
        "### Metrics Calculation Precision And Recall\n",
        "\n",
        "**Precision** measures how accurate is your predictions. i.e. the percentage of your predictions are correct.\n",
        "\n",
        "**Recall** measures how good you find all the positives. For example, we can find 80% of the possible positive cases in our top K predictions."
      ]
    },
    {
      "cell_type": "code",
      "metadata": {
        "id": "ZoWgviIpYja0",
        "colab_type": "code",
        "colab": {}
      },
      "source": [
        "def Precision_and_Recall(pred_item_list, test_item_list):\n",
        "    # Calculate the Number of Occurrences of Testing Item IDs in the Prediction Item ID List\n",
        "    sum_relevant_item = 0\n",
        "    for item in test_item_list:\n",
        "        if item in pred_item_list:\n",
        "            sum_relevant_item += 1\n",
        "\n",
        "    # Calculate the Precision and Recall Value\n",
        "    precision = sum_relevant_item / len(pred_item_list)\n",
        "    recall = sum_relevant_item / len(test_item_list)\n",
        "\n",
        "    return precision, recall"
      ],
      "execution_count": 0,
      "outputs": []
    },
    {
      "cell_type": "markdown",
      "metadata": {
        "id": "euqlA1-XpwHm",
        "colab_type": "text"
      },
      "source": [
        "### Metrics Calculation Average Precision And Recall"
      ]
    },
    {
      "cell_type": "code",
      "metadata": {
        "id": "FouidY9Pp8qZ",
        "colab_type": "code",
        "colab": {}
      },
      "source": [
        "def calMetrics(train_array, test_array, pred_array, at_K):\n",
        "    # Get All the User IDs in Test Dataset\n",
        "    test_matrix = sp.coo_matrix(test_array)\n",
        "    test_users = test_matrix.row\n",
        "    test_matrix = test_matrix.tocsr()\n",
        "\n",
        "    # List to Store the Precision/Recall Value for Each User\n",
        "    precision_u_at_K = []\n",
        "    recall_u_at_K = []\n",
        "\n",
        "    # Loop for Each User\n",
        "    for u in test_users:\n",
        "        # Get the Recommendation List for the User in Consideration\n",
        "        rec_list_u = recItemsForOneUser(pred_array, train_array, u, at_K)\n",
        "\n",
        "        # Generate an Item ID List For Testing\n",
        "        item_list_u = test_matrix.getrow(u).nonzero()[1]\n",
        "\n",
        "        # Calculate the Precision and Recall Value for this User\n",
        "        precision_u, recall_u = Precision_and_Recall(rec_list_u, item_list_u)\n",
        "\n",
        "        # Save the Precision/Recall Values\n",
        "        precision_u_at_K.append(precision_u)\n",
        "        recall_u_at_K.append(recall_u)\n",
        "\n",
        "    # Calculate the Average Precision/Recall Values Over All Users\n",
        "    print(\"Precision@\"+str(at_K)+\": \"+str(np.mean(precision_u_at_K)))\n",
        "    print(\"Recall@\"+str(at_K)+\": \"+str(np.mean(recall_u_at_K)))\n",
        "    print(\"=\" * 120)"
      ],
      "execution_count": 0,
      "outputs": []
    },
    {
      "cell_type": "markdown",
      "metadata": {
        "id": "AncJgHVJp_cv",
        "colab_type": "text"
      },
      "source": [
        "### User-based kNN Recommendation Main Program"
      ]
    },
    {
      "cell_type": "code",
      "metadata": {
        "id": "jo-YSdFDqFzz",
        "colab_type": "code",
        "colab": {
          "base_uri": "https://localhost:8080/",
          "height": 485
        },
        "outputId": "c588929c-4026-49a0-9987-81ec36b07a6d"
      },
      "source": [
        "if __name__ == '__main__':\n",
        "    # Load Data\n",
        "    train, test, num_users, num_items, uid_min, iid_min = loadData(test_size=0.2)\n",
        "    train_array, test_array = train.toarray(), test.toarray()\n",
        "    \n",
        "    # Similarity And Prediction Matrices (User)\n",
        "    similarity_user_array = cosSimilarityUser(train_array)\n",
        "    pred_user_array = predictUser(train_array, similarity_user_array, num_items)\n",
        "\n",
        "    # Recommendation\n",
        "    rec_list = recItemsForOneUser(pred_user_array, train_array, 257, 10)\n",
        "    print(\"The Recommendation List for User Is: \" + str(rec_list+iid_min))\n",
        "    print(\"=\" * 120)\n",
        "    \n",
        "    # Metrics Calculation\n",
        "    calMetrics(train_array, test_array, pred_user_array, 5)"
      ],
      "execution_count": 40,
      "outputs": [
        {
          "output_type": "stream",
          "text": [
            "Data Preview:\n",
            "   uid  iid  ratings       time\n",
            "0  196  242        3  881250949\n",
            "1  186  302        3  891717742\n",
            "2   22  377        1  878887116\n",
            "3  244   51        2  880606923\n",
            "4  166  346        1  886397596\n",
            "========================================================================================================================\n",
            "Number of Users: 943\n",
            "Number of Items: 1682\n",
            "========================================================================================================================\n",
            "Sample Data: [[5 3 4 ... 0 0 0]]\n",
            "========================================================================================================================\n",
            "Similarity Matrix Sample\n",
            "[[1.         0.16359537 0.03365039 0.07323055 0.30757548]\n",
            " [0.16359537 1.         0.08520491 0.16757297 0.07164769]\n",
            " [0.03365039 0.08520491 1.         0.19338712 0.02781491]\n",
            " [0.07323055 0.16757297 0.19338712 1.         0.03761586]\n",
            " [0.30757548 0.07164769 0.02781491 0.03761586 1.        ]]\n",
            "Similarity Matrix Dimension\n",
            "(943, 943)\n",
            "========================================================================================================================\n",
            "The Recommendation List for User Is: [313 288 286 302  50 269 748 333 181 245]\n",
            "========================================================================================================================\n",
            "Precision@5: 0.49233000000000005\n",
            "Recall@5: 0.0755\n",
            "========================================================================================================================\n"
          ],
          "name": "stdout"
        }
      ]
    },
    {
      "cell_type": "markdown",
      "metadata": {
        "id": "lfAF7gZU3LkW",
        "colab_type": "text"
      },
      "source": [
        "## Quiz Question 1: \n",
        "\n",
        "There are several popular similarity functions we can use in compute the degree of similarity between users, in here we used Cosine similarity, can you implement a Euclidean method?\n",
        "\n",
        "(This is the formula of euclidean distance.)\n",
        "![alt text](https://cdn-images-1.medium.com/max/1600/1*n6kmkzjKVTOWeXDxsx2daQ.png)\n",
        "\n",
        "(This is the[ sklearn library](https://scikit-learn.org/stable/modules/generated/sklearn.metrics.pairwise.euclidean_distances.html) might be helpful for you.)\n"
      ]
    },
    {
      "cell_type": "code",
      "metadata": {
        "id": "OFpA8rRh6dKn",
        "colab_type": "code",
        "colab": {}
      },
      "source": [
        "from sklearn.metrics.pairwise import euclidean_distances\n",
        "\n",
        "def EuclideanRec(train_data):\n",
        "    #write your code in here \n",
        "    result = euclidean_distances(train_data)\n",
        "    return result\n"
      ],
      "execution_count": 0,
      "outputs": []
    },
    {
      "cell_type": "code",
      "metadata": {
        "id": "iIbWb5LF7mtn",
        "colab_type": "code",
        "colab": {
          "base_uri": "https://localhost:8080/",
          "height": 329
        },
        "outputId": "9462a237-abd5-4fda-da9e-6fd0cf57ea44"
      },
      "source": [
        "#You don't have to change this\n",
        "if __name__ == '__main__':\n",
        "    # Load Data\n",
        "    train, test, num_users, num_items, uid_min, iid_min = loadData(test_size=0.2)\n",
        "    train_array, test_array = train.toarray(), test.toarray()\n",
        "    \n",
        "    # Similarity And Prediction Matrices (User)\n",
        "    similarity_user_array = EuclideanRec(train_array)\n",
        "    pred_user_array = predictUser(train_array, similarity_user_array, num_items)\n",
        "\n",
        "    # Recommendation\n",
        "    rec_list = recItemsForOneUser(pred_user_array, train_array, 257, 10)\n",
        "    print(\"The Recommendation List for User Is: \" + str(rec_list+iid_min))\n",
        "    print(\"=\" * 120)\n",
        "    \n",
        "    # Metrics Calculation\n",
        "    calMetrics(train_array, test_array, pred_user_array, 5)"
      ],
      "execution_count": 42,
      "outputs": [
        {
          "output_type": "stream",
          "text": [
            "Data Preview:\n",
            "   uid  iid  ratings       time\n",
            "0  196  242        3  881250949\n",
            "1  186  302        3  891717742\n",
            "2   22  377        1  878887116\n",
            "3  244   51        2  880606923\n",
            "4  166  346        1  886397596\n",
            "========================================================================================================================\n",
            "Number of Users: 943\n",
            "Number of Items: 1682\n",
            "========================================================================================================================\n",
            "Sample Data: [[5 3 4 ... 0 0 0]]\n",
            "========================================================================================================================\n",
            "The Recommendation List for User Is: [ 50 100 181 174  98 127   1 172  56   7]\n",
            "========================================================================================================================\n",
            "Precision@5: 0.34212\n",
            "Recall@5: 0.04685\n",
            "========================================================================================================================\n"
          ],
          "name": "stdout"
        }
      ]
    },
    {
      "cell_type": "markdown",
      "metadata": {
        "id": "ggXH701Wt8KH",
        "colab_type": "text"
      },
      "source": [
        "## Item-based Collaborative Filtering:\n",
        "\n",
        "Imagine now for Daven, instead of focusing on his friends, we could focus on what items from all the options are more similar to what we know he enjoys. This new focus is known as Item-Based Collaborative Filtering (IB-CF).\n",
        "\n",
        "The difference between User-based and this method is that, in this case, we directly pre-calculate the similarity between the co-rated items, skipping K-neighborhood search.\n",
        "\n",
        "This algorithm needs two tasks:\n",
        "\n",
        "1. Calculate similarity among the items, such as cosine-based similarity.\n",
        "2.Calculation of Prediction in weighted sum method.\n",
        "\n"
      ]
    },
    {
      "cell_type": "markdown",
      "metadata": {
        "id": "W89iJPW_Y9vh",
        "colab_type": "text"
      },
      "source": [
        "## Use the Surprise Library"
      ]
    },
    {
      "cell_type": "code",
      "metadata": {
        "id": "Q-6CMCLwY8uW",
        "colab_type": "code",
        "colab": {
          "base_uri": "https://localhost:8080/",
          "height": 485
        },
        "outputId": "28b1b9df-be71-486b-f31e-159a27cf70c2"
      },
      "source": [
        "from utils import *\n",
        "from surprise import KNNWithMeans\n",
        "from surprise.model_selection import cross_validate\n",
        "import warnings; warnings.simplefilter('ignore')\n",
        "\n",
        "# Load the data\n",
        "data, n_users, n_items = spr_loadData('ml-100k.data')\n",
        "\n",
        "# Select Algorithm KNNWithMeans and Run It\n",
        "sim_options = {'name': 'cosine',\n",
        "               'user_based': False  # compute similarities between items\n",
        "              }\n",
        "algo = KNNWithMeans(k=n_items,sim_options=sim_options)\n",
        "cross_validate(algo, data, measures=['RMSE'], cv=5, verbose=True)"
      ],
      "execution_count": 43,
      "outputs": [
        {
          "output_type": "stream",
          "text": [
            "Computing the cosine similarity matrix...\n",
            "Done computing similarity matrix.\n",
            "Computing the cosine similarity matrix...\n",
            "Done computing similarity matrix.\n",
            "Computing the cosine similarity matrix...\n",
            "Done computing similarity matrix.\n",
            "Computing the cosine similarity matrix...\n",
            "Done computing similarity matrix.\n",
            "Computing the cosine similarity matrix...\n",
            "Done computing similarity matrix.\n",
            "Evaluating RMSE of algorithm KNNWithMeans on 5 split(s).\n",
            "\n",
            "                  Fold 1  Fold 2  Fold 3  Fold 4  Fold 5  Mean    Std     \n",
            "RMSE (testset)    0.9513  0.9469  0.9484  0.9414  0.9502  0.9476  0.0035  \n",
            "Fit time          1.87    1.97    1.94    1.92    1.91    1.92    0.03    \n",
            "Test time         6.20    6.45    6.34    6.52    6.15    6.33    0.14    \n"
          ],
          "name": "stdout"
        },
        {
          "output_type": "execute_result",
          "data": {
            "text/plain": [
              "{'fit_time': (1.8739957809448242,\n",
              "  1.9713001251220703,\n",
              "  1.940922498703003,\n",
              "  1.915846824645996,\n",
              "  1.914780616760254),\n",
              " 'test_rmse': array([0.95129766, 0.94685617, 0.94839681, 0.94137814, 0.95024335]),\n",
              " 'test_time': (6.201615333557129,\n",
              "  6.452512979507446,\n",
              "  6.342214107513428,\n",
              "  6.5168750286102295,\n",
              "  6.145419120788574)}"
            ]
          },
          "metadata": {
            "tags": []
          },
          "execution_count": 43
        }
      ]
    },
    {
      "cell_type": "markdown",
      "metadata": {
        "id": "29CqE42O2NA-",
        "colab_type": "text"
      },
      "source": [
        "### Cosine similarity"
      ]
    },
    {
      "cell_type": "code",
      "metadata": {
        "id": "TJFxtd7c04iU",
        "colab_type": "code",
        "colab": {}
      },
      "source": [
        "def cosSimilarityItem(data):\n",
        "    item_similarity = cosine_similarity(data.T)\n",
        "    return item_similarity"
      ],
      "execution_count": 0,
      "outputs": []
    },
    {
      "cell_type": "markdown",
      "metadata": {
        "id": "rnSoRNkz1Fx6",
        "colab_type": "text"
      },
      "source": [
        "### Prediction formula\n",
        "\n",
        "refer to lecture notes, item based collaborative filtering.\n",
        "\n",
        "![alt text](https://cdn-images-1.medium.com/max/800/1*Euu92KfKBZJRwXVyqVkH9w.jpeg)\n"
      ]
    },
    {
      "cell_type": "code",
      "metadata": {
        "id": "xX_K4aix1GL9",
        "colab_type": "code",
        "colab": {}
      },
      "source": [
        "def predictItem(ratings, similarity, num_users):\n",
        "    # The Average Rating Values for Each Item\n",
        "    mean_item_rating = np.repeat(np.array([ratings.mean(axis=0)]), num_users, axis=0)\n",
        "\n",
        "    # The Difference Between Each Rating Value and The Average Value\n",
        "    ratings_diff = ratings - mean_item_rating\n",
        "\n",
        "    # Calculate the Predicted Score\n",
        "    pred = mean_item_rating + \\\n",
        "           np.dot(ratings_diff, similarity) / np.abs(similarity).sum(axis=1)\n",
        "\n",
        "    return pred"
      ],
      "execution_count": 0,
      "outputs": []
    },
    {
      "cell_type": "markdown",
      "metadata": {
        "id": "yWrmUivl1fWS",
        "colab_type": "text"
      },
      "source": [
        "\n",
        "### Item kNN Main Program\n",
        "\n"
      ]
    },
    {
      "cell_type": "code",
      "metadata": {
        "id": "ISRl8o4XCc4J",
        "colab_type": "code",
        "colab": {
          "base_uri": "https://localhost:8080/",
          "height": 329
        },
        "outputId": "c5db7b7f-739d-4c14-dac1-020e094135a6"
      },
      "source": [
        "if __name__ == '__main__':\n",
        "    # Load Data\n",
        "    train, test, num_users, num_items, uid_min, iid_min = loadData(test_size=0.2)\n",
        "    train_array, test_array = train.toarray(), test.toarray()\n",
        "\n",
        "    # Similarity And Prediction Matrices (Item)\n",
        "    similarity_item_array = cosSimilarityItem(train_array)\n",
        "    pred_item_array = predictItem(train_array, similarity_item_array, num_users)\n",
        "\n",
        "    # Recommendation\n",
        "    rec_list = recItemsForOneUser(pred_item_array, train_array, 257, 10)\n",
        "    print(\"The Recommendation List for User Is: \" + str(rec_list+iid_min))\n",
        "    print(\"=\" * 120)\n",
        "    \n",
        "    # Metrics Calculation\n",
        "    calMetrics(train_array, test_array, pred_item_array, 5)"
      ],
      "execution_count": 46,
      "outputs": [
        {
          "output_type": "stream",
          "text": [
            "Data Preview:\n",
            "   uid  iid  ratings       time\n",
            "0  196  242        3  881250949\n",
            "1  186  302        3  891717742\n",
            "2   22  377        1  878887116\n",
            "3  244   51        2  880606923\n",
            "4  166  346        1  886397596\n",
            "========================================================================================================================\n",
            "Number of Users: 943\n",
            "Number of Items: 1682\n",
            "========================================================================================================================\n",
            "Sample Data: [[5 3 4 ... 0 0 0]]\n",
            "========================================================================================================================\n",
            "The Recommendation List for User Is: [ 50 100 181 127   1 174 286  98 288  56]\n",
            "========================================================================================================================\n",
            "Precision@5: 0.3786\n",
            "Recall@5: 0.05255\n",
            "========================================================================================================================\n"
          ],
          "name": "stdout"
        }
      ]
    },
    {
      "cell_type": "markdown",
      "metadata": {
        "id": "1Q0fAwseAyoM",
        "colab_type": "text"
      },
      "source": [
        "## Quiz Question 2: \n",
        "In the tutorial we compute the precison and recall metrics. These metrics are for ranking tasks.\n",
        "For the prediction task, we usually use the Root-Mean-Square (RMS) metrics.\n",
        "\n",
        "Can you change the above code to calculate the RMS value between the prediction ratings and ground-truth (testing) ratings?\n",
        "\n",
        "![RMS](https://www.includehelp.com/ml-ai/Images/rmse-1.jpg)\n",
        "\n",
        "\n",
        "You can refer to the sklearn package for RMSE calculation [here](https://scikit-learn.org/stable/modules/generated/sklearn.metrics.mean_squared_error.html)"
      ]
    },
    {
      "cell_type": "code",
      "metadata": {
        "id": "LJfBUEgBBQww",
        "colab_type": "code",
        "colab": {}
      },
      "source": [
        "from sklearn.metrics import mean_squared_error\n",
        "\n",
        "def RMS(pred_rating_array, test_rating_array):\n",
        "    # Assume you have the inputs: the predicted rating array and the testing rating array\n",
        "    rms = mean_squared_error(pred_rating_array, test_rating_array)\n",
        "    return rms\n",
        "    "
      ],
      "execution_count": 0,
      "outputs": []
    },
    {
      "cell_type": "markdown",
      "metadata": {
        "id": "4pFwNfvnw-Mn",
        "colab_type": "text"
      },
      "source": [
        "### Modify the following function to calculate the RMS metrics of the recommendation"
      ]
    },
    {
      "cell_type": "code",
      "metadata": {
        "id": "W38g0zi9s7qk",
        "colab_type": "code",
        "colab": {}
      },
      "source": [
        "def calMetrics(pred_array, test_array):\n",
        "    # Filter the Original Prediction Array with Only Testing Items Left\n",
        "    \n",
        "    # Calculate RMS value\n",
        "    RMS_Val = RMS(pred_array, test_array)\n",
        "    \n",
        "    # Print it Out\n",
        "    print(\"RMS: \"+str(RMS_Val))"
      ],
      "execution_count": 0,
      "outputs": []
    },
    {
      "cell_type": "markdown",
      "metadata": {
        "id": "Szwe-M8nxjZU",
        "colab_type": "text"
      },
      "source": [
        "### Main Function"
      ]
    },
    {
      "cell_type": "code",
      "metadata": {
        "id": "fk3b6iiEsz6E",
        "colab_type": "code",
        "colab": {
          "base_uri": "https://localhost:8080/",
          "height": 416
        },
        "outputId": "ecb80141-6220-433e-eb8d-f094f9ec53dd"
      },
      "source": [
        "if __name__ == '__main__':\n",
        "    # Load Data\n",
        "    train, test, num_users, num_items, uid_min, iid_min = loadData(test_size=0.2)\n",
        "    train_array, test_array = train.toarray(), test.toarray()\n",
        "    \n",
        "    # Similarity And Prediction Matrices (User)\n",
        "    similarity_user_array = cosSimilarityUser(train_array)\n",
        "    pred_user_array = predictUser(train_array, similarity_user_array, num_items)\n",
        "\n",
        "    # RMS\n",
        "    calMetrics(pred_user_array, test_array)"
      ],
      "execution_count": 49,
      "outputs": [
        {
          "output_type": "stream",
          "text": [
            "Data Preview:\n",
            "   uid  iid  ratings       time\n",
            "0  196  242        3  881250949\n",
            "1  186  302        3  891717742\n",
            "2   22  377        1  878887116\n",
            "3  244   51        2  880606923\n",
            "4  166  346        1  886397596\n",
            "========================================================================================================================\n",
            "Number of Users: 943\n",
            "Number of Items: 1682\n",
            "========================================================================================================================\n",
            "Sample Data: [[5 3 4 ... 0 0 0]]\n",
            "========================================================================================================================\n",
            "Similarity Matrix Sample\n",
            "[[1.         0.16359537 0.03365039 0.07323055 0.30757548]\n",
            " [0.16359537 1.         0.08520491 0.16757297 0.07164769]\n",
            " [0.03365039 0.08520491 1.         0.19338712 0.02781491]\n",
            " [0.07323055 0.16757297 0.19338712 1.         0.03761586]\n",
            " [0.30757548 0.07164769 0.02781491 0.03761586 1.        ]]\n",
            "Similarity Matrix Dimension\n",
            "(943, 943)\n",
            "========================================================================================================================\n",
            "RMS: 0.2548561785589866\n"
          ],
          "name": "stdout"
        }
      ]
    },
    {
      "cell_type": "code",
      "metadata": {
        "id": "xvv_Utv4iyu-",
        "colab_type": "code",
        "colab": {}
      },
      "source": [
        ""
      ],
      "execution_count": 0,
      "outputs": []
    }
  ]
}