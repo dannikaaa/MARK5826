{
  "nbformat": 4,
  "nbformat_minor": 0,
  "metadata": {
    "colab": {
      "name": "5826 - Matrix Factorization Tutorial.ipynb",
      "version": "0.3.2",
      "provenance": [],
      "collapsed_sections": []
    },
    "kernelspec": {
      "name": "python3",
      "display_name": "Python 3"
    }
  },
  "cells": [
    {
      "cell_type": "markdown",
      "metadata": {
        "id": "OAdi1tLKFIHI",
        "colab_type": "text"
      },
      "source": [
        "![alt text](https://www.business.unsw.edu.au/style%20library/asb/assets/images/logo-unsw.png)"
      ]
    },
    {
      "cell_type": "markdown",
      "metadata": {
        "id": "DZ0n9k5mFJvH",
        "colab_type": "text"
      },
      "source": [
        "\n",
        "# MARK5826: Matrix factorization \n",
        "\n",
        "In this tutorial, we will keep analyzing a dataset which have 100k rating informations contains 943 users and 1682 movies."
      ]
    },
    {
      "cell_type": "markdown",
      "metadata": {
        "id": "Uf983IjmFxCk",
        "colab_type": "text"
      },
      "source": [
        "## Introduction:\n",
        "**Matrix factorization**: given a matrix R, we want to find a suitable U (User latent matrix) and V(Item latent matrix) which could reflect the prediction of user and item.\n",
        "\n",
        "![alt text](https://i.ibb.co/L5Tdfxn/image.png)\n",
        "\n",
        "**Loss function**: The concept of loss function is simple. it’s a method of evaluating how well your algorithm models your dataset. If your predictions are totally off, your loss function will output a higher number. If they’re pretty good, it’ll output a lower number. \n",
        "Machine learning is not a magic, machines just learn by means of a loss function."
      ]
    },
    {
      "cell_type": "markdown",
      "metadata": {
        "id": "MNDk2GUPL6Pv",
        "colab_type": "text"
      },
      "source": [
        "### Including files and folders"
      ]
    },
    {
      "cell_type": "code",
      "metadata": {
        "id": "W9kMCZwHM5Gn",
        "colab_type": "code",
        "colab": {
          "resources": {
            "http://localhost:8080/nbextensions/google.colab/files.js": {
              "data": "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",
              "ok": true,
              "headers": [
                [
                  "content-type",
                  "application/javascript"
                ]
              ],
              "status": 200,
              "status_text": ""
            }
          },
          "base_uri": "https://localhost:8080/",
          "height": 58
        },
        "outputId": "bd9c67f5-3f56-4f63-bd59-5e6b42edf73f"
      },
      "source": [
        "from google.colab import files\n",
        "\n",
        "# Upload the dataset movielens_100k\n",
        "files.upload()"
      ],
      "execution_count": 1,
      "outputs": [
        {
          "output_type": "display_data",
          "data": {
            "text/html": [
              "\n",
              "     <input type=\"file\" id=\"files-52bd6524-67ac-461e-8b51-0dfdc31fb544\" name=\"files[]\" multiple disabled />\n",
              "     <output id=\"result-52bd6524-67ac-461e-8b51-0dfdc31fb544\">\n",
              "      Upload widget is only available when the cell has been executed in the\n",
              "      current browser session. Please rerun this cell to enable.\n",
              "      </output>\n",
              "      <script src=\"/nbextensions/google.colab/files.js\"></script> "
            ],
            "text/plain": [
              "<IPython.core.display.HTML object>"
            ]
          },
          "metadata": {
            "tags": []
          }
        },
        {
          "output_type": "execute_result",
          "data": {
            "text/plain": [
              "{}"
            ]
          },
          "metadata": {
            "tags": []
          },
          "execution_count": 1
        }
      ]
    },
    {
      "cell_type": "code",
      "metadata": {
        "id": "dwmUR9ginubl",
        "colab_type": "code",
        "colab": {
          "resources": {
            "http://localhost:8080/nbextensions/google.colab/files.js": {
              "data": "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",
              "ok": true,
              "headers": [
                [
                  "content-type",
                  "application/javascript"
                ]
              ],
              "status": 200,
              "status_text": ""
            }
          },
          "base_uri": "https://localhost:8080/",
          "height": 58
        },
        "outputId": "3cd93d3a-1faf-4011-aa54-805d7d2cfced"
      },
      "source": [
        "from google.colab import files\n",
        "\n",
        "# Upload utils.py\n",
        "files.upload()\n"
      ],
      "execution_count": 2,
      "outputs": [
        {
          "output_type": "display_data",
          "data": {
            "text/html": [
              "\n",
              "     <input type=\"file\" id=\"files-30ac9fa4-22a3-41e2-b513-f691f7eb9024\" name=\"files[]\" multiple disabled />\n",
              "     <output id=\"result-30ac9fa4-22a3-41e2-b513-f691f7eb9024\">\n",
              "      Upload widget is only available when the cell has been executed in the\n",
              "      current browser session. Please rerun this cell to enable.\n",
              "      </output>\n",
              "      <script src=\"/nbextensions/google.colab/files.js\"></script> "
            ],
            "text/plain": [
              "<IPython.core.display.HTML object>"
            ]
          },
          "metadata": {
            "tags": []
          }
        },
        {
          "output_type": "execute_result",
          "data": {
            "text/plain": [
              "{}"
            ]
          },
          "metadata": {
            "tags": []
          },
          "execution_count": 2
        }
      ]
    },
    {
      "cell_type": "markdown",
      "metadata": {
        "id": "JZsXzWWvIn9d",
        "colab_type": "text"
      },
      "source": [
        "## Use the SURPRISE Recommendation Library\n",
        "\n",
        "### [SURPRISE Library](http://surpriselib.com/)\n",
        "\n",
        "### Surprise is a Python scikit building and analyzing recommender systems\n"
      ]
    },
    {
      "cell_type": "code",
      "metadata": {
        "id": "zQcR_t29Nopj",
        "colab_type": "code",
        "colab": {
          "base_uri": "https://localhost:8080/",
          "height": 104
        },
        "outputId": "2ef354a1-a4b6-4f53-c9fa-22595897eecb"
      },
      "source": [
        "!pip install scikit-surprise"
      ],
      "execution_count": 3,
      "outputs": [
        {
          "output_type": "stream",
          "text": [
            "Requirement already satisfied: scikit-surprise in /usr/local/lib/python3.6/dist-packages (1.0.6)\n",
            "Requirement already satisfied: numpy>=1.11.2 in /usr/local/lib/python3.6/dist-packages (from scikit-surprise) (1.16.4)\n",
            "Requirement already satisfied: six>=1.10.0 in /usr/local/lib/python3.6/dist-packages (from scikit-surprise) (1.12.0)\n",
            "Requirement already satisfied: scipy>=1.0.0 in /usr/local/lib/python3.6/dist-packages (from scikit-surprise) (1.3.0)\n",
            "Requirement already satisfied: joblib>=0.11 in /usr/local/lib/python3.6/dist-packages (from scikit-surprise) (0.13.2)\n"
          ],
          "name": "stdout"
        }
      ]
    },
    {
      "cell_type": "code",
      "metadata": {
        "id": "0JaDmENlNq69",
        "colab_type": "code",
        "colab": {
          "base_uri": "https://localhost:8080/",
          "height": 312
        },
        "outputId": "4344f82c-41cf-44db-988c-e9bf46bfc8d2"
      },
      "source": [
        "from utils import *\n",
        "from surprise.model_selection import cross_validate\n",
        "from surprise import SVD\n",
        "import warnings; warnings.simplefilter('ignore')\n",
        "\n",
        "# Load the data\n",
        "data, n_users, n_items = spr_loadData('ml-100k.data')\n",
        "\n",
        "# Select Algorithm SVD and Run It\n",
        "algo = SVD()\n",
        "cross_validate(algo, data, measures=['RMSE'], cv=5, verbose=True)"
      ],
      "execution_count": 4,
      "outputs": [
        {
          "output_type": "stream",
          "text": [
            "Evaluating RMSE of algorithm SVD on 5 split(s).\n",
            "\n",
            "                  Fold 1  Fold 2  Fold 3  Fold 4  Fold 5  Mean    Std     \n",
            "RMSE (testset)    0.9307  0.9351  0.9414  0.9413  0.9289  0.9355  0.0052  \n",
            "Fit time          6.08    6.10    6.04    6.02    6.03    6.05    0.03    \n",
            "Test time         0.16    0.27    0.16    0.16    0.26    0.20    0.05    \n"
          ],
          "name": "stdout"
        },
        {
          "output_type": "execute_result",
          "data": {
            "text/plain": [
              "{'fit_time': (6.084584712982178,\n",
              "  6.097024202346802,\n",
              "  6.035595417022705,\n",
              "  6.0150306224823,\n",
              "  6.034153938293457),\n",
              " 'test_rmse': array([0.93068572, 0.93505461, 0.94141642, 0.94132203, 0.92888099]),\n",
              " 'test_time': (0.16487550735473633,\n",
              "  0.2674708366394043,\n",
              "  0.16092348098754883,\n",
              "  0.16403651237487793,\n",
              "  0.257692813873291)}"
            ]
          },
          "metadata": {
            "tags": []
          },
          "execution_count": 4
        }
      ]
    },
    {
      "cell_type": "markdown",
      "metadata": {
        "id": "bBfq5anFQ3cL",
        "colab_type": "text"
      },
      "source": [
        "## Basic Matrix Factorization Using SVD\n",
        "\n",
        "#### Rating Prediction By Inner Products\n",
        "![alt text](https://cdn-images-1.medium.com/max/800/1*WWO2sCXvTdQpAtLEJ5h9Zg.png)\n",
        "\n",
        "#### Loss Function\n",
        "![Loss Function](https://cdn-images-1.medium.com/max/800/1*l1oezj1Ze8JbBZttYYVHmA.png)\n",
        "\n",
        "#### Updating Algorithm\n",
        "![alt text](https://cdn-images-1.medium.com/max/800/1*MdWVINJBDAOofbgQcyRbCw.png)\n"
      ]
    },
    {
      "cell_type": "code",
      "metadata": {
        "id": "Yx-N6vqAs2F3",
        "colab_type": "code",
        "colab": {}
      },
      "source": [
        "from utils import *\n",
        "import warnings; warnings.simplefilter('ignore')\n",
        "\n",
        "class MF(object):\n",
        "    def __init__(self,\n",
        "                 num_factors = 16,\n",
        "                 regularizer=0.001,\n",
        "                 learning_rate=0.001,\n",
        "                 epochs=100,\n",
        "                 batch_size=128):\n",
        "\n",
        "        # Initialize Parameters\n",
        "        self.num_factors = num_factors # Dimension of the Latent Factor\n",
        "        self.regs = regularizer # Regularizer Coefficient\n",
        "\n",
        "        self.lr = learning_rate # Learning Rate\n",
        "        self.epochs = epochs # How many number of Training Loops\n",
        "        self.batch_size = batch_size # How many data is fed into the training algorithm in each epoch\n",
        "\n",
        "    def prepare_data(self, test_size=0.2, datafile='ml-100k.data'):\n",
        "        # Load Data\n",
        "        train_matrix, test_matrix, num_user, num_item, uid_min, iid_min = loadData(test_size, datafile)\n",
        "        self.num_user, self.num_item = num_user, num_item\n",
        "\n",
        "        # Store the user IDs in a list, the item IDs in a list and the ratings in a list\n",
        "        train_matrix, test_matrix = train_matrix.tocoo(), test_matrix.tocoo()\n",
        "        self.train_uid, self.train_iid, self.train_ratings = list(train_matrix.row),list(train_matrix.col),list(train_matrix.data)\n",
        "        self.test_uid, self.test_iid, self.test_ratings = list(test_matrix.row),list(test_matrix.col),list(test_matrix.data)\n",
        "\n",
        "        # Calculate the average of all ratings (the mu value in the equation)\n",
        "        self.mu = np.mean(self.train_ratings)\n",
        "\n",
        "        # Total number of training data instances\n",
        "        self.num_training = len(self.train_ratings)\n",
        "\n",
        "        # Number of batches\n",
        "        self.num_batch = int(self.num_training / self.batch_size)\n",
        "        print(\"Data Preparation Completed.\")\n",
        "\n",
        "    # Build the model for customized SGD algorithm\n",
        "    def build_model_np(self):\n",
        "        # Initialize all the parameters (Use Normal Distribution)\n",
        "        # bu and bi are vectors (Note the dimension)\n",
        "        self.bu = np.random.normal(scale = 1. / self.num_factors, size=[self.num_user])\n",
        "        self.bi = np.random.normal(scale = 1. / self.num_factors, size=[self.num_item])\n",
        "\n",
        "        # P and Q are matrices (Note the dimension)\n",
        "        self.P = np.random.normal(scale=1. / self.num_factors, size=[self.num_user, self.num_factors])\n",
        "        self.Q = np.random.normal(scale=1. / self.num_factors, size=[self.num_factors, self.num_item])\n",
        "        print(\"Parameter Initialization Completed.\")\n",
        "\n",
        "    # Training using SGD algorithm\n",
        "    def train_one_epoch_np(self):\n",
        "        for uid, iid, ratings in list(zip(self.train_uid, self.train_iid, self.train_ratings)):\n",
        "            # The estimated rating\n",
        "            pred_r = self.mu + self.bu[uid] + self.bi[iid] + np.dot(self.Q[:, iid], self.P[uid, :])\n",
        "\n",
        "            # Calculate the loss of this specific user-item pair\n",
        "            error = ratings - pred_r\n",
        "\n",
        "            # Update the parameters\n",
        "            self.bu[uid] = self.bu[uid] + self.lr * (error - self.regs * self.bu[uid])\n",
        "            self.bi[iid] = self.bi[iid] + self.lr * (error - self.regs * self.bi[iid])\n",
        "            self.P[uid, :] = self.P[uid, :] + self.lr * (error * self.Q[:, iid] - self.regs * self.P[uid, :])\n",
        "            self.Q[:, iid] = self.Q[:, iid] + self.lr * (error * self.P[uid, :] - self.regs * self.Q[:, iid])\n",
        "\n",
        "    # Eval on the testing dataset\n",
        "    def eval_one_epoch_np(self, epoch):\n",
        "        rms_test_list, rms_train_list = [], []\n",
        "\n",
        "        for uid, iid, ratings in list(zip(self.test_uid, self.test_iid, self.test_ratings)):\n",
        "            rms_test_list.append(\n",
        "                (self.mu + self.bu[uid] + self.bi[iid] + np.dot(self.Q[:, iid], self.P[uid, :]) - ratings) ** 2)\n",
        "\n",
        "        for uid, iid, ratings in list(zip(self.train_uid, self.train_iid, self.train_ratings)):\n",
        "            rms_train_list.append(\n",
        "                (self.mu + self.bu[uid] + self.bi[iid] + np.dot(self.Q[:, iid], self.P[uid, :]) - ratings) ** 2)\n",
        "\n",
        "        rms_test = np.sqrt(np.mean(rms_test_list))\n",
        "        rms_train = np.sqrt(np.mean(rms_train_list))\n",
        "        print(\"Epoch {0} Training: [RMS] {1} and Testing: [RMS] {2}\".format(epoch, rms_train, rms_test))\n",
        "\n",
        "    # Final training using the SGD algorithm\n",
        "    def train_np(self):\n",
        "        # Before Training\n",
        "        self.eval_one_epoch_np(-1)\n",
        "        # Start Training\n",
        "        for i in range(self.epochs):\n",
        "            self.train_one_epoch_np()\n",
        "            self.eval_one_epoch_np(i)"
      ],
      "execution_count": 0,
      "outputs": []
    },
    {
      "cell_type": "markdown",
      "metadata": {
        "id": "e4GE_oRCnJY8",
        "colab_type": "text"
      },
      "source": [
        "### The Main Program\n"
      ]
    },
    {
      "cell_type": "code",
      "metadata": {
        "id": "_1HZTo_LnIfq",
        "colab_type": "code",
        "colab": {
          "base_uri": "https://localhost:8080/",
          "height": 1000
        },
        "outputId": "203f3e3a-8361-43e7-f8a7-a3bff29fb27d"
      },
      "source": [
        "if __name__ == \"__main__\":\n",
        "    model = MF( num_factors = 700,\n",
        "                regularizer = 1e-3,\n",
        "                learning_rate=0.005,\n",
        "                epochs=50,\n",
        "                batch_size=128)\n",
        "\n",
        "    model.prepare_data()\n",
        "    model.build_model_np()\n",
        "    model.train_np()\n"
      ],
      "execution_count": 6,
      "outputs": [
        {
          "output_type": "stream",
          "text": [
            "Data Preview:\n",
            "   uid  iid  ratings       time\n",
            "0  196  242        3  881250949\n",
            "1  186  302        3  891717742\n",
            "2   22  377        1  878887116\n",
            "3  244   51        2  880606923\n",
            "4  166  346        1  886397596\n",
            "========================================================================================================================\n",
            "Number of Users: 943\n",
            "Number of Items: 1682\n",
            "========================================================================================================================\n",
            "Sample Data: [[5 3 4 ... 0 0 0]]\n",
            "========================================================================================================================\n",
            "Data Preparation Completed.\n",
            "Parameter Initialization Completed.\n",
            "Epoch -1 Training: [RMS] 1.12554580886021 and Testing: [RMS] 1.126324386619359\n",
            "Epoch 0 Training: [RMS] 0.9971983841970238 and Testing: [RMS] 1.006368217098477\n",
            "Epoch 1 Training: [RMS] 0.9663916476486082 and Testing: [RMS] 0.9797529540842551\n",
            "Epoch 2 Training: [RMS] 0.9518714830249156 and Testing: [RMS] 0.967693601363532\n",
            "Epoch 3 Training: [RMS] 0.9430844564517317 and Testing: [RMS] 0.9606561194749418\n",
            "Epoch 4 Training: [RMS] 0.9371057214543206 and Testing: [RMS] 0.9560408384860962\n",
            "Epoch 5 Training: [RMS] 0.9327672261413358 and Testing: [RMS] 0.9528179722846523\n",
            "Epoch 6 Training: [RMS] 0.9294867549104853 and Testing: [RMS] 0.9504780957556713\n",
            "Epoch 7 Training: [RMS] 0.9269314426822198 and Testing: [RMS] 0.9487326419634565\n",
            "Epoch 8 Training: [RMS] 0.9248933315973044 and Testing: [RMS] 0.9474034440099202\n",
            "Epoch 9 Training: [RMS] 0.9232342247200507 and Testing: [RMS] 0.9463738855061825\n",
            "Epoch 10 Training: [RMS] 0.9218578372030423 and Testing: [RMS] 0.9455643046970537\n",
            "Epoch 11 Training: [RMS] 0.9206942935605568 and Testing: [RMS] 0.944918375946154\n",
            "Epoch 12 Training: [RMS] 0.9196908005045581 and Testing: [RMS] 0.9443949987148677\n",
            "Epoch 13 Training: [RMS] 0.9188056307711542 and Testing: [RMS] 0.9439631628423971\n",
            "Epoch 14 Training: [RMS] 0.9180039498531578 and Testing: [RMS] 0.9435985017211567\n",
            "Epoch 15 Training: [RMS] 0.9172546616167273 and Testing: [RMS] 0.943280820681221\n",
            "Epoch 16 Training: [RMS] 0.9165277658475742 and Testing: [RMS] 0.9429921744213763\n",
            "Epoch 17 Training: [RMS] 0.9157918860621345 and Testing: [RMS] 0.9427152195274352\n",
            "Epoch 18 Training: [RMS] 0.9150117229147455 and Testing: [RMS] 0.9424316582853328\n",
            "Epoch 19 Training: [RMS] 0.9141452696289128 and Testing: [RMS] 0.942120660644808\n",
            "Epoch 20 Training: [RMS] 0.9131407414570891 and Testing: [RMS] 0.9417572390429518\n",
            "Epoch 21 Training: [RMS] 0.9119333872721785 and Testing: [RMS] 0.9413106999500934\n",
            "Epoch 22 Training: [RMS] 0.9104427558050618 and Testing: [RMS] 0.9407435614027079\n",
            "Epoch 23 Training: [RMS] 0.9085716637571423 and Testing: [RMS] 0.9400117522969481\n",
            "Epoch 24 Training: [RMS] 0.906209019230702 and Testing: [RMS] 0.9390674502689427\n",
            "Epoch 25 Training: [RMS] 0.9032393614374115 and Testing: [RMS] 0.937866249153861\n",
            "Epoch 26 Training: [RMS] 0.8995613024344631 and Testing: [RMS] 0.9363796522155237\n",
            "Epoch 27 Training: [RMS] 0.8951131851007722 and Testing: [RMS] 0.9346109988466678\n",
            "Epoch 28 Training: [RMS] 0.8898966638969569 and Testing: [RMS] 0.9326077681118722\n",
            "Epoch 29 Training: [RMS] 0.8839821953798584 and Testing: [RMS] 0.9304594169142189\n",
            "Epoch 30 Training: [RMS] 0.877484859412904 and Testing: [RMS] 0.928274677850561\n",
            "Epoch 31 Training: [RMS] 0.8705188175859901 and Testing: [RMS] 0.9261473521582947\n",
            "Epoch 32 Training: [RMS] 0.8631577997176808 and Testing: [RMS] 0.9241318521099491\n",
            "Epoch 33 Training: [RMS] 0.8554238738280848 and Testing: [RMS] 0.9222427693579525\n",
            "Epoch 34 Training: [RMS] 0.8473016105705607 and Testing: [RMS] 0.920472535893845\n",
            "Epoch 35 Training: [RMS] 0.8387586111606533 and Testing: [RMS] 0.9188104840601178\n",
            "Epoch 36 Training: [RMS] 0.8297589711204686 and Testing: [RMS] 0.9172529150585805\n",
            "Epoch 37 Training: [RMS] 0.8202692502577963 and Testing: [RMS] 0.9158045599009884\n",
            "Epoch 38 Training: [RMS] 0.810261982746681 and Testing: [RMS] 0.9144761523395215\n",
            "Epoch 39 Training: [RMS] 0.799719314034676 and Testing: [RMS] 0.9132813816289571\n",
            "Epoch 40 Training: [RMS] 0.7886357653990987 and Testing: [RMS] 0.912234161747692\n",
            "Epoch 41 Training: [RMS] 0.77701851527293 and Testing: [RMS] 0.9113462919214533\n",
            "Epoch 42 Training: [RMS] 0.7648852721486311 and Testing: [RMS] 0.9106257394123813\n",
            "Epoch 43 Training: [RMS] 0.7522612910147014 and Testing: [RMS] 0.9100759045454897\n",
            "Epoch 44 Training: [RMS] 0.739177076879256 and Testing: [RMS] 0.9096959615614958\n",
            "Epoch 45 Training: [RMS] 0.7256673355717763 and Testing: [RMS] 0.9094819611133779\n",
            "Epoch 46 Training: [RMS] 0.7117708310247357 and Testing: [RMS] 0.909428166772236\n",
            "Epoch 47 Training: [RMS] 0.6975305041869819 and Testing: [RMS] 0.9095281695987716\n",
            "Epoch 48 Training: [RMS] 0.6829933734938392 and Testing: [RMS] 0.9097755564397867\n",
            "Epoch 49 Training: [RMS] 0.6682100324263807 and Testing: [RMS] 0.9101641317394084\n"
          ],
          "name": "stdout"
        }
      ]
    },
    {
      "cell_type": "markdown",
      "metadata": {
        "id": "wpmNq1xSrV70",
        "colab_type": "text"
      },
      "source": [
        "### We got better results than the SURPRISE library\n",
        "\n",
        "Ours: RMSE: 0.919\n",
        "\n",
        "SURPRISE: RMSE: 0.935\n",
        "\n",
        "\n",
        "### Overfitting\n",
        "\n",
        "The training RMSE keeps going down, while the testing RMSE goes down first and then goes up."
      ]
    },
    {
      "cell_type": "markdown",
      "metadata": {
        "id": "xkw-FkYUq9OD",
        "colab_type": "text"
      },
      "source": [
        "## Quiz Question 1: \n",
        "\n",
        "In this tutorial, we implement the SVD algorithm for matrix factorization. There are many other more advanced algorithms for matrix factorization.\n",
        "\n",
        "Please use the [SURPRISE Library](http://surpriselib.com/) to see the results of SVD++ matrix factorization algorithm.\n"
      ]
    },
    {
      "cell_type": "code",
      "metadata": {
        "id": "pZWHfzYVuElD",
        "colab_type": "code",
        "colab": {
          "base_uri": "https://localhost:8080/",
          "height": 312
        },
        "outputId": "14cf8756-678b-4933-b4ad-cd177d8a4229"
      },
      "source": [
        "from surprise.model_selection import cross_validate\n",
        "# Now import the SVD++ algorithm\n",
        "from surprise import SVDpp\n",
        "\n",
        "import warnings; warnings.simplefilter('ignore')\n",
        "\n",
        "# Load the data\n",
        "data, n_users, n_items = spr_loadData('ml-100k.data')\n",
        "\n",
        "# Select Algorithm SVDpp and Run It\n",
        "# Put your code here\n",
        "# (Hint: follow the first piece of code using SURPRISE library, only two lines of code are needed here.)\n",
        "algo = SVDpp()\n",
        "cross_validate(algo, data, measures=['RMSE'], cv=5, verbose=True)\n",
        "#cross_validate(SVDpp(), data, cv=5, measures=['RMSE','MAE'], verbose=False)\n",
        "#mae include it & runs for a long time "
      ],
      "execution_count": 15,
      "outputs": [
        {
          "output_type": "stream",
          "text": [
            "Evaluating RMSE of algorithm SVDpp on 5 split(s).\n",
            "\n",
            "                  Fold 1  Fold 2  Fold 3  Fold 4  Fold 5  Mean    Std     \n",
            "RMSE (testset)    0.9161  0.9146  0.9135  0.9289  0.9228  0.9192  0.0058  \n",
            "Fit time          229.84  232.02  227.35  229.80  228.62  229.53  1.55    \n",
            "Test time         4.04    4.25    4.00    4.28    3.99    4.11    0.13    \n"
          ],
          "name": "stdout"
        },
        {
          "output_type": "execute_result",
          "data": {
            "text/plain": [
              "{'fit_time': (229.83723187446594,\n",
              "  232.02133202552795,\n",
              "  227.35451984405518,\n",
              "  229.80094861984253,\n",
              "  228.6177065372467),\n",
              " 'test_rmse': array([0.91606047, 0.91458999, 0.9134821 , 0.92888334, 0.92279902]),\n",
              " 'test_time': (4.042974233627319,\n",
              "  4.254604816436768,\n",
              "  4.0020911693573,\n",
              "  4.276906728744507,\n",
              "  3.9913265705108643)}"
            ]
          },
          "metadata": {
            "tags": []
          },
          "execution_count": 15
        }
      ]
    },
    {
      "cell_type": "markdown",
      "metadata": {
        "id": "YUYQBQER-Mwu",
        "colab_type": "text"
      },
      "source": [
        "## Quiz Question 2:\n",
        "\n",
        "In our introduction to recommender systems, we have already covered the following methods: random, user-based collaborative filtering, item-based collaborative filtering, content-based recommendation, and matrix factorization using SVD. So, which one is better?\n",
        "\n",
        "Please complete the following code to compare these methods (we only use the SURPRISE library here)"
      ]
    },
    {
      "cell_type": "code",
      "metadata": {
        "id": "zh160BhT_nyZ",
        "colab_type": "code",
        "colab": {
          "base_uri": "https://localhost:8080/",
          "height": 1000
        },
        "outputId": "79a4be99-90a0-4cc1-c6f1-09fbfd86b641"
      },
      "source": [
        "from surprise.model_selection import cross_validate\n",
        "from surprise import NormalPredictor,KNNBasic,KNNWithMeans,SVD\n",
        "\n",
        "import warnings; warnings.simplefilter('ignore')\n",
        "\n",
        "# Load the data (you don't need to change this)\n",
        "data, n_users, n_items = spr_loadData('ml-100k.data')\n",
        "\n",
        "# Choose the algorithms (you don't need to change this part)\n",
        "sim_options_userCF = {'name': 'cosine',\n",
        "                       'user_based': True  # compute similarities between users\n",
        "                      }\n",
        "sim_options_itemCF = {'name': 'cosine',\n",
        "                       'user_based': False  # compute similarities between users\n",
        "                      }\n",
        "\n",
        "algo1 = NormalPredictor()\n",
        "algo2 = KNNBasic(k=n_users,sim_options=sim_options_userCF)\n",
        "algo3 = KNNBasic(k=n_items,sim_options=sim_options_itemCF)\n",
        "algo4 = KNNWithMeans(k=n_users,sim_options=sim_options_userCF)\n",
        "algo5 = KNNWithMeans(k=n_items,sim_options=sim_options_itemCF)\n",
        "algo6 = SVD()\n",
        "\n",
        "# Run the algorithms\n",
        "cross_validate(algo1, data, measures=['RMSE'], cv=5, verbose=True) # You don't need to change this line\n",
        "# Now run the other algorithms\n",
        "# Put your code here (Hint: follow the above line of code to run algo2 to algo6. \n",
        "#You only need to write 5 lines of code. Copy and Paste with little modification)\n",
        "cross_validate(algo2, data, measures=['RMSE'], cv=5, verbose=True) # You don't need to change this line\n",
        "cross_validate(algo3, data, measures=['RMSE'], cv=5, verbose=True) # You don't need to change this line\n",
        "cross_validate(algo4, data, measures=['RMSE'], cv=5, verbose=True) # You don't need to change this line\n",
        "cross_validate(algo5, data, measures=['RMSE'], cv=5, verbose=True) # You don't need to change this line\n",
        "cross_validate(algo6, data, measures=['RMSE'], cv=5, verbose=True) # You don't need to change this line"
      ],
      "execution_count": 14,
      "outputs": [
        {
          "output_type": "stream",
          "text": [
            "Evaluating RMSE of algorithm NormalPredictor on 5 split(s).\n",
            "\n",
            "                  Fold 1  Fold 2  Fold 3  Fold 4  Fold 5  Mean    Std     \n",
            "RMSE (testset)    1.5186  1.5088  1.5180  1.5251  1.5183  1.5178  0.0052  \n",
            "Fit time          0.14    0.17    0.17    0.17    0.17    0.17    0.01    \n",
            "Test time         0.14    0.14    0.14    0.14    0.14    0.14    0.00    \n",
            "Computing the cosine similarity matrix...\n",
            "Done computing similarity matrix.\n",
            "Computing the cosine similarity matrix...\n",
            "Done computing similarity matrix.\n",
            "Computing the cosine similarity matrix...\n",
            "Done computing similarity matrix.\n",
            "Computing the cosine similarity matrix...\n",
            "Done computing similarity matrix.\n",
            "Computing the cosine similarity matrix...\n",
            "Done computing similarity matrix.\n",
            "Evaluating RMSE of algorithm KNNBasic on 5 split(s).\n",
            "\n",
            "                  Fold 1  Fold 2  Fold 3  Fold 4  Fold 5  Mean    Std     \n",
            "RMSE (testset)    1.0193  1.0298  1.0215  1.0252  1.0248  1.0241  0.0036  \n",
            "Fit time          1.28    1.30    1.26    1.27    1.27    1.28    0.01    \n",
            "Test time         4.97    4.90    5.03    4.88    4.98    4.95    0.05    \n",
            "Computing the cosine similarity matrix...\n",
            "Done computing similarity matrix.\n",
            "Computing the cosine similarity matrix...\n",
            "Done computing similarity matrix.\n",
            "Computing the cosine similarity matrix...\n",
            "Done computing similarity matrix.\n",
            "Computing the cosine similarity matrix...\n",
            "Done computing similarity matrix.\n",
            "Computing the cosine similarity matrix...\n",
            "Done computing similarity matrix.\n",
            "Evaluating RMSE of algorithm KNNBasic on 5 split(s).\n",
            "\n",
            "                  Fold 1  Fold 2  Fold 3  Fold 4  Fold 5  Mean    Std     \n",
            "RMSE (testset)    1.0440  1.0419  1.0491  1.0429  1.0424  1.0441  0.0026  \n",
            "Fit time          2.02    1.99    2.03    1.95    1.96    1.99    0.03    \n",
            "Test time         5.88    5.74    5.89    5.78    5.82    5.82    0.06    \n",
            "Computing the cosine similarity matrix...\n",
            "Done computing similarity matrix.\n",
            "Computing the cosine similarity matrix...\n",
            "Done computing similarity matrix.\n",
            "Computing the cosine similarity matrix...\n",
            "Done computing similarity matrix.\n",
            "Computing the cosine similarity matrix...\n",
            "Done computing similarity matrix.\n",
            "Computing the cosine similarity matrix...\n",
            "Done computing similarity matrix.\n",
            "Evaluating RMSE of algorithm KNNWithMeans on 5 split(s).\n",
            "\n",
            "                  Fold 1  Fold 2  Fold 3  Fold 4  Fold 5  Mean    Std     \n",
            "RMSE (testset)    0.9598  0.9592  0.9722  0.9520  0.9612  0.9609  0.0065  \n",
            "Fit time          1.27    1.35    1.28    1.29    1.30    1.30    0.03    \n",
            "Test time         5.52    5.52    5.79    5.51    5.68    5.60    0.11    \n",
            "Computing the cosine similarity matrix...\n",
            "Done computing similarity matrix.\n",
            "Computing the cosine similarity matrix...\n",
            "Done computing similarity matrix.\n",
            "Computing the cosine similarity matrix...\n",
            "Done computing similarity matrix.\n",
            "Computing the cosine similarity matrix...\n",
            "Done computing similarity matrix.\n",
            "Computing the cosine similarity matrix...\n",
            "Done computing similarity matrix.\n",
            "Evaluating RMSE of algorithm KNNWithMeans on 5 split(s).\n",
            "\n",
            "                  Fold 1  Fold 2  Fold 3  Fold 4  Fold 5  Mean    Std     \n",
            "RMSE (testset)    0.9499  0.9537  0.9430  0.9446  0.9484  0.9479  0.0038  \n",
            "Fit time          1.96    2.03    2.04    2.03    2.03    2.02    0.03    \n",
            "Test time         6.49    6.62    6.50    6.66    6.44    6.54    0.08    \n",
            "Evaluating RMSE of algorithm SVD on 5 split(s).\n",
            "\n",
            "                  Fold 1  Fold 2  Fold 3  Fold 4  Fold 5  Mean    Std     \n",
            "RMSE (testset)    0.9324  0.9356  0.9431  0.9433  0.9240  0.9357  0.0072  \n",
            "Fit time          5.97    6.01    5.98    6.00    5.98    5.99    0.02    \n",
            "Test time         0.16    0.34    0.16    0.35    0.16    0.24    0.09    \n"
          ],
          "name": "stdout"
        },
        {
          "output_type": "execute_result",
          "data": {
            "text/plain": [
              "{'fit_time': (5.965492486953735,\n",
              "  6.01469612121582,\n",
              "  5.97943377494812,\n",
              "  5.9966583251953125,\n",
              "  5.975028991699219),\n",
              " 'test_rmse': array([0.93240281, 0.93564391, 0.94305857, 0.94330331, 0.92402091]),\n",
              " 'test_time': (0.1633281707763672,\n",
              "  0.34355926513671875,\n",
              "  0.16055798530578613,\n",
              "  0.3498365879058838,\n",
              "  0.16109061241149902)}"
            ]
          },
          "metadata": {
            "tags": []
          },
          "execution_count": 14
        }
      ]
    }
  ]
}